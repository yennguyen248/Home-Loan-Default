{
 "cells": [
  {
   "cell_type": "markdown",
   "metadata": {},
   "source": [
    "# Model Manager for Open Source models"
   ]
  },
  {
   "cell_type": "markdown",
   "metadata": {},
   "source": [
    "# PREPARATION: DATA IMPORT AND PACKAGE INSTALLATION"
   ]
  },
  {
   "cell_type": "code",
   "execution_count": 1,
   "metadata": {},
   "outputs": [
    {
     "name": "stderr",
     "output_type": "stream",
     "text": [
      "C:\\Users\\canyzn\\AppData\\Local\\Continuum\\anaconda3\\lib\\site-packages\\statsmodels\\tools\\_testing.py:19: FutureWarning: pandas.util.testing is deprecated. Use the functions in the public API at pandas.testing instead.\n",
      "  import pandas.util.testing as tm\n"
     ]
    }
   ],
   "source": [
    "#Import generic packages\n",
    "from pathlib import Path\n",
    "import pandas as pd\n",
    "import numpy as np\n",
    "import seaborn as sns\n",
    "import matplotlib.pyplot as plt\n",
    "import joblib\n",
    "import requests\n",
    "import os, json\n",
    "import pprint\n",
    "import getpass"
   ]
  },
  {
   "cell_type": "code",
   "execution_count": 2,
   "metadata": {},
   "outputs": [],
   "source": [
    "import sklearn"
   ]
  },
  {
   "cell_type": "code",
   "execution_count": 3,
   "metadata": {},
   "outputs": [
    {
     "data": {
      "text/plain": [
       "'0.24.1'"
      ]
     },
     "execution_count": 3,
     "metadata": {},
     "output_type": "execute_result"
    }
   ],
   "source": [
    "sklearn.__version__"
   ]
  },
  {
   "cell_type": "code",
   "execution_count": 4,
   "metadata": {},
   "outputs": [
    {
     "name": "stderr",
     "output_type": "stream",
     "text": [
      "C:\\Users\\canyzn\\AppData\\Local\\Continuum\\anaconda3\\lib\\site-packages\\statsmodels\\compat\\pandas.py:23: FutureWarning: The Panel class is removed from pandas. Accessing it from the top-level namespace will also be removed in the next version\n",
      "  data_klasses = (pandas.Series, pandas.DataFrame, pandas.Panel)\n"
     ]
    }
   ],
   "source": [
    "# Data Mining and Machine Learning packages\n",
    "from sklearn.pipeline import Pipeline\n",
    "from sklearn.preprocessing import OneHotEncoder\n",
    "from sklearn.compose import ColumnTransformer\n",
    "from sklearn.impute import SimpleImputer\n",
    "\n",
    "from sklearn.base import TransformerMixin\n",
    "import sklearn.metrics as metrics\n",
    "import sklearn.model_selection as model_selection\n",
    "import statsmodels.api as smodel\n",
    "from xgboost import XGBClassifier \n",
    "\n",
    "from sklearn.linear_model import LogisticRegression\n",
    "from sklearn.tree import DecisionTreeClassifier\n",
    "from sklearn.ensemble import RandomForestClassifier, GradientBoostingClassifier"
   ]
  },
  {
   "cell_type": "code",
   "execution_count": 5,
   "metadata": {},
   "outputs": [],
   "source": [
    "# Model Management packages\n",
    "#Import dependencies for pzmm package\n",
    "import requests\n",
    "#!pip install pysftp\n",
    "import pysftp\n",
    "import swat"
   ]
  },
  {
   "cell_type": "code",
   "execution_count": 6,
   "metadata": {},
   "outputs": [],
   "source": [
    "# Define file directory\n",
    "dm_nodedir = 'C:/Users/canyzn/Desktop/HMEQ/OpenMM'"
   ]
  },
  {
   "cell_type": "code",
   "execution_count": 7,
   "metadata": {},
   "outputs": [],
   "source": [
    "dataFolder = Path.cwd()/'Data'\n",
    "zipFolder_RF = Path.cwd()/'Model'/'Random_Forest'\n",
    "zipFolder_XGB= Path.cwd()/'Model'/'XGBoost'"
   ]
  },
  {
   "cell_type": "code",
   "execution_count": 8,
   "metadata": {},
   "outputs": [],
   "source": [
    "#-------------------------------------------------------------------------------\n",
    "# Import data\n",
    "#-------------------------------------------------------------------------------\n",
    "import pandas as pd\n",
    "df = pd.read_csv('C:/Users/canyzn/Desktop/HMEQ/hmeq.csv',sep=',')"
   ]
  },
  {
   "cell_type": "markdown",
   "metadata": {},
   "source": [
    "# DATA ENGINEERING"
   ]
  },
  {
   "cell_type": "code",
   "execution_count": 9,
   "metadata": {},
   "outputs": [],
   "source": [
    "#Drop duplicates\n",
    "df.drop_duplicates(inplace=True)"
   ]
  },
  {
   "cell_type": "code",
   "execution_count": 10,
   "metadata": {},
   "outputs": [
    {
     "name": "stdout",
     "output_type": "stream",
     "text": [
      "<class 'pandas.core.frame.DataFrame'>\n",
      "Int64Index: 5960 entries, 0 to 5959\n",
      "Data columns (total 13 columns):\n",
      " #   Column   Non-Null Count  Dtype  \n",
      "---  ------   --------------  -----  \n",
      " 0   BAD      5960 non-null   int64  \n",
      " 1   LOAN     5960 non-null   int64  \n",
      " 2   MORTDUE  5442 non-null   float64\n",
      " 3   VALUE    5848 non-null   float64\n",
      " 4   REASON   5708 non-null   object \n",
      " 5   JOB      5681 non-null   object \n",
      " 6   YOJ      5445 non-null   float64\n",
      " 7   DEROG    5252 non-null   float64\n",
      " 8   DELINQ   5380 non-null   float64\n",
      " 9   CLAGE    5652 non-null   float64\n",
      " 10  NINQ     5450 non-null   float64\n",
      " 11  CLNO     5738 non-null   float64\n",
      " 12  DEBTINC  4693 non-null   float64\n",
      "dtypes: float64(9), int64(2), object(2)\n",
      "memory usage: 651.9+ KB\n"
     ]
    }
   ],
   "source": [
    "df.info()"
   ]
  },
  {
   "cell_type": "code",
   "execution_count": 11,
   "metadata": {},
   "outputs": [],
   "source": [
    "# Modify data type\n",
    "cols = df[df.columns.difference(['BAD','LOAN','REASON','JOB'])].columns\n",
    "df[cols] = df[cols].apply(pd.to_numeric, downcast='float', errors='coerce')\n",
    "df['BAD']=df['BAD'].astype('category')"
   ]
  },
  {
   "cell_type": "code",
   "execution_count": 12,
   "metadata": {},
   "outputs": [
    {
     "name": "stdout",
     "output_type": "stream",
     "text": [
      "Index(['BAD'], dtype='object')\n",
      "['REASON', 'JOB']\n",
      "['LOAN', 'MORTDUE', 'VALUE', 'YOJ', 'DEROG', 'DELINQ', 'CLAGE', 'NINQ', 'CLNO', 'DEBTINC']\n",
      "['REASON', 'JOB', 'LOAN', 'MORTDUE', 'VALUE', 'YOJ', 'DEROG', 'DELINQ', 'CLAGE', 'NINQ', 'CLNO', 'DEBTINC']\n"
     ]
    }
   ],
   "source": [
    "# Declare variables\n",
    "#target var\n",
    "target = df.select_dtypes('category').columns\n",
    "\n",
    "#categorical (nominal and ordinal) variables\n",
    "class_inputs = list(df.select_dtypes('object').columns)\n",
    "\n",
    "#input interval variables\n",
    "numerical_inputs = list(df.select_dtypes(include=['int64', 'float32']).columns)\n",
    "\n",
    "inputs= class_inputs + numerical_inputs\n",
    "\n",
    "print(target)\n",
    "print(class_inputs)\n",
    "print(numerical_inputs)\n",
    "print(inputs)"
   ]
  },
  {
   "cell_type": "code",
   "execution_count": 13,
   "metadata": {
    "scrolled": true
   },
   "outputs": [
    {
     "name": "stdout",
     "output_type": "stream",
     "text": [
      "<class 'pandas.core.frame.DataFrame'>\n",
      "Int64Index: 5960 entries, 0 to 5959\n",
      "Data columns (total 13 columns):\n",
      " #   Column   Non-Null Count  Dtype   \n",
      "---  ------   --------------  -----   \n",
      " 0   BAD      5960 non-null   category\n",
      " 1   LOAN     5960 non-null   int64   \n",
      " 2   MORTDUE  5442 non-null   float32 \n",
      " 3   VALUE    5848 non-null   float32 \n",
      " 4   REASON   5708 non-null   object  \n",
      " 5   JOB      5681 non-null   object  \n",
      " 6   YOJ      5445 non-null   float32 \n",
      " 7   DEROG    5252 non-null   float32 \n",
      " 8   DELINQ   5380 non-null   float32 \n",
      " 9   CLAGE    5652 non-null   float32 \n",
      " 10  NINQ     5450 non-null   float32 \n",
      " 11  CLNO     5738 non-null   float32 \n",
      " 12  DEBTINC  4693 non-null   float32 \n",
      "dtypes: category(1), float32(9), int64(1), object(2)\n",
      "memory usage: 401.7+ KB\n"
     ]
    }
   ],
   "source": [
    "df.info()"
   ]
  },
  {
   "cell_type": "code",
   "execution_count": 14,
   "metadata": {},
   "outputs": [
    {
     "data": {
      "text/html": [
       "<div>\n",
       "<style scoped>\n",
       "    .dataframe tbody tr th:only-of-type {\n",
       "        vertical-align: middle;\n",
       "    }\n",
       "\n",
       "    .dataframe tbody tr th {\n",
       "        vertical-align: top;\n",
       "    }\n",
       "\n",
       "    .dataframe thead th {\n",
       "        text-align: right;\n",
       "    }\n",
       "</style>\n",
       "<table border=\"1\" class=\"dataframe\">\n",
       "  <thead>\n",
       "    <tr style=\"text-align: right;\">\n",
       "      <th></th>\n",
       "      <th>Count</th>\n",
       "      <th>Percent</th>\n",
       "    </tr>\n",
       "  </thead>\n",
       "  <tbody>\n",
       "    <tr>\n",
       "      <th>MORTDUE</th>\n",
       "      <td>518</td>\n",
       "      <td>8.691275</td>\n",
       "    </tr>\n",
       "    <tr>\n",
       "      <th>VALUE</th>\n",
       "      <td>112</td>\n",
       "      <td>1.879195</td>\n",
       "    </tr>\n",
       "    <tr>\n",
       "      <th>REASON</th>\n",
       "      <td>252</td>\n",
       "      <td>4.228188</td>\n",
       "    </tr>\n",
       "    <tr>\n",
       "      <th>JOB</th>\n",
       "      <td>279</td>\n",
       "      <td>4.681208</td>\n",
       "    </tr>\n",
       "    <tr>\n",
       "      <th>YOJ</th>\n",
       "      <td>515</td>\n",
       "      <td>8.640940</td>\n",
       "    </tr>\n",
       "    <tr>\n",
       "      <th>DEROG</th>\n",
       "      <td>708</td>\n",
       "      <td>11.879195</td>\n",
       "    </tr>\n",
       "    <tr>\n",
       "      <th>DELINQ</th>\n",
       "      <td>580</td>\n",
       "      <td>9.731544</td>\n",
       "    </tr>\n",
       "    <tr>\n",
       "      <th>CLAGE</th>\n",
       "      <td>308</td>\n",
       "      <td>5.167785</td>\n",
       "    </tr>\n",
       "    <tr>\n",
       "      <th>NINQ</th>\n",
       "      <td>510</td>\n",
       "      <td>8.557047</td>\n",
       "    </tr>\n",
       "    <tr>\n",
       "      <th>CLNO</th>\n",
       "      <td>222</td>\n",
       "      <td>3.724832</td>\n",
       "    </tr>\n",
       "    <tr>\n",
       "      <th>DEBTINC</th>\n",
       "      <td>1267</td>\n",
       "      <td>21.258389</td>\n",
       "    </tr>\n",
       "  </tbody>\n",
       "</table>\n",
       "</div>"
      ],
      "text/plain": [
       "         Count    Percent\n",
       "MORTDUE    518   8.691275\n",
       "VALUE      112   1.879195\n",
       "REASON     252   4.228188\n",
       "JOB        279   4.681208\n",
       "YOJ        515   8.640940\n",
       "DEROG      708  11.879195\n",
       "DELINQ     580   9.731544\n",
       "CLAGE      308   5.167785\n",
       "NINQ       510   8.557047\n",
       "CLNO       222   3.724832\n",
       "DEBTINC   1267  21.258389"
      ]
     },
     "execution_count": 14,
     "metadata": {},
     "output_type": "execute_result"
    }
   ],
   "source": [
    "##Finding the the count and percentage of values that are missing in the dataframe.\n",
    "df_null = pd.DataFrame({'Count': df.isnull().sum(), 'Percent': 100*df.isnull().sum()/len(df)})\n",
    "\n",
    "##printing columns with null count more than 0\n",
    "df_null[df_null['Count'] > 0]  #Debtinc has the highest level of missing values: 21.3%"
   ]
  },
  {
   "cell_type": "code",
   "execution_count": 15,
   "metadata": {},
   "outputs": [
    {
     "name": "stdout",
     "output_type": "stream",
     "text": [
      "<class 'pandas.core.frame.DataFrame'>\n",
      "RangeIndex: 5960 entries, 0 to 5959\n",
      "Data columns (total 2 columns):\n",
      " #   Column  Non-Null Count  Dtype \n",
      "---  ------  --------------  ----- \n",
      " 0   REASON  5960 non-null   object\n",
      " 1   JOB     5960 non-null   object\n",
      "dtypes: object(2)\n",
      "memory usage: 93.2+ KB\n",
      "--------------------------------------------------\n",
      "<class 'pandas.core.frame.DataFrame'>\n",
      "RangeIndex: 5960 entries, 0 to 5959\n",
      "Data columns (total 10 columns):\n",
      " #   Column   Non-Null Count  Dtype  \n",
      "---  ------   --------------  -----  \n",
      " 0   LOAN     5960 non-null   float64\n",
      " 1   MORTDUE  5960 non-null   float64\n",
      " 2   VALUE    5960 non-null   float64\n",
      " 3   YOJ      5960 non-null   float64\n",
      " 4   DEROG    5960 non-null   float64\n",
      " 5   DELINQ   5960 non-null   float64\n",
      " 6   CLAGE    5960 non-null   float64\n",
      " 7   NINQ     5960 non-null   float64\n",
      " 8   CLNO     5960 non-null   float64\n",
      " 9   DEBTINC  5960 non-null   float64\n",
      "dtypes: float64(10)\n",
      "memory usage: 465.8 KB\n"
     ]
    },
    {
     "data": {
      "text/html": [
       "<div>\n",
       "<style scoped>\n",
       "    .dataframe tbody tr th:only-of-type {\n",
       "        vertical-align: middle;\n",
       "    }\n",
       "\n",
       "    .dataframe tbody tr th {\n",
       "        vertical-align: top;\n",
       "    }\n",
       "\n",
       "    .dataframe thead th {\n",
       "        text-align: right;\n",
       "    }\n",
       "</style>\n",
       "<table border=\"1\" class=\"dataframe\">\n",
       "  <thead>\n",
       "    <tr style=\"text-align: right;\">\n",
       "      <th></th>\n",
       "      <th>LOAN</th>\n",
       "      <th>MORTDUE</th>\n",
       "      <th>VALUE</th>\n",
       "      <th>YOJ</th>\n",
       "      <th>DEROG</th>\n",
       "      <th>DELINQ</th>\n",
       "      <th>CLAGE</th>\n",
       "      <th>NINQ</th>\n",
       "      <th>CLNO</th>\n",
       "      <th>DEBTINC</th>\n",
       "    </tr>\n",
       "  </thead>\n",
       "  <tbody>\n",
       "    <tr>\n",
       "      <th>0</th>\n",
       "      <td>1100.0</td>\n",
       "      <td>25860.000000</td>\n",
       "      <td>39025.000000</td>\n",
       "      <td>10.500000</td>\n",
       "      <td>0.00000</td>\n",
       "      <td>0.000000</td>\n",
       "      <td>94.366669</td>\n",
       "      <td>1.000000</td>\n",
       "      <td>9.000000</td>\n",
       "      <td>33.779915</td>\n",
       "    </tr>\n",
       "    <tr>\n",
       "      <th>1</th>\n",
       "      <td>1300.0</td>\n",
       "      <td>70053.000000</td>\n",
       "      <td>68400.000000</td>\n",
       "      <td>7.000000</td>\n",
       "      <td>0.00000</td>\n",
       "      <td>2.000000</td>\n",
       "      <td>121.833336</td>\n",
       "      <td>0.000000</td>\n",
       "      <td>14.000000</td>\n",
       "      <td>33.779915</td>\n",
       "    </tr>\n",
       "    <tr>\n",
       "      <th>2</th>\n",
       "      <td>1500.0</td>\n",
       "      <td>13500.000000</td>\n",
       "      <td>16700.000000</td>\n",
       "      <td>4.000000</td>\n",
       "      <td>0.00000</td>\n",
       "      <td>0.000000</td>\n",
       "      <td>149.466660</td>\n",
       "      <td>1.000000</td>\n",
       "      <td>10.000000</td>\n",
       "      <td>33.779915</td>\n",
       "    </tr>\n",
       "    <tr>\n",
       "      <th>3</th>\n",
       "      <td>1500.0</td>\n",
       "      <td>73760.817199</td>\n",
       "      <td>101776.048741</td>\n",
       "      <td>8.922268</td>\n",
       "      <td>0.25457</td>\n",
       "      <td>0.449442</td>\n",
       "      <td>179.766275</td>\n",
       "      <td>1.186055</td>\n",
       "      <td>21.296096</td>\n",
       "      <td>33.779915</td>\n",
       "    </tr>\n",
       "    <tr>\n",
       "      <th>4</th>\n",
       "      <td>1700.0</td>\n",
       "      <td>97800.000000</td>\n",
       "      <td>112000.000000</td>\n",
       "      <td>3.000000</td>\n",
       "      <td>0.00000</td>\n",
       "      <td>0.000000</td>\n",
       "      <td>93.333336</td>\n",
       "      <td>0.000000</td>\n",
       "      <td>14.000000</td>\n",
       "      <td>33.779915</td>\n",
       "    </tr>\n",
       "    <tr>\n",
       "      <th>...</th>\n",
       "      <td>...</td>\n",
       "      <td>...</td>\n",
       "      <td>...</td>\n",
       "      <td>...</td>\n",
       "      <td>...</td>\n",
       "      <td>...</td>\n",
       "      <td>...</td>\n",
       "      <td>...</td>\n",
       "      <td>...</td>\n",
       "      <td>...</td>\n",
       "    </tr>\n",
       "    <tr>\n",
       "      <th>5955</th>\n",
       "      <td>78700.0</td>\n",
       "      <td>22762.000000</td>\n",
       "      <td>102997.000000</td>\n",
       "      <td>25.000000</td>\n",
       "      <td>0.00000</td>\n",
       "      <td>0.000000</td>\n",
       "      <td>146.632843</td>\n",
       "      <td>0.000000</td>\n",
       "      <td>13.000000</td>\n",
       "      <td>34.300201</td>\n",
       "    </tr>\n",
       "    <tr>\n",
       "      <th>5956</th>\n",
       "      <td>79100.0</td>\n",
       "      <td>23553.000000</td>\n",
       "      <td>103807.000000</td>\n",
       "      <td>25.000000</td>\n",
       "      <td>0.00000</td>\n",
       "      <td>1.000000</td>\n",
       "      <td>142.193451</td>\n",
       "      <td>0.000000</td>\n",
       "      <td>13.000000</td>\n",
       "      <td>31.469938</td>\n",
       "    </tr>\n",
       "    <tr>\n",
       "      <th>5957</th>\n",
       "      <td>79200.0</td>\n",
       "      <td>21694.000000</td>\n",
       "      <td>103143.000000</td>\n",
       "      <td>26.000000</td>\n",
       "      <td>0.00000</td>\n",
       "      <td>1.000000</td>\n",
       "      <td>139.938995</td>\n",
       "      <td>0.000000</td>\n",
       "      <td>14.000000</td>\n",
       "      <td>31.333685</td>\n",
       "    </tr>\n",
       "    <tr>\n",
       "      <th>5958</th>\n",
       "      <td>79200.0</td>\n",
       "      <td>22940.000000</td>\n",
       "      <td>110114.000000</td>\n",
       "      <td>28.000000</td>\n",
       "      <td>0.00000</td>\n",
       "      <td>1.000000</td>\n",
       "      <td>144.616119</td>\n",
       "      <td>0.000000</td>\n",
       "      <td>13.000000</td>\n",
       "      <td>32.366512</td>\n",
       "    </tr>\n",
       "    <tr>\n",
       "      <th>5959</th>\n",
       "      <td>79900.0</td>\n",
       "      <td>18363.000000</td>\n",
       "      <td>109675.000000</td>\n",
       "      <td>27.000000</td>\n",
       "      <td>0.00000</td>\n",
       "      <td>1.000000</td>\n",
       "      <td>132.766724</td>\n",
       "      <td>0.000000</td>\n",
       "      <td>13.000000</td>\n",
       "      <td>31.642336</td>\n",
       "    </tr>\n",
       "  </tbody>\n",
       "</table>\n",
       "<p>5960 rows × 10 columns</p>\n",
       "</div>"
      ],
      "text/plain": [
       "         LOAN       MORTDUE          VALUE        YOJ    DEROG    DELINQ  \\\n",
       "0      1100.0  25860.000000   39025.000000  10.500000  0.00000  0.000000   \n",
       "1      1300.0  70053.000000   68400.000000   7.000000  0.00000  2.000000   \n",
       "2      1500.0  13500.000000   16700.000000   4.000000  0.00000  0.000000   \n",
       "3      1500.0  73760.817199  101776.048741   8.922268  0.25457  0.449442   \n",
       "4      1700.0  97800.000000  112000.000000   3.000000  0.00000  0.000000   \n",
       "...       ...           ...            ...        ...      ...       ...   \n",
       "5955  78700.0  22762.000000  102997.000000  25.000000  0.00000  0.000000   \n",
       "5956  79100.0  23553.000000  103807.000000  25.000000  0.00000  1.000000   \n",
       "5957  79200.0  21694.000000  103143.000000  26.000000  0.00000  1.000000   \n",
       "5958  79200.0  22940.000000  110114.000000  28.000000  0.00000  1.000000   \n",
       "5959  79900.0  18363.000000  109675.000000  27.000000  0.00000  1.000000   \n",
       "\n",
       "           CLAGE      NINQ       CLNO    DEBTINC  \n",
       "0      94.366669  1.000000   9.000000  33.779915  \n",
       "1     121.833336  0.000000  14.000000  33.779915  \n",
       "2     149.466660  1.000000  10.000000  33.779915  \n",
       "3     179.766275  1.186055  21.296096  33.779915  \n",
       "4      93.333336  0.000000  14.000000  33.779915  \n",
       "...          ...       ...        ...        ...  \n",
       "5955  146.632843  0.000000  13.000000  34.300201  \n",
       "5956  142.193451  0.000000  13.000000  31.469938  \n",
       "5957  139.938995  0.000000  14.000000  31.333685  \n",
       "5958  144.616119  0.000000  13.000000  32.366512  \n",
       "5959  132.766724  0.000000  13.000000  31.642336  \n",
       "\n",
       "[5960 rows x 10 columns]"
      ]
     },
     "execution_count": 15,
     "metadata": {},
     "output_type": "execute_result"
    }
   ],
   "source": [
    "#Impute Missing values\n",
    "categorical_imputer = SimpleImputer(missing_values = np.nan, strategy = 'most_frequent')\n",
    "numerical_imputer = SimpleImputer(missing_values = np.nan, strategy = 'mean')\n",
    "\n",
    "# Impute categorical variables\n",
    "\n",
    "categorical_imputer.fit(df[class_inputs])\n",
    "categorical_imputed = categorical_imputer.transform(df[class_inputs])\n",
    "df_categorical_imputed = pd.DataFrame(data=categorical_imputed, columns=class_inputs)\n",
    "df_categorical_imputed.info()\n",
    "\n",
    "print('-'*50)\n",
    "\n",
    "#Impute numerical variables\n",
    "\n",
    "numerical_imputer.fit(df[numerical_inputs])\n",
    "numerical_imputed = numerical_imputer.transform(df[numerical_inputs])\n",
    "df_numerical_imputed = pd.DataFrame(data=numerical_imputed, columns=numerical_inputs)\n",
    "df_numerical_imputed.info()\n",
    "df_numerical_imputed"
   ]
  },
  {
   "cell_type": "code",
   "execution_count": 16,
   "metadata": {
    "scrolled": true
   },
   "outputs": [
    {
     "name": "stdout",
     "output_type": "stream",
     "text": [
      "<class 'pandas.core.frame.DataFrame'>\n",
      "RangeIndex: 5960 entries, 0 to 5959\n",
      "Data columns (total 8 columns):\n",
      " #   Column   Non-Null Count  Dtype  \n",
      "---  ------   --------------  -----  \n",
      " 0   DebtCon  5960 non-null   float64\n",
      " 1   HomeImp  5960 non-null   float64\n",
      " 2   Mgr      5960 non-null   float64\n",
      " 3   Office   5960 non-null   float64\n",
      " 4   Other    5960 non-null   float64\n",
      " 5   ProfExe  5960 non-null   float64\n",
      " 6   Sales    5960 non-null   float64\n",
      " 7   Self     5960 non-null   float64\n",
      "dtypes: float64(8)\n",
      "memory usage: 372.6 KB\n"
     ]
    },
    {
     "data": {
      "text/html": [
       "<div>\n",
       "<style scoped>\n",
       "    .dataframe tbody tr th:only-of-type {\n",
       "        vertical-align: middle;\n",
       "    }\n",
       "\n",
       "    .dataframe tbody tr th {\n",
       "        vertical-align: top;\n",
       "    }\n",
       "\n",
       "    .dataframe thead th {\n",
       "        text-align: right;\n",
       "    }\n",
       "</style>\n",
       "<table border=\"1\" class=\"dataframe\">\n",
       "  <thead>\n",
       "    <tr style=\"text-align: right;\">\n",
       "      <th></th>\n",
       "      <th>DebtCon</th>\n",
       "      <th>HomeImp</th>\n",
       "      <th>Mgr</th>\n",
       "      <th>Office</th>\n",
       "      <th>Other</th>\n",
       "      <th>ProfExe</th>\n",
       "      <th>Sales</th>\n",
       "      <th>Self</th>\n",
       "    </tr>\n",
       "  </thead>\n",
       "  <tbody>\n",
       "    <tr>\n",
       "      <th>0</th>\n",
       "      <td>0.0</td>\n",
       "      <td>1.0</td>\n",
       "      <td>0.0</td>\n",
       "      <td>0.0</td>\n",
       "      <td>1.0</td>\n",
       "      <td>0.0</td>\n",
       "      <td>0.0</td>\n",
       "      <td>0.0</td>\n",
       "    </tr>\n",
       "    <tr>\n",
       "      <th>1</th>\n",
       "      <td>0.0</td>\n",
       "      <td>1.0</td>\n",
       "      <td>0.0</td>\n",
       "      <td>0.0</td>\n",
       "      <td>1.0</td>\n",
       "      <td>0.0</td>\n",
       "      <td>0.0</td>\n",
       "      <td>0.0</td>\n",
       "    </tr>\n",
       "    <tr>\n",
       "      <th>2</th>\n",
       "      <td>0.0</td>\n",
       "      <td>1.0</td>\n",
       "      <td>0.0</td>\n",
       "      <td>0.0</td>\n",
       "      <td>1.0</td>\n",
       "      <td>0.0</td>\n",
       "      <td>0.0</td>\n",
       "      <td>0.0</td>\n",
       "    </tr>\n",
       "    <tr>\n",
       "      <th>3</th>\n",
       "      <td>1.0</td>\n",
       "      <td>0.0</td>\n",
       "      <td>0.0</td>\n",
       "      <td>0.0</td>\n",
       "      <td>1.0</td>\n",
       "      <td>0.0</td>\n",
       "      <td>0.0</td>\n",
       "      <td>0.0</td>\n",
       "    </tr>\n",
       "    <tr>\n",
       "      <th>4</th>\n",
       "      <td>0.0</td>\n",
       "      <td>1.0</td>\n",
       "      <td>0.0</td>\n",
       "      <td>1.0</td>\n",
       "      <td>0.0</td>\n",
       "      <td>0.0</td>\n",
       "      <td>0.0</td>\n",
       "      <td>0.0</td>\n",
       "    </tr>\n",
       "    <tr>\n",
       "      <th>...</th>\n",
       "      <td>...</td>\n",
       "      <td>...</td>\n",
       "      <td>...</td>\n",
       "      <td>...</td>\n",
       "      <td>...</td>\n",
       "      <td>...</td>\n",
       "      <td>...</td>\n",
       "      <td>...</td>\n",
       "    </tr>\n",
       "    <tr>\n",
       "      <th>5955</th>\n",
       "      <td>0.0</td>\n",
       "      <td>1.0</td>\n",
       "      <td>0.0</td>\n",
       "      <td>0.0</td>\n",
       "      <td>1.0</td>\n",
       "      <td>0.0</td>\n",
       "      <td>0.0</td>\n",
       "      <td>0.0</td>\n",
       "    </tr>\n",
       "    <tr>\n",
       "      <th>5956</th>\n",
       "      <td>0.0</td>\n",
       "      <td>1.0</td>\n",
       "      <td>0.0</td>\n",
       "      <td>0.0</td>\n",
       "      <td>1.0</td>\n",
       "      <td>0.0</td>\n",
       "      <td>0.0</td>\n",
       "      <td>0.0</td>\n",
       "    </tr>\n",
       "    <tr>\n",
       "      <th>5957</th>\n",
       "      <td>0.0</td>\n",
       "      <td>1.0</td>\n",
       "      <td>0.0</td>\n",
       "      <td>0.0</td>\n",
       "      <td>1.0</td>\n",
       "      <td>0.0</td>\n",
       "      <td>0.0</td>\n",
       "      <td>0.0</td>\n",
       "    </tr>\n",
       "    <tr>\n",
       "      <th>5958</th>\n",
       "      <td>0.0</td>\n",
       "      <td>1.0</td>\n",
       "      <td>0.0</td>\n",
       "      <td>0.0</td>\n",
       "      <td>1.0</td>\n",
       "      <td>0.0</td>\n",
       "      <td>0.0</td>\n",
       "      <td>0.0</td>\n",
       "    </tr>\n",
       "    <tr>\n",
       "      <th>5959</th>\n",
       "      <td>0.0</td>\n",
       "      <td>1.0</td>\n",
       "      <td>0.0</td>\n",
       "      <td>0.0</td>\n",
       "      <td>1.0</td>\n",
       "      <td>0.0</td>\n",
       "      <td>0.0</td>\n",
       "      <td>0.0</td>\n",
       "    </tr>\n",
       "  </tbody>\n",
       "</table>\n",
       "<p>5960 rows × 8 columns</p>\n",
       "</div>"
      ],
      "text/plain": [
       "      DebtCon  HomeImp  Mgr  Office  Other  ProfExe  Sales  Self\n",
       "0         0.0      1.0  0.0     0.0    1.0      0.0    0.0   0.0\n",
       "1         0.0      1.0  0.0     0.0    1.0      0.0    0.0   0.0\n",
       "2         0.0      1.0  0.0     0.0    1.0      0.0    0.0   0.0\n",
       "3         1.0      0.0  0.0     0.0    1.0      0.0    0.0   0.0\n",
       "4         0.0      1.0  0.0     1.0    0.0      0.0    0.0   0.0\n",
       "...       ...      ...  ...     ...    ...      ...    ...   ...\n",
       "5955      0.0      1.0  0.0     0.0    1.0      0.0    0.0   0.0\n",
       "5956      0.0      1.0  0.0     0.0    1.0      0.0    0.0   0.0\n",
       "5957      0.0      1.0  0.0     0.0    1.0      0.0    0.0   0.0\n",
       "5958      0.0      1.0  0.0     0.0    1.0      0.0    0.0   0.0\n",
       "5959      0.0      1.0  0.0     0.0    1.0      0.0    0.0   0.0\n",
       "\n",
       "[5960 rows x 8 columns]"
      ]
     },
     "execution_count": 16,
     "metadata": {},
     "output_type": "execute_result"
    }
   ],
   "source": [
    "# One hot encoding for categorical variables\n",
    "encoder = OneHotEncoder()\n",
    "encoder.fit(categorical_imputed)\n",
    "categorical_encoded = encoder.transform(categorical_imputed)\n",
    "\n",
    "categories = list(np.hstack(encoder.categories_, ))\n",
    "categories\n",
    "\n",
    "# print(categorical_encoded.toarray())\n",
    "df_categorical_encoded = pd.DataFrame(data=categorical_encoded.toarray(), columns=categories)\n",
    "df_categorical_encoded.info()\n",
    "df_categorical_encoded"
   ]
  },
  {
   "cell_type": "code",
   "execution_count": 17,
   "metadata": {},
   "outputs": [
    {
     "data": {
      "text/html": [
       "<div>\n",
       "<style scoped>\n",
       "    .dataframe tbody tr th:only-of-type {\n",
       "        vertical-align: middle;\n",
       "    }\n",
       "\n",
       "    .dataframe tbody tr th {\n",
       "        vertical-align: top;\n",
       "    }\n",
       "\n",
       "    .dataframe thead th {\n",
       "        text-align: right;\n",
       "    }\n",
       "</style>\n",
       "<table border=\"1\" class=\"dataframe\">\n",
       "  <thead>\n",
       "    <tr style=\"text-align: right;\">\n",
       "      <th></th>\n",
       "      <th>BAD</th>\n",
       "      <th>LOAN</th>\n",
       "      <th>MORTDUE</th>\n",
       "      <th>VALUE</th>\n",
       "      <th>YOJ</th>\n",
       "      <th>DEROG</th>\n",
       "      <th>DELINQ</th>\n",
       "      <th>CLAGE</th>\n",
       "      <th>NINQ</th>\n",
       "      <th>CLNO</th>\n",
       "      <th>DEBTINC</th>\n",
       "      <th>DebtCon</th>\n",
       "      <th>HomeImp</th>\n",
       "      <th>Mgr</th>\n",
       "      <th>Office</th>\n",
       "      <th>Other</th>\n",
       "      <th>ProfExe</th>\n",
       "      <th>Sales</th>\n",
       "      <th>Self</th>\n",
       "    </tr>\n",
       "  </thead>\n",
       "  <tbody>\n",
       "    <tr>\n",
       "      <th>0</th>\n",
       "      <td>1</td>\n",
       "      <td>1100.0</td>\n",
       "      <td>25860.000000</td>\n",
       "      <td>39025.000000</td>\n",
       "      <td>10.500000</td>\n",
       "      <td>0.00000</td>\n",
       "      <td>0.000000</td>\n",
       "      <td>94.366669</td>\n",
       "      <td>1.000000</td>\n",
       "      <td>9.000000</td>\n",
       "      <td>33.779915</td>\n",
       "      <td>0.0</td>\n",
       "      <td>1.0</td>\n",
       "      <td>0.0</td>\n",
       "      <td>0.0</td>\n",
       "      <td>1.0</td>\n",
       "      <td>0.0</td>\n",
       "      <td>0.0</td>\n",
       "      <td>0.0</td>\n",
       "    </tr>\n",
       "    <tr>\n",
       "      <th>1</th>\n",
       "      <td>1</td>\n",
       "      <td>1300.0</td>\n",
       "      <td>70053.000000</td>\n",
       "      <td>68400.000000</td>\n",
       "      <td>7.000000</td>\n",
       "      <td>0.00000</td>\n",
       "      <td>2.000000</td>\n",
       "      <td>121.833336</td>\n",
       "      <td>0.000000</td>\n",
       "      <td>14.000000</td>\n",
       "      <td>33.779915</td>\n",
       "      <td>0.0</td>\n",
       "      <td>1.0</td>\n",
       "      <td>0.0</td>\n",
       "      <td>0.0</td>\n",
       "      <td>1.0</td>\n",
       "      <td>0.0</td>\n",
       "      <td>0.0</td>\n",
       "      <td>0.0</td>\n",
       "    </tr>\n",
       "    <tr>\n",
       "      <th>2</th>\n",
       "      <td>1</td>\n",
       "      <td>1500.0</td>\n",
       "      <td>13500.000000</td>\n",
       "      <td>16700.000000</td>\n",
       "      <td>4.000000</td>\n",
       "      <td>0.00000</td>\n",
       "      <td>0.000000</td>\n",
       "      <td>149.466660</td>\n",
       "      <td>1.000000</td>\n",
       "      <td>10.000000</td>\n",
       "      <td>33.779915</td>\n",
       "      <td>0.0</td>\n",
       "      <td>1.0</td>\n",
       "      <td>0.0</td>\n",
       "      <td>0.0</td>\n",
       "      <td>1.0</td>\n",
       "      <td>0.0</td>\n",
       "      <td>0.0</td>\n",
       "      <td>0.0</td>\n",
       "    </tr>\n",
       "    <tr>\n",
       "      <th>3</th>\n",
       "      <td>1</td>\n",
       "      <td>1500.0</td>\n",
       "      <td>73760.817199</td>\n",
       "      <td>101776.048741</td>\n",
       "      <td>8.922268</td>\n",
       "      <td>0.25457</td>\n",
       "      <td>0.449442</td>\n",
       "      <td>179.766275</td>\n",
       "      <td>1.186055</td>\n",
       "      <td>21.296096</td>\n",
       "      <td>33.779915</td>\n",
       "      <td>1.0</td>\n",
       "      <td>0.0</td>\n",
       "      <td>0.0</td>\n",
       "      <td>0.0</td>\n",
       "      <td>1.0</td>\n",
       "      <td>0.0</td>\n",
       "      <td>0.0</td>\n",
       "      <td>0.0</td>\n",
       "    </tr>\n",
       "    <tr>\n",
       "      <th>4</th>\n",
       "      <td>0</td>\n",
       "      <td>1700.0</td>\n",
       "      <td>97800.000000</td>\n",
       "      <td>112000.000000</td>\n",
       "      <td>3.000000</td>\n",
       "      <td>0.00000</td>\n",
       "      <td>0.000000</td>\n",
       "      <td>93.333336</td>\n",
       "      <td>0.000000</td>\n",
       "      <td>14.000000</td>\n",
       "      <td>33.779915</td>\n",
       "      <td>0.0</td>\n",
       "      <td>1.0</td>\n",
       "      <td>0.0</td>\n",
       "      <td>1.0</td>\n",
       "      <td>0.0</td>\n",
       "      <td>0.0</td>\n",
       "      <td>0.0</td>\n",
       "      <td>0.0</td>\n",
       "    </tr>\n",
       "    <tr>\n",
       "      <th>...</th>\n",
       "      <td>...</td>\n",
       "      <td>...</td>\n",
       "      <td>...</td>\n",
       "      <td>...</td>\n",
       "      <td>...</td>\n",
       "      <td>...</td>\n",
       "      <td>...</td>\n",
       "      <td>...</td>\n",
       "      <td>...</td>\n",
       "      <td>...</td>\n",
       "      <td>...</td>\n",
       "      <td>...</td>\n",
       "      <td>...</td>\n",
       "      <td>...</td>\n",
       "      <td>...</td>\n",
       "      <td>...</td>\n",
       "      <td>...</td>\n",
       "      <td>...</td>\n",
       "      <td>...</td>\n",
       "    </tr>\n",
       "    <tr>\n",
       "      <th>5955</th>\n",
       "      <td>0</td>\n",
       "      <td>78700.0</td>\n",
       "      <td>22762.000000</td>\n",
       "      <td>102997.000000</td>\n",
       "      <td>25.000000</td>\n",
       "      <td>0.00000</td>\n",
       "      <td>0.000000</td>\n",
       "      <td>146.632843</td>\n",
       "      <td>0.000000</td>\n",
       "      <td>13.000000</td>\n",
       "      <td>34.300201</td>\n",
       "      <td>0.0</td>\n",
       "      <td>1.0</td>\n",
       "      <td>0.0</td>\n",
       "      <td>0.0</td>\n",
       "      <td>1.0</td>\n",
       "      <td>0.0</td>\n",
       "      <td>0.0</td>\n",
       "      <td>0.0</td>\n",
       "    </tr>\n",
       "    <tr>\n",
       "      <th>5956</th>\n",
       "      <td>0</td>\n",
       "      <td>79100.0</td>\n",
       "      <td>23553.000000</td>\n",
       "      <td>103807.000000</td>\n",
       "      <td>25.000000</td>\n",
       "      <td>0.00000</td>\n",
       "      <td>1.000000</td>\n",
       "      <td>142.193451</td>\n",
       "      <td>0.000000</td>\n",
       "      <td>13.000000</td>\n",
       "      <td>31.469938</td>\n",
       "      <td>0.0</td>\n",
       "      <td>1.0</td>\n",
       "      <td>0.0</td>\n",
       "      <td>0.0</td>\n",
       "      <td>1.0</td>\n",
       "      <td>0.0</td>\n",
       "      <td>0.0</td>\n",
       "      <td>0.0</td>\n",
       "    </tr>\n",
       "    <tr>\n",
       "      <th>5957</th>\n",
       "      <td>0</td>\n",
       "      <td>79200.0</td>\n",
       "      <td>21694.000000</td>\n",
       "      <td>103143.000000</td>\n",
       "      <td>26.000000</td>\n",
       "      <td>0.00000</td>\n",
       "      <td>1.000000</td>\n",
       "      <td>139.938995</td>\n",
       "      <td>0.000000</td>\n",
       "      <td>14.000000</td>\n",
       "      <td>31.333685</td>\n",
       "      <td>0.0</td>\n",
       "      <td>1.0</td>\n",
       "      <td>0.0</td>\n",
       "      <td>0.0</td>\n",
       "      <td>1.0</td>\n",
       "      <td>0.0</td>\n",
       "      <td>0.0</td>\n",
       "      <td>0.0</td>\n",
       "    </tr>\n",
       "    <tr>\n",
       "      <th>5958</th>\n",
       "      <td>0</td>\n",
       "      <td>79200.0</td>\n",
       "      <td>22940.000000</td>\n",
       "      <td>110114.000000</td>\n",
       "      <td>28.000000</td>\n",
       "      <td>0.00000</td>\n",
       "      <td>1.000000</td>\n",
       "      <td>144.616119</td>\n",
       "      <td>0.000000</td>\n",
       "      <td>13.000000</td>\n",
       "      <td>32.366512</td>\n",
       "      <td>0.0</td>\n",
       "      <td>1.0</td>\n",
       "      <td>0.0</td>\n",
       "      <td>0.0</td>\n",
       "      <td>1.0</td>\n",
       "      <td>0.0</td>\n",
       "      <td>0.0</td>\n",
       "      <td>0.0</td>\n",
       "    </tr>\n",
       "    <tr>\n",
       "      <th>5959</th>\n",
       "      <td>0</td>\n",
       "      <td>79900.0</td>\n",
       "      <td>18363.000000</td>\n",
       "      <td>109675.000000</td>\n",
       "      <td>27.000000</td>\n",
       "      <td>0.00000</td>\n",
       "      <td>1.000000</td>\n",
       "      <td>132.766724</td>\n",
       "      <td>0.000000</td>\n",
       "      <td>13.000000</td>\n",
       "      <td>31.642336</td>\n",
       "      <td>0.0</td>\n",
       "      <td>1.0</td>\n",
       "      <td>0.0</td>\n",
       "      <td>0.0</td>\n",
       "      <td>1.0</td>\n",
       "      <td>0.0</td>\n",
       "      <td>0.0</td>\n",
       "      <td>0.0</td>\n",
       "    </tr>\n",
       "  </tbody>\n",
       "</table>\n",
       "<p>5960 rows × 19 columns</p>\n",
       "</div>"
      ],
      "text/plain": [
       "     BAD     LOAN       MORTDUE          VALUE        YOJ    DEROG    DELINQ  \\\n",
       "0      1   1100.0  25860.000000   39025.000000  10.500000  0.00000  0.000000   \n",
       "1      1   1300.0  70053.000000   68400.000000   7.000000  0.00000  2.000000   \n",
       "2      1   1500.0  13500.000000   16700.000000   4.000000  0.00000  0.000000   \n",
       "3      1   1500.0  73760.817199  101776.048741   8.922268  0.25457  0.449442   \n",
       "4      0   1700.0  97800.000000  112000.000000   3.000000  0.00000  0.000000   \n",
       "...   ..      ...           ...            ...        ...      ...       ...   \n",
       "5955   0  78700.0  22762.000000  102997.000000  25.000000  0.00000  0.000000   \n",
       "5956   0  79100.0  23553.000000  103807.000000  25.000000  0.00000  1.000000   \n",
       "5957   0  79200.0  21694.000000  103143.000000  26.000000  0.00000  1.000000   \n",
       "5958   0  79200.0  22940.000000  110114.000000  28.000000  0.00000  1.000000   \n",
       "5959   0  79900.0  18363.000000  109675.000000  27.000000  0.00000  1.000000   \n",
       "\n",
       "           CLAGE      NINQ       CLNO    DEBTINC  DebtCon  HomeImp  Mgr  \\\n",
       "0      94.366669  1.000000   9.000000  33.779915      0.0      1.0  0.0   \n",
       "1     121.833336  0.000000  14.000000  33.779915      0.0      1.0  0.0   \n",
       "2     149.466660  1.000000  10.000000  33.779915      0.0      1.0  0.0   \n",
       "3     179.766275  1.186055  21.296096  33.779915      1.0      0.0  0.0   \n",
       "4      93.333336  0.000000  14.000000  33.779915      0.0      1.0  0.0   \n",
       "...          ...       ...        ...        ...      ...      ...  ...   \n",
       "5955  146.632843  0.000000  13.000000  34.300201      0.0      1.0  0.0   \n",
       "5956  142.193451  0.000000  13.000000  31.469938      0.0      1.0  0.0   \n",
       "5957  139.938995  0.000000  14.000000  31.333685      0.0      1.0  0.0   \n",
       "5958  144.616119  0.000000  13.000000  32.366512      0.0      1.0  0.0   \n",
       "5959  132.766724  0.000000  13.000000  31.642336      0.0      1.0  0.0   \n",
       "\n",
       "      Office  Other  ProfExe  Sales  Self  \n",
       "0        0.0    1.0      0.0    0.0   0.0  \n",
       "1        0.0    1.0      0.0    0.0   0.0  \n",
       "2        0.0    1.0      0.0    0.0   0.0  \n",
       "3        0.0    1.0      0.0    0.0   0.0  \n",
       "4        1.0    0.0      0.0    0.0   0.0  \n",
       "...      ...    ...      ...    ...   ...  \n",
       "5955     0.0    1.0      0.0    0.0   0.0  \n",
       "5956     0.0    1.0      0.0    0.0   0.0  \n",
       "5957     0.0    1.0      0.0    0.0   0.0  \n",
       "5958     0.0    1.0      0.0    0.0   0.0  \n",
       "5959     0.0    1.0      0.0    0.0   0.0  \n",
       "\n",
       "[5960 rows x 19 columns]"
      ]
     },
     "execution_count": 17,
     "metadata": {},
     "output_type": "execute_result"
    }
   ],
   "source": [
    "#Concanate all engineered features\n",
    "abt = pd.concat([df[target], df_numerical_imputed, df_categorical_encoded], axis=1)\n",
    "abt"
   ]
  },
  {
   "cell_type": "code",
   "execution_count": 18,
   "metadata": {},
   "outputs": [
    {
     "name": "stdout",
     "output_type": "stream",
     "text": [
      "<class 'pandas.core.frame.DataFrame'>\n",
      "Int64Index: 5960 entries, 0 to 5959\n",
      "Data columns (total 1 columns):\n",
      " #   Column  Non-Null Count  Dtype   \n",
      "---  ------  --------------  -----   \n",
      " 0   BAD     5960 non-null   category\n",
      "dtypes: category(1)\n",
      "memory usage: 52.5 KB\n"
     ]
    }
   ],
   "source": [
    "abt[target].info()"
   ]
  },
  {
   "cell_type": "markdown",
   "metadata": {},
   "source": [
    "# EDA"
   ]
  },
  {
   "cell_type": "code",
   "execution_count": 19,
   "metadata": {},
   "outputs": [
    {
     "data": {
      "text/plain": [
       "<matplotlib.axes._subplots.AxesSubplot at 0x1d6104a7400>"
      ]
     },
     "execution_count": 19,
     "metadata": {},
     "output_type": "execute_result"
    },
    {
     "data": {
      "image/png": "[encoded data removed]",
      "text/plain": [
       "<Figure size 432x288 with 1 Axes>"
      ]
     },
     "metadata": {
      "needs_background": "light"
     },
     "output_type": "display_data"
    }
   ],
   "source": [
    "# Target distribution\n",
    "sns.countplot(x=\"BAD\", data=abt) #20% event =1"
   ]
  },
  {
   "cell_type": "code",
   "execution_count": 20,
   "metadata": {
    "scrolled": true
   },
   "outputs": [
    {
     "data": {
      "text/html": [
       "<style  type=\"text/css\" >\n",
       "    #T_9b60d1d2_e01f_11eb_9ca1_98fa9b1e96cbrow0_col0 {\n",
       "            background-color:  #b15928;\n",
       "            color:  #f1f1f1;\n",
       "        }    #T_9b60d1d2_e01f_11eb_9ca1_98fa9b1e96cbrow0_col1 {\n",
       "            background-color:  #33a02c;\n",
       "            color:  #000000;\n",
       "        }    #T_9b60d1d2_e01f_11eb_9ca1_98fa9b1e96cbrow0_col2 {\n",
       "            background-color:  #fb9a99;\n",
       "            color:  #000000;\n",
       "        }    #T_9b60d1d2_e01f_11eb_9ca1_98fa9b1e96cbrow0_col3 {\n",
       "            background-color:  #b2df8a;\n",
       "            color:  #000000;\n",
       "        }    #T_9b60d1d2_e01f_11eb_9ca1_98fa9b1e96cbrow0_col4 {\n",
       "            background-color:  #a6cee3;\n",
       "            color:  #000000;\n",
       "        }    #T_9b60d1d2_e01f_11eb_9ca1_98fa9b1e96cbrow0_col5 {\n",
       "            background-color:  #a6cee3;\n",
       "            color:  #000000;\n",
       "        }    #T_9b60d1d2_e01f_11eb_9ca1_98fa9b1e96cbrow0_col6 {\n",
       "            background-color:  #b2df8a;\n",
       "            color:  #000000;\n",
       "        }    #T_9b60d1d2_e01f_11eb_9ca1_98fa9b1e96cbrow0_col7 {\n",
       "            background-color:  #1f78b4;\n",
       "            color:  #000000;\n",
       "        }    #T_9b60d1d2_e01f_11eb_9ca1_98fa9b1e96cbrow0_col8 {\n",
       "            background-color:  #a6cee3;\n",
       "            color:  #000000;\n",
       "        }    #T_9b60d1d2_e01f_11eb_9ca1_98fa9b1e96cbrow0_col9 {\n",
       "            background-color:  #1f78b4;\n",
       "            color:  #000000;\n",
       "        }    #T_9b60d1d2_e01f_11eb_9ca1_98fa9b1e96cbrow1_col0 {\n",
       "            background-color:  #33a02c;\n",
       "            color:  #000000;\n",
       "        }    #T_9b60d1d2_e01f_11eb_9ca1_98fa9b1e96cbrow1_col1 {\n",
       "            background-color:  #b15928;\n",
       "            color:  #f1f1f1;\n",
       "        }    #T_9b60d1d2_e01f_11eb_9ca1_98fa9b1e96cbrow1_col2 {\n",
       "            background-color:  #ffff99;\n",
       "            color:  #000000;\n",
       "        }    #T_9b60d1d2_e01f_11eb_9ca1_98fa9b1e96cbrow1_col3 {\n",
       "            background-color:  #a6cee3;\n",
       "            color:  #000000;\n",
       "        }    #T_9b60d1d2_e01f_11eb_9ca1_98fa9b1e96cbrow1_col4 {\n",
       "            background-color:  #a6cee3;\n",
       "            color:  #000000;\n",
       "        }    #T_9b60d1d2_e01f_11eb_9ca1_98fa9b1e96cbrow1_col5 {\n",
       "            background-color:  #a6cee3;\n",
       "            color:  #000000;\n",
       "        }    #T_9b60d1d2_e01f_11eb_9ca1_98fa9b1e96cbrow1_col6 {\n",
       "            background-color:  #b2df8a;\n",
       "            color:  #000000;\n",
       "        }    #T_9b60d1d2_e01f_11eb_9ca1_98fa9b1e96cbrow1_col7 {\n",
       "            background-color:  #1f78b4;\n",
       "            color:  #000000;\n",
       "        }    #T_9b60d1d2_e01f_11eb_9ca1_98fa9b1e96cbrow1_col8 {\n",
       "            background-color:  #33a02c;\n",
       "            color:  #000000;\n",
       "        }    #T_9b60d1d2_e01f_11eb_9ca1_98fa9b1e96cbrow1_col9 {\n",
       "            background-color:  #b2df8a;\n",
       "            color:  #000000;\n",
       "        }    #T_9b60d1d2_e01f_11eb_9ca1_98fa9b1e96cbrow2_col0 {\n",
       "            background-color:  #fb9a99;\n",
       "            color:  #000000;\n",
       "        }    #T_9b60d1d2_e01f_11eb_9ca1_98fa9b1e96cbrow2_col1 {\n",
       "            background-color:  #ffff99;\n",
       "            color:  #000000;\n",
       "        }    #T_9b60d1d2_e01f_11eb_9ca1_98fa9b1e96cbrow2_col2 {\n",
       "            background-color:  #b15928;\n",
       "            color:  #f1f1f1;\n",
       "        }    #T_9b60d1d2_e01f_11eb_9ca1_98fa9b1e96cbrow2_col3 {\n",
       "            background-color:  #1f78b4;\n",
       "            color:  #000000;\n",
       "        }    #T_9b60d1d2_e01f_11eb_9ca1_98fa9b1e96cbrow2_col4 {\n",
       "            background-color:  #a6cee3;\n",
       "            color:  #000000;\n",
       "        }    #T_9b60d1d2_e01f_11eb_9ca1_98fa9b1e96cbrow2_col5 {\n",
       "            background-color:  #a6cee3;\n",
       "            color:  #000000;\n",
       "        }    #T_9b60d1d2_e01f_11eb_9ca1_98fa9b1e96cbrow2_col6 {\n",
       "            background-color:  #33a02c;\n",
       "            color:  #000000;\n",
       "        }    #T_9b60d1d2_e01f_11eb_9ca1_98fa9b1e96cbrow2_col7 {\n",
       "            background-color:  #1f78b4;\n",
       "            color:  #000000;\n",
       "        }    #T_9b60d1d2_e01f_11eb_9ca1_98fa9b1e96cbrow2_col8 {\n",
       "            background-color:  #33a02c;\n",
       "            color:  #000000;\n",
       "        }    #T_9b60d1d2_e01f_11eb_9ca1_98fa9b1e96cbrow2_col9 {\n",
       "            background-color:  #b2df8a;\n",
       "            color:  #000000;\n",
       "        }    #T_9b60d1d2_e01f_11eb_9ca1_98fa9b1e96cbrow3_col0 {\n",
       "            background-color:  #1f78b4;\n",
       "            color:  #000000;\n",
       "        }    #T_9b60d1d2_e01f_11eb_9ca1_98fa9b1e96cbrow3_col1 {\n",
       "            background-color:  #a6cee3;\n",
       "            color:  #000000;\n",
       "        }    #T_9b60d1d2_e01f_11eb_9ca1_98fa9b1e96cbrow3_col2 {\n",
       "            background-color:  #a6cee3;\n",
       "            color:  #000000;\n",
       "        }    #T_9b60d1d2_e01f_11eb_9ca1_98fa9b1e96cbrow3_col3 {\n",
       "            background-color:  #b15928;\n",
       "            color:  #f1f1f1;\n",
       "        }    #T_9b60d1d2_e01f_11eb_9ca1_98fa9b1e96cbrow3_col4 {\n",
       "            background-color:  #a6cee3;\n",
       "            color:  #000000;\n",
       "        }    #T_9b60d1d2_e01f_11eb_9ca1_98fa9b1e96cbrow3_col5 {\n",
       "            background-color:  #a6cee3;\n",
       "            color:  #000000;\n",
       "        }    #T_9b60d1d2_e01f_11eb_9ca1_98fa9b1e96cbrow3_col6 {\n",
       "            background-color:  #33a02c;\n",
       "            color:  #000000;\n",
       "        }    #T_9b60d1d2_e01f_11eb_9ca1_98fa9b1e96cbrow3_col7 {\n",
       "            background-color:  #a6cee3;\n",
       "            color:  #000000;\n",
       "        }    #T_9b60d1d2_e01f_11eb_9ca1_98fa9b1e96cbrow3_col8 {\n",
       "            background-color:  #a6cee3;\n",
       "            color:  #000000;\n",
       "        }    #T_9b60d1d2_e01f_11eb_9ca1_98fa9b1e96cbrow3_col9 {\n",
       "            background-color:  #a6cee3;\n",
       "            color:  #000000;\n",
       "        }    #T_9b60d1d2_e01f_11eb_9ca1_98fa9b1e96cbrow4_col0 {\n",
       "            background-color:  #a6cee3;\n",
       "            color:  #000000;\n",
       "        }    #T_9b60d1d2_e01f_11eb_9ca1_98fa9b1e96cbrow4_col1 {\n",
       "            background-color:  #a6cee3;\n",
       "            color:  #000000;\n",
       "        }    #T_9b60d1d2_e01f_11eb_9ca1_98fa9b1e96cbrow4_col2 {\n",
       "            background-color:  #a6cee3;\n",
       "            color:  #000000;\n",
       "        }    #T_9b60d1d2_e01f_11eb_9ca1_98fa9b1e96cbrow4_col3 {\n",
       "            background-color:  #a6cee3;\n",
       "            color:  #000000;\n",
       "        }    #T_9b60d1d2_e01f_11eb_9ca1_98fa9b1e96cbrow4_col4 {\n",
       "            background-color:  #b15928;\n",
       "            color:  #f1f1f1;\n",
       "        }    #T_9b60d1d2_e01f_11eb_9ca1_98fa9b1e96cbrow4_col5 {\n",
       "            background-color:  #b2df8a;\n",
       "            color:  #000000;\n",
       "        }    #T_9b60d1d2_e01f_11eb_9ca1_98fa9b1e96cbrow4_col6 {\n",
       "            background-color:  #a6cee3;\n",
       "            color:  #000000;\n",
       "        }    #T_9b60d1d2_e01f_11eb_9ca1_98fa9b1e96cbrow4_col7 {\n",
       "            background-color:  #33a02c;\n",
       "            color:  #000000;\n",
       "        }    #T_9b60d1d2_e01f_11eb_9ca1_98fa9b1e96cbrow4_col8 {\n",
       "            background-color:  #a6cee3;\n",
       "            color:  #000000;\n",
       "        }    #T_9b60d1d2_e01f_11eb_9ca1_98fa9b1e96cbrow4_col9 {\n",
       "            background-color:  #a6cee3;\n",
       "            color:  #000000;\n",
       "        }    #T_9b60d1d2_e01f_11eb_9ca1_98fa9b1e96cbrow5_col0 {\n",
       "            background-color:  #a6cee3;\n",
       "            color:  #000000;\n",
       "        }    #T_9b60d1d2_e01f_11eb_9ca1_98fa9b1e96cbrow5_col1 {\n",
       "            background-color:  #a6cee3;\n",
       "            color:  #000000;\n",
       "        }    #T_9b60d1d2_e01f_11eb_9ca1_98fa9b1e96cbrow5_col2 {\n",
       "            background-color:  #a6cee3;\n",
       "            color:  #000000;\n",
       "        }    #T_9b60d1d2_e01f_11eb_9ca1_98fa9b1e96cbrow5_col3 {\n",
       "            background-color:  #1f78b4;\n",
       "            color:  #000000;\n",
       "        }    #T_9b60d1d2_e01f_11eb_9ca1_98fa9b1e96cbrow5_col4 {\n",
       "            background-color:  #33a02c;\n",
       "            color:  #000000;\n",
       "        }    #T_9b60d1d2_e01f_11eb_9ca1_98fa9b1e96cbrow5_col5 {\n",
       "            background-color:  #b15928;\n",
       "            color:  #f1f1f1;\n",
       "        }    #T_9b60d1d2_e01f_11eb_9ca1_98fa9b1e96cbrow5_col6 {\n",
       "            background-color:  #1f78b4;\n",
       "            color:  #000000;\n",
       "        }    #T_9b60d1d2_e01f_11eb_9ca1_98fa9b1e96cbrow5_col7 {\n",
       "            background-color:  #1f78b4;\n",
       "            color:  #000000;\n",
       "        }    #T_9b60d1d2_e01f_11eb_9ca1_98fa9b1e96cbrow5_col8 {\n",
       "            background-color:  #1f78b4;\n",
       "            color:  #000000;\n",
       "        }    #T_9b60d1d2_e01f_11eb_9ca1_98fa9b1e96cbrow5_col9 {\n",
       "            background-color:  #1f78b4;\n",
       "            color:  #000000;\n",
       "        }    #T_9b60d1d2_e01f_11eb_9ca1_98fa9b1e96cbrow6_col0 {\n",
       "            background-color:  #1f78b4;\n",
       "            color:  #000000;\n",
       "        }    #T_9b60d1d2_e01f_11eb_9ca1_98fa9b1e96cbrow6_col1 {\n",
       "            background-color:  #b2df8a;\n",
       "            color:  #000000;\n",
       "        }    #T_9b60d1d2_e01f_11eb_9ca1_98fa9b1e96cbrow6_col2 {\n",
       "            background-color:  #b2df8a;\n",
       "            color:  #000000;\n",
       "        }    #T_9b60d1d2_e01f_11eb_9ca1_98fa9b1e96cbrow6_col3 {\n",
       "            background-color:  #33a02c;\n",
       "            color:  #000000;\n",
       "        }    #T_9b60d1d2_e01f_11eb_9ca1_98fa9b1e96cbrow6_col4 {\n",
       "            background-color:  #a6cee3;\n",
       "            color:  #000000;\n",
       "        }    #T_9b60d1d2_e01f_11eb_9ca1_98fa9b1e96cbrow6_col5 {\n",
       "            background-color:  #a6cee3;\n",
       "            color:  #000000;\n",
       "        }    #T_9b60d1d2_e01f_11eb_9ca1_98fa9b1e96cbrow6_col6 {\n",
       "            background-color:  #b15928;\n",
       "            color:  #f1f1f1;\n",
       "        }    #T_9b60d1d2_e01f_11eb_9ca1_98fa9b1e96cbrow6_col7 {\n",
       "            background-color:  #a6cee3;\n",
       "            color:  #000000;\n",
       "        }    #T_9b60d1d2_e01f_11eb_9ca1_98fa9b1e96cbrow6_col8 {\n",
       "            background-color:  #b2df8a;\n",
       "            color:  #000000;\n",
       "        }    #T_9b60d1d2_e01f_11eb_9ca1_98fa9b1e96cbrow6_col9 {\n",
       "            background-color:  #a6cee3;\n",
       "            color:  #000000;\n",
       "        }    #T_9b60d1d2_e01f_11eb_9ca1_98fa9b1e96cbrow7_col0 {\n",
       "            background-color:  #a6cee3;\n",
       "            color:  #000000;\n",
       "        }    #T_9b60d1d2_e01f_11eb_9ca1_98fa9b1e96cbrow7_col1 {\n",
       "            background-color:  #1f78b4;\n",
       "            color:  #000000;\n",
       "        }    #T_9b60d1d2_e01f_11eb_9ca1_98fa9b1e96cbrow7_col2 {\n",
       "            background-color:  #a6cee3;\n",
       "            color:  #000000;\n",
       "        }    #T_9b60d1d2_e01f_11eb_9ca1_98fa9b1e96cbrow7_col3 {\n",
       "            background-color:  #a6cee3;\n",
       "            color:  #000000;\n",
       "        }    #T_9b60d1d2_e01f_11eb_9ca1_98fa9b1e96cbrow7_col4 {\n",
       "            background-color:  #b2df8a;\n",
       "            color:  #000000;\n",
       "        }    #T_9b60d1d2_e01f_11eb_9ca1_98fa9b1e96cbrow7_col5 {\n",
       "            background-color:  #1f78b4;\n",
       "            color:  #000000;\n",
       "        }    #T_9b60d1d2_e01f_11eb_9ca1_98fa9b1e96cbrow7_col6 {\n",
       "            background-color:  #a6cee3;\n",
       "            color:  #000000;\n",
       "        }    #T_9b60d1d2_e01f_11eb_9ca1_98fa9b1e96cbrow7_col7 {\n",
       "            background-color:  #b15928;\n",
       "            color:  #f1f1f1;\n",
       "        }    #T_9b60d1d2_e01f_11eb_9ca1_98fa9b1e96cbrow7_col8 {\n",
       "            background-color:  #a6cee3;\n",
       "            color:  #000000;\n",
       "        }    #T_9b60d1d2_e01f_11eb_9ca1_98fa9b1e96cbrow7_col9 {\n",
       "            background-color:  #b2df8a;\n",
       "            color:  #000000;\n",
       "        }    #T_9b60d1d2_e01f_11eb_9ca1_98fa9b1e96cbrow8_col0 {\n",
       "            background-color:  #1f78b4;\n",
       "            color:  #000000;\n",
       "        }    #T_9b60d1d2_e01f_11eb_9ca1_98fa9b1e96cbrow8_col1 {\n",
       "            background-color:  #fb9a99;\n",
       "            color:  #000000;\n",
       "        }    #T_9b60d1d2_e01f_11eb_9ca1_98fa9b1e96cbrow8_col2 {\n",
       "            background-color:  #33a02c;\n",
       "            color:  #000000;\n",
       "        }    #T_9b60d1d2_e01f_11eb_9ca1_98fa9b1e96cbrow8_col3 {\n",
       "            background-color:  #1f78b4;\n",
       "            color:  #000000;\n",
       "        }    #T_9b60d1d2_e01f_11eb_9ca1_98fa9b1e96cbrow8_col4 {\n",
       "            background-color:  #1f78b4;\n",
       "            color:  #000000;\n",
       "        }    #T_9b60d1d2_e01f_11eb_9ca1_98fa9b1e96cbrow8_col5 {\n",
       "            background-color:  #b2df8a;\n",
       "            color:  #000000;\n",
       "        }    #T_9b60d1d2_e01f_11eb_9ca1_98fa9b1e96cbrow8_col6 {\n",
       "            background-color:  #33a02c;\n",
       "            color:  #000000;\n",
       "        }    #T_9b60d1d2_e01f_11eb_9ca1_98fa9b1e96cbrow8_col7 {\n",
       "            background-color:  #b2df8a;\n",
       "            color:  #000000;\n",
       "        }    #T_9b60d1d2_e01f_11eb_9ca1_98fa9b1e96cbrow8_col8 {\n",
       "            background-color:  #b15928;\n",
       "            color:  #f1f1f1;\n",
       "        }    #T_9b60d1d2_e01f_11eb_9ca1_98fa9b1e96cbrow8_col9 {\n",
       "            background-color:  #b2df8a;\n",
       "            color:  #000000;\n",
       "        }    #T_9b60d1d2_e01f_11eb_9ca1_98fa9b1e96cbrow9_col0 {\n",
       "            background-color:  #1f78b4;\n",
       "            color:  #000000;\n",
       "        }    #T_9b60d1d2_e01f_11eb_9ca1_98fa9b1e96cbrow9_col1 {\n",
       "            background-color:  #b2df8a;\n",
       "            color:  #000000;\n",
       "        }    #T_9b60d1d2_e01f_11eb_9ca1_98fa9b1e96cbrow9_col2 {\n",
       "            background-color:  #b2df8a;\n",
       "            color:  #000000;\n",
       "        }    #T_9b60d1d2_e01f_11eb_9ca1_98fa9b1e96cbrow9_col3 {\n",
       "            background-color:  #a6cee3;\n",
       "            color:  #000000;\n",
       "        }    #T_9b60d1d2_e01f_11eb_9ca1_98fa9b1e96cbrow9_col4 {\n",
       "            background-color:  #1f78b4;\n",
       "            color:  #000000;\n",
       "        }    #T_9b60d1d2_e01f_11eb_9ca1_98fa9b1e96cbrow9_col5 {\n",
       "            background-color:  #1f78b4;\n",
       "            color:  #000000;\n",
       "        }    #T_9b60d1d2_e01f_11eb_9ca1_98fa9b1e96cbrow9_col6 {\n",
       "            background-color:  #a6cee3;\n",
       "            color:  #000000;\n",
       "        }    #T_9b60d1d2_e01f_11eb_9ca1_98fa9b1e96cbrow9_col7 {\n",
       "            background-color:  #b2df8a;\n",
       "            color:  #000000;\n",
       "        }    #T_9b60d1d2_e01f_11eb_9ca1_98fa9b1e96cbrow9_col8 {\n",
       "            background-color:  #1f78b4;\n",
       "            color:  #000000;\n",
       "        }    #T_9b60d1d2_e01f_11eb_9ca1_98fa9b1e96cbrow9_col9 {\n",
       "            background-color:  #b15928;\n",
       "            color:  #f1f1f1;\n",
       "        }</style><table id=\"T_9b60d1d2_e01f_11eb_9ca1_98fa9b1e96cb\" ><thead>    <tr>        <th class=\"blank level0\" ></th>        <th class=\"col_heading level0 col0\" >LOAN</th>        <th class=\"col_heading level0 col1\" >MORTDUE</th>        <th class=\"col_heading level0 col2\" >VALUE</th>        <th class=\"col_heading level0 col3\" >YOJ</th>        <th class=\"col_heading level0 col4\" >DEROG</th>        <th class=\"col_heading level0 col5\" >DELINQ</th>        <th class=\"col_heading level0 col6\" >CLAGE</th>        <th class=\"col_heading level0 col7\" >NINQ</th>        <th class=\"col_heading level0 col8\" >CLNO</th>        <th class=\"col_heading level0 col9\" >DEBTINC</th>    </tr></thead><tbody>\n",
       "                <tr>\n",
       "                        <th id=\"T_9b60d1d2_e01f_11eb_9ca1_98fa9b1e96cblevel0_row0\" class=\"row_heading level0 row0\" >LOAN</th>\n",
       "                        <td id=\"T_9b60d1d2_e01f_11eb_9ca1_98fa9b1e96cbrow0_col0\" class=\"data row0 col0\" >1.000000</td>\n",
       "                        <td id=\"T_9b60d1d2_e01f_11eb_9ca1_98fa9b1e96cbrow0_col1\" class=\"data row0 col1\" >0.228595</td>\n",
       "                        <td id=\"T_9b60d1d2_e01f_11eb_9ca1_98fa9b1e96cbrow0_col2\" class=\"data row0 col2\" >0.335393</td>\n",
       "                        <td id=\"T_9b60d1d2_e01f_11eb_9ca1_98fa9b1e96cbrow0_col3\" class=\"data row0 col3\" >0.105728</td>\n",
       "                        <td id=\"T_9b60d1d2_e01f_11eb_9ca1_98fa9b1e96cbrow0_col4\" class=\"data row0 col4\" >-0.001302</td>\n",
       "                        <td id=\"T_9b60d1d2_e01f_11eb_9ca1_98fa9b1e96cbrow0_col5\" class=\"data row0 col5\" >-0.035144</td>\n",
       "                        <td id=\"T_9b60d1d2_e01f_11eb_9ca1_98fa9b1e96cbrow0_col6\" class=\"data row0 col6\" >0.088540</td>\n",
       "                        <td id=\"T_9b60d1d2_e01f_11eb_9ca1_98fa9b1e96cbrow0_col7\" class=\"data row0 col7\" >0.044487</td>\n",
       "                        <td id=\"T_9b60d1d2_e01f_11eb_9ca1_98fa9b1e96cbrow0_col8\" class=\"data row0 col8\" >0.072631</td>\n",
       "                        <td id=\"T_9b60d1d2_e01f_11eb_9ca1_98fa9b1e96cbrow0_col9\" class=\"data row0 col9\" >0.084735</td>\n",
       "            </tr>\n",
       "            <tr>\n",
       "                        <th id=\"T_9b60d1d2_e01f_11eb_9ca1_98fa9b1e96cblevel0_row1\" class=\"row_heading level0 row1\" >MORTDUE</th>\n",
       "                        <td id=\"T_9b60d1d2_e01f_11eb_9ca1_98fa9b1e96cbrow1_col0\" class=\"data row1 col0\" >0.228595</td>\n",
       "                        <td id=\"T_9b60d1d2_e01f_11eb_9ca1_98fa9b1e96cbrow1_col1\" class=\"data row1 col1\" >1.000000</td>\n",
       "                        <td id=\"T_9b60d1d2_e01f_11eb_9ca1_98fa9b1e96cbrow1_col2\" class=\"data row1 col2\" >0.875666</td>\n",
       "                        <td id=\"T_9b60d1d2_e01f_11eb_9ca1_98fa9b1e96cbrow1_col3\" class=\"data row1 col3\" >-0.088480</td>\n",
       "                        <td id=\"T_9b60d1d2_e01f_11eb_9ca1_98fa9b1e96cbrow1_col4\" class=\"data row1 col4\" >-0.049516</td>\n",
       "                        <td id=\"T_9b60d1d2_e01f_11eb_9ca1_98fa9b1e96cbrow1_col5\" class=\"data row1 col5\" >-0.001044</td>\n",
       "                        <td id=\"T_9b60d1d2_e01f_11eb_9ca1_98fa9b1e96cbrow1_col6\" class=\"data row1 col6\" >0.140047</td>\n",
       "                        <td id=\"T_9b60d1d2_e01f_11eb_9ca1_98fa9b1e96cbrow1_col7\" class=\"data row1 col7\" >0.031392</td>\n",
       "                        <td id=\"T_9b60d1d2_e01f_11eb_9ca1_98fa9b1e96cbrow1_col8\" class=\"data row1 col8\" >0.323631</td>\n",
       "                        <td id=\"T_9b60d1d2_e01f_11eb_9ca1_98fa9b1e96cbrow1_col9\" class=\"data row1 col9\" >0.154939</td>\n",
       "            </tr>\n",
       "            <tr>\n",
       "                        <th id=\"T_9b60d1d2_e01f_11eb_9ca1_98fa9b1e96cblevel0_row2\" class=\"row_heading level0 row2\" >VALUE</th>\n",
       "                        <td id=\"T_9b60d1d2_e01f_11eb_9ca1_98fa9b1e96cbrow2_col0\" class=\"data row2 col0\" >0.335393</td>\n",
       "                        <td id=\"T_9b60d1d2_e01f_11eb_9ca1_98fa9b1e96cbrow2_col1\" class=\"data row2 col1\" >0.875666</td>\n",
       "                        <td id=\"T_9b60d1d2_e01f_11eb_9ca1_98fa9b1e96cbrow2_col2\" class=\"data row2 col2\" >1.000000</td>\n",
       "                        <td id=\"T_9b60d1d2_e01f_11eb_9ca1_98fa9b1e96cbrow2_col3\" class=\"data row2 col3\" >0.007759</td>\n",
       "                        <td id=\"T_9b60d1d2_e01f_11eb_9ca1_98fa9b1e96cbrow2_col4\" class=\"data row2 col4\" >-0.048689</td>\n",
       "                        <td id=\"T_9b60d1d2_e01f_11eb_9ca1_98fa9b1e96cbrow2_col5\" class=\"data row2 col5\" >-0.014103</td>\n",
       "                        <td id=\"T_9b60d1d2_e01f_11eb_9ca1_98fa9b1e96cbrow2_col6\" class=\"data row2 col6\" >0.171238</td>\n",
       "                        <td id=\"T_9b60d1d2_e01f_11eb_9ca1_98fa9b1e96cbrow2_col7\" class=\"data row2 col7\" >-0.004398</td>\n",
       "                        <td id=\"T_9b60d1d2_e01f_11eb_9ca1_98fa9b1e96cbrow2_col8\" class=\"data row2 col8\" >0.269149</td>\n",
       "                        <td id=\"T_9b60d1d2_e01f_11eb_9ca1_98fa9b1e96cbrow2_col9\" class=\"data row2 col9\" >0.132174</td>\n",
       "            </tr>\n",
       "            <tr>\n",
       "                        <th id=\"T_9b60d1d2_e01f_11eb_9ca1_98fa9b1e96cblevel0_row3\" class=\"row_heading level0 row3\" >YOJ</th>\n",
       "                        <td id=\"T_9b60d1d2_e01f_11eb_9ca1_98fa9b1e96cbrow3_col0\" class=\"data row3 col0\" >0.105728</td>\n",
       "                        <td id=\"T_9b60d1d2_e01f_11eb_9ca1_98fa9b1e96cbrow3_col1\" class=\"data row3 col1\" >-0.088480</td>\n",
       "                        <td id=\"T_9b60d1d2_e01f_11eb_9ca1_98fa9b1e96cbrow3_col2\" class=\"data row3 col2\" >0.007759</td>\n",
       "                        <td id=\"T_9b60d1d2_e01f_11eb_9ca1_98fa9b1e96cbrow3_col3\" class=\"data row3 col3\" >1.000000</td>\n",
       "                        <td id=\"T_9b60d1d2_e01f_11eb_9ca1_98fa9b1e96cbrow3_col4\" class=\"data row3 col4\" >-0.065879</td>\n",
       "                        <td id=\"T_9b60d1d2_e01f_11eb_9ca1_98fa9b1e96cbrow3_col5\" class=\"data row3 col5\" >0.038153</td>\n",
       "                        <td id=\"T_9b60d1d2_e01f_11eb_9ca1_98fa9b1e96cbrow3_col6\" class=\"data row3 col6\" >0.201718</td>\n",
       "                        <td id=\"T_9b60d1d2_e01f_11eb_9ca1_98fa9b1e96cbrow3_col7\" class=\"data row3 col7\" >-0.071627</td>\n",
       "                        <td id=\"T_9b60d1d2_e01f_11eb_9ca1_98fa9b1e96cbrow3_col8\" class=\"data row3 col8\" >0.024838</td>\n",
       "                        <td id=\"T_9b60d1d2_e01f_11eb_9ca1_98fa9b1e96cbrow3_col9\" class=\"data row3 col9\" >-0.055891</td>\n",
       "            </tr>\n",
       "            <tr>\n",
       "                        <th id=\"T_9b60d1d2_e01f_11eb_9ca1_98fa9b1e96cblevel0_row4\" class=\"row_heading level0 row4\" >DEROG</th>\n",
       "                        <td id=\"T_9b60d1d2_e01f_11eb_9ca1_98fa9b1e96cbrow4_col0\" class=\"data row4 col0\" >-0.001302</td>\n",
       "                        <td id=\"T_9b60d1d2_e01f_11eb_9ca1_98fa9b1e96cbrow4_col1\" class=\"data row4 col1\" >-0.049516</td>\n",
       "                        <td id=\"T_9b60d1d2_e01f_11eb_9ca1_98fa9b1e96cbrow4_col2\" class=\"data row4 col2\" >-0.048689</td>\n",
       "                        <td id=\"T_9b60d1d2_e01f_11eb_9ca1_98fa9b1e96cbrow4_col3\" class=\"data row4 col3\" >-0.065879</td>\n",
       "                        <td id=\"T_9b60d1d2_e01f_11eb_9ca1_98fa9b1e96cbrow4_col4\" class=\"data row4 col4\" >1.000000</td>\n",
       "                        <td id=\"T_9b60d1d2_e01f_11eb_9ca1_98fa9b1e96cbrow4_col5\" class=\"data row4 col5\" >0.211832</td>\n",
       "                        <td id=\"T_9b60d1d2_e01f_11eb_9ca1_98fa9b1e96cbrow4_col6\" class=\"data row4 col6\" >-0.083047</td>\n",
       "                        <td id=\"T_9b60d1d2_e01f_11eb_9ca1_98fa9b1e96cbrow4_col7\" class=\"data row4 col7\" >0.173934</td>\n",
       "                        <td id=\"T_9b60d1d2_e01f_11eb_9ca1_98fa9b1e96cbrow4_col8\" class=\"data row4 col8\" >0.061884</td>\n",
       "                        <td id=\"T_9b60d1d2_e01f_11eb_9ca1_98fa9b1e96cbrow4_col9\" class=\"data row4 col9\" >0.017065</td>\n",
       "            </tr>\n",
       "            <tr>\n",
       "                        <th id=\"T_9b60d1d2_e01f_11eb_9ca1_98fa9b1e96cblevel0_row5\" class=\"row_heading level0 row5\" >DELINQ</th>\n",
       "                        <td id=\"T_9b60d1d2_e01f_11eb_9ca1_98fa9b1e96cbrow5_col0\" class=\"data row5 col0\" >-0.035144</td>\n",
       "                        <td id=\"T_9b60d1d2_e01f_11eb_9ca1_98fa9b1e96cbrow5_col1\" class=\"data row5 col1\" >-0.001044</td>\n",
       "                        <td id=\"T_9b60d1d2_e01f_11eb_9ca1_98fa9b1e96cbrow5_col2\" class=\"data row5 col2\" >-0.014103</td>\n",
       "                        <td id=\"T_9b60d1d2_e01f_11eb_9ca1_98fa9b1e96cbrow5_col3\" class=\"data row5 col3\" >0.038153</td>\n",
       "                        <td id=\"T_9b60d1d2_e01f_11eb_9ca1_98fa9b1e96cbrow5_col4\" class=\"data row5 col4\" >0.211832</td>\n",
       "                        <td id=\"T_9b60d1d2_e01f_11eb_9ca1_98fa9b1e96cbrow5_col5\" class=\"data row5 col5\" >1.000000</td>\n",
       "                        <td id=\"T_9b60d1d2_e01f_11eb_9ca1_98fa9b1e96cbrow5_col6\" class=\"data row5 col6\" >0.022488</td>\n",
       "                        <td id=\"T_9b60d1d2_e01f_11eb_9ca1_98fa9b1e96cbrow5_col7\" class=\"data row5 col7\" >0.067812</td>\n",
       "                        <td id=\"T_9b60d1d2_e01f_11eb_9ca1_98fa9b1e96cbrow5_col8\" class=\"data row5 col8\" >0.164639</td>\n",
       "                        <td id=\"T_9b60d1d2_e01f_11eb_9ca1_98fa9b1e96cbrow5_col9\" class=\"data row5 col9\" >0.052364</td>\n",
       "            </tr>\n",
       "            <tr>\n",
       "                        <th id=\"T_9b60d1d2_e01f_11eb_9ca1_98fa9b1e96cblevel0_row6\" class=\"row_heading level0 row6\" >CLAGE</th>\n",
       "                        <td id=\"T_9b60d1d2_e01f_11eb_9ca1_98fa9b1e96cbrow6_col0\" class=\"data row6 col0\" >0.088540</td>\n",
       "                        <td id=\"T_9b60d1d2_e01f_11eb_9ca1_98fa9b1e96cbrow6_col1\" class=\"data row6 col1\" >0.140047</td>\n",
       "                        <td id=\"T_9b60d1d2_e01f_11eb_9ca1_98fa9b1e96cbrow6_col2\" class=\"data row6 col2\" >0.171238</td>\n",
       "                        <td id=\"T_9b60d1d2_e01f_11eb_9ca1_98fa9b1e96cbrow6_col3\" class=\"data row6 col3\" >0.201718</td>\n",
       "                        <td id=\"T_9b60d1d2_e01f_11eb_9ca1_98fa9b1e96cbrow6_col4\" class=\"data row6 col4\" >-0.083047</td>\n",
       "                        <td id=\"T_9b60d1d2_e01f_11eb_9ca1_98fa9b1e96cbrow6_col5\" class=\"data row6 col5\" >0.022488</td>\n",
       "                        <td id=\"T_9b60d1d2_e01f_11eb_9ca1_98fa9b1e96cbrow6_col6\" class=\"data row6 col6\" >1.000000</td>\n",
       "                        <td id=\"T_9b60d1d2_e01f_11eb_9ca1_98fa9b1e96cbrow6_col7\" class=\"data row6 col7\" >-0.116935</td>\n",
       "                        <td id=\"T_9b60d1d2_e01f_11eb_9ca1_98fa9b1e96cbrow6_col8\" class=\"data row6 col8\" >0.237987</td>\n",
       "                        <td id=\"T_9b60d1d2_e01f_11eb_9ca1_98fa9b1e96cbrow6_col9\" class=\"data row6 col9\" >-0.046477</td>\n",
       "            </tr>\n",
       "            <tr>\n",
       "                        <th id=\"T_9b60d1d2_e01f_11eb_9ca1_98fa9b1e96cblevel0_row7\" class=\"row_heading level0 row7\" >NINQ</th>\n",
       "                        <td id=\"T_9b60d1d2_e01f_11eb_9ca1_98fa9b1e96cbrow7_col0\" class=\"data row7 col0\" >0.044487</td>\n",
       "                        <td id=\"T_9b60d1d2_e01f_11eb_9ca1_98fa9b1e96cbrow7_col1\" class=\"data row7 col1\" >0.031392</td>\n",
       "                        <td id=\"T_9b60d1d2_e01f_11eb_9ca1_98fa9b1e96cbrow7_col2\" class=\"data row7 col2\" >-0.004398</td>\n",
       "                        <td id=\"T_9b60d1d2_e01f_11eb_9ca1_98fa9b1e96cbrow7_col3\" class=\"data row7 col3\" >-0.071627</td>\n",
       "                        <td id=\"T_9b60d1d2_e01f_11eb_9ca1_98fa9b1e96cbrow7_col4\" class=\"data row7 col4\" >0.173934</td>\n",
       "                        <td id=\"T_9b60d1d2_e01f_11eb_9ca1_98fa9b1e96cbrow7_col5\" class=\"data row7 col5\" >0.067812</td>\n",
       "                        <td id=\"T_9b60d1d2_e01f_11eb_9ca1_98fa9b1e96cbrow7_col6\" class=\"data row7 col6\" >-0.116935</td>\n",
       "                        <td id=\"T_9b60d1d2_e01f_11eb_9ca1_98fa9b1e96cbrow7_col7\" class=\"data row7 col7\" >1.000000</td>\n",
       "                        <td id=\"T_9b60d1d2_e01f_11eb_9ca1_98fa9b1e96cbrow7_col8\" class=\"data row7 col8\" >0.088389</td>\n",
       "                        <td id=\"T_9b60d1d2_e01f_11eb_9ca1_98fa9b1e96cbrow7_col9\" class=\"data row7 col9\" >0.141344</td>\n",
       "            </tr>\n",
       "            <tr>\n",
       "                        <th id=\"T_9b60d1d2_e01f_11eb_9ca1_98fa9b1e96cblevel0_row8\" class=\"row_heading level0 row8\" >CLNO</th>\n",
       "                        <td id=\"T_9b60d1d2_e01f_11eb_9ca1_98fa9b1e96cbrow8_col0\" class=\"data row8 col0\" >0.072631</td>\n",
       "                        <td id=\"T_9b60d1d2_e01f_11eb_9ca1_98fa9b1e96cbrow8_col1\" class=\"data row8 col1\" >0.323631</td>\n",
       "                        <td id=\"T_9b60d1d2_e01f_11eb_9ca1_98fa9b1e96cbrow8_col2\" class=\"data row8 col2\" >0.269149</td>\n",
       "                        <td id=\"T_9b60d1d2_e01f_11eb_9ca1_98fa9b1e96cbrow8_col3\" class=\"data row8 col3\" >0.024838</td>\n",
       "                        <td id=\"T_9b60d1d2_e01f_11eb_9ca1_98fa9b1e96cbrow8_col4\" class=\"data row8 col4\" >0.061884</td>\n",
       "                        <td id=\"T_9b60d1d2_e01f_11eb_9ca1_98fa9b1e96cbrow8_col5\" class=\"data row8 col5\" >0.164639</td>\n",
       "                        <td id=\"T_9b60d1d2_e01f_11eb_9ca1_98fa9b1e96cbrow8_col6\" class=\"data row8 col6\" >0.237987</td>\n",
       "                        <td id=\"T_9b60d1d2_e01f_11eb_9ca1_98fa9b1e96cbrow8_col7\" class=\"data row8 col7\" >0.088389</td>\n",
       "                        <td id=\"T_9b60d1d2_e01f_11eb_9ca1_98fa9b1e96cbrow8_col8\" class=\"data row8 col8\" >1.000000</td>\n",
       "                        <td id=\"T_9b60d1d2_e01f_11eb_9ca1_98fa9b1e96cbrow8_col9\" class=\"data row8 col9\" >0.185539</td>\n",
       "            </tr>\n",
       "            <tr>\n",
       "                        <th id=\"T_9b60d1d2_e01f_11eb_9ca1_98fa9b1e96cblevel0_row9\" class=\"row_heading level0 row9\" >DEBTINC</th>\n",
       "                        <td id=\"T_9b60d1d2_e01f_11eb_9ca1_98fa9b1e96cbrow9_col0\" class=\"data row9 col0\" >0.084735</td>\n",
       "                        <td id=\"T_9b60d1d2_e01f_11eb_9ca1_98fa9b1e96cbrow9_col1\" class=\"data row9 col1\" >0.154939</td>\n",
       "                        <td id=\"T_9b60d1d2_e01f_11eb_9ca1_98fa9b1e96cbrow9_col2\" class=\"data row9 col2\" >0.132174</td>\n",
       "                        <td id=\"T_9b60d1d2_e01f_11eb_9ca1_98fa9b1e96cbrow9_col3\" class=\"data row9 col3\" >-0.055891</td>\n",
       "                        <td id=\"T_9b60d1d2_e01f_11eb_9ca1_98fa9b1e96cbrow9_col4\" class=\"data row9 col4\" >0.017065</td>\n",
       "                        <td id=\"T_9b60d1d2_e01f_11eb_9ca1_98fa9b1e96cbrow9_col5\" class=\"data row9 col5\" >0.052364</td>\n",
       "                        <td id=\"T_9b60d1d2_e01f_11eb_9ca1_98fa9b1e96cbrow9_col6\" class=\"data row9 col6\" >-0.046477</td>\n",
       "                        <td id=\"T_9b60d1d2_e01f_11eb_9ca1_98fa9b1e96cbrow9_col7\" class=\"data row9 col7\" >0.141344</td>\n",
       "                        <td id=\"T_9b60d1d2_e01f_11eb_9ca1_98fa9b1e96cbrow9_col8\" class=\"data row9 col8\" >0.185539</td>\n",
       "                        <td id=\"T_9b60d1d2_e01f_11eb_9ca1_98fa9b1e96cbrow9_col9\" class=\"data row9 col9\" >1.000000</td>\n",
       "            </tr>\n",
       "    </tbody></table>"
      ],
      "text/plain": [
       "<pandas.io.formats.style.Styler at 0x1d613520a90>"
      ]
     },
     "execution_count": 20,
     "metadata": {},
     "output_type": "execute_result"
    }
   ],
   "source": [
    "# Check correlation\n",
    "corr = df.corr()\n",
    "corr.style.background_gradient(cmap='Paired') # not too highly correlated"
   ]
  },
  {
   "cell_type": "markdown",
   "metadata": {},
   "source": [
    "# MODELLING"
   ]
  },
  {
   "cell_type": "code",
   "execution_count": 21,
   "metadata": {},
   "outputs": [],
   "source": [
    "# Create training and testing sets\n",
    "X_train, X_test, y_train, y_test = model_selection.train_test_split(abt[abt.columns.difference(target)], \n",
    "                                                                    abt[target], \n",
    "                                                                    test_size=0.33, random_state=27513)"
   ]
  },
  {
   "cell_type": "code",
   "execution_count": 22,
   "metadata": {
    "scrolled": false
   },
   "outputs": [
    {
     "name": "stdout",
     "output_type": "stream",
     "text": [
      "[{'label': 'Logit', 'model': LogisticRegression(random_state=123)},\n",
      " {'label': 'DTree', 'model': DecisionTreeClassifier(random_state=123)},\n",
      " {'label': 'RFor', 'model': RandomForestClassifier(random_state=123)},\n",
      " {'label': 'GBoost', 'model': GradientBoostingClassifier(random_state=123)}]\n"
     ]
    }
   ],
   "source": [
    "# Quick check of which model works best\n",
    "classifiers = [\n",
    "    LogisticRegression(random_state=123),\n",
    "    DecisionTreeClassifier(random_state=123),\n",
    "    RandomForestClassifier(random_state=123),\n",
    "    GradientBoostingClassifier(random_state=123)\n",
    "    ]\n",
    "\n",
    "labels = ['Logit', 'DTree', 'RFor', 'GBoost']\n",
    "\n",
    "models = []\n",
    "models_dic = {}\n",
    "\n",
    "for label, classifier in zip(labels, classifiers):\n",
    "    model = classifier.fit(X_train, y_train.values.ravel())\n",
    "    models_dic = {'label': label, 'model': model}\n",
    "    models.append(models_dic)\n",
    "\n",
    "pprint.pprint(models)"
   ]
  },
  {
   "cell_type": "code",
   "execution_count": 23,
   "metadata": {},
   "outputs": [
    {
     "name": "stdout",
     "output_type": "stream",
     "text": [
      "Misclassification Rates\n",
      "Logit : 0.19827147941026946\n",
      "DTree : 0.1260803253685816\n",
      "RFor : 0.08083375699034057\n",
      "GBoost : 0.09710218607015764\n"
     ]
    }
   ],
   "source": [
    "#Check misclassification rate of the above models\n",
    "print('Misclassification Rates')\n",
    "for m in models:\n",
    "    dt_misclassification = 1 - metrics.accuracy_score(y_test, m['model'].predict(X_test))\n",
    "    print('{} :'.format(m['label']), dt_misclassification) #Random Forest is the best model (0.08083375699034057)"
   ]
  },
  {
   "cell_type": "code",
   "execution_count": 24,
   "metadata": {
    "scrolled": true
   },
   "outputs": [
    {
     "data": {
      "image/png": "[encoded data removed]",
      "text/plain": [
       "<Figure size 504x360 with 1 Axes>"
      ]
     },
     "metadata": {
      "needs_background": "light"
     },
     "output_type": "display_data"
    }
   ],
   "source": [
    "#Plot ROC Curve\n",
    "plt.figure(figsize = (7, 5))\n",
    "for m in models:\n",
    "    model = m['model']\n",
    "    fpr, tpr, thresholds = metrics.roc_curve(y_test, model.predict_proba(X_test)[:,1])\n",
    "    auc = metrics.roc_auc_score(y_test,model.predict(X_test))\n",
    "    plt.plot(fpr, tpr, label='%s ROC (area = %0.2f)' % (m['label'], auc))\n",
    "plt.plot([0, 1], [0, 1],'r--')\n",
    "plt.xlim([0.0, 1.0])\n",
    "plt.ylim([0.0, 1.05])\n",
    "plt.xlabel('False Postive Rate')\n",
    "plt.ylabel('True Positive Rate')\n",
    "plt.title('ROC Curve (using validation data)')\n",
    "plt.legend(loc=\"lower right\")\n",
    "plt.show()"
   ]
  },
  {
   "cell_type": "code",
   "execution_count": 25,
   "metadata": {},
   "outputs": [],
   "source": [
    "# Only keep GBoost and Random Forest as challengers\n",
    "del_models = ['Logit', 'DTree']        \n",
    "models = [model_dict for model_dict in models if model_dict['label'] not in del_models]"
   ]
  },
  {
   "cell_type": "code",
   "execution_count": 26,
   "metadata": {},
   "outputs": [
    {
     "name": "stdout",
     "output_type": "stream",
     "text": [
      "[0]\tvalidation_0-error:0.130729\tvalidation_0-logloss:0.63298\tvalidation_1-error:0.136248\tvalidation_1-logloss:0.63355\n",
      "Multiple eval metrics have been passed: 'validation_1-logloss' will be used for early stopping.\n",
      "\n",
      "Will train until validation_1-logloss hasn't improved in 10 rounds.\n",
      "[1]\tvalidation_0-error:0.130228\tvalidation_0-logloss:0.583501\tvalidation_1-error:0.133198\tvalidation_1-logloss:0.584555\n",
      "[2]\tvalidation_0-error:0.129477\tvalidation_0-logloss:0.542331\tvalidation_1-error:0.132181\tvalidation_1-logloss:0.543875\n",
      "[3]\tvalidation_0-error:0.129977\tvalidation_0-logloss:0.507856\tvalidation_1-error:0.134723\tvalidation_1-logloss:0.510459\n",
      "[4]\tvalidation_0-error:0.112948\tvalidation_0-logloss:0.478549\tvalidation_1-error:0.112862\tvalidation_1-logloss:0.482106\n",
      "[5]\tvalidation_0-error:0.111695\tvalidation_0-logloss:0.453207\tvalidation_1-error:0.110829\tvalidation_1-logloss:0.457104\n",
      "[6]\tvalidation_0-error:0.109692\tvalidation_0-logloss:0.431617\tvalidation_1-error:0.12303\tvalidation_1-logloss:0.43745\n",
      "[7]\tvalidation_0-error:0.107939\tvalidation_0-logloss:0.413446\tvalidation_1-error:0.12303\tvalidation_1-logloss:0.420149\n",
      "[8]\tvalidation_0-error:0.109191\tvalidation_0-logloss:0.397994\tvalidation_1-error:0.12303\tvalidation_1-logloss:0.405427\n",
      "[9]\tvalidation_0-error:0.110443\tvalidation_0-logloss:0.384258\tvalidation_1-error:0.122013\tvalidation_1-logloss:0.3929\n",
      "[10]\tvalidation_0-error:0.106687\tvalidation_0-logloss:0.369139\tvalidation_1-error:0.120996\tvalidation_1-logloss:0.37926\n",
      "[11]\tvalidation_0-error:0.106687\tvalidation_0-logloss:0.356656\tvalidation_1-error:0.121505\tvalidation_1-logloss:0.367045\n",
      "[12]\tvalidation_0-error:0.105935\tvalidation_0-logloss:0.347026\tvalidation_1-error:0.11998\tvalidation_1-logloss:0.358607\n",
      "[13]\tvalidation_0-error:0.105935\tvalidation_0-logloss:0.336505\tvalidation_1-error:0.119471\tvalidation_1-logloss:0.348952\n",
      "[14]\tvalidation_0-error:0.105685\tvalidation_0-logloss:0.326844\tvalidation_1-error:0.116929\tvalidation_1-logloss:0.340038\n",
      "[15]\tvalidation_0-error:0.106186\tvalidation_0-logloss:0.319106\tvalidation_1-error:0.117946\tvalidation_1-logloss:0.332979\n",
      "[16]\tvalidation_0-error:0.104683\tvalidation_0-logloss:0.312879\tvalidation_1-error:0.116421\tvalidation_1-logloss:0.32754\n",
      "[17]\tvalidation_0-error:0.104182\tvalidation_0-logloss:0.3064\tvalidation_1-error:0.116929\tvalidation_1-logloss:0.321621\n"
     ]
    },
    {
     "name": "stderr",
     "output_type": "stream",
     "text": [
      "C:\\Users\\canyzn\\AppData\\Local\\Continuum\\anaconda3\\lib\\site-packages\\sklearn\\utils\\validation.py:63: DataConversionWarning: A column-vector y was passed when a 1d array was expected. Please change the shape of y to (n_samples, ), for example using ravel().\n",
      "  return f(*args, **kwargs)\n"
     ]
    },
    {
     "name": "stdout",
     "output_type": "stream",
     "text": [
      "[18]\tvalidation_0-error:0.10268\tvalidation_0-logloss:0.301136\tvalidation_1-error:0.114896\tvalidation_1-logloss:0.317351\n",
      "[19]\tvalidation_0-error:0.102429\tvalidation_0-logloss:0.294944\tvalidation_1-error:0.115404\tvalidation_1-logloss:0.312303\n",
      "[20]\tvalidation_0-error:0.102429\tvalidation_0-logloss:0.289658\tvalidation_1-error:0.115913\tvalidation_1-logloss:0.307643\n",
      "[21]\tvalidation_0-error:0.10293\tvalidation_0-logloss:0.285082\tvalidation_1-error:0.114896\tvalidation_1-logloss:0.304836\n",
      "[22]\tvalidation_0-error:0.10268\tvalidation_0-logloss:0.281139\tvalidation_1-error:0.115404\tvalidation_1-logloss:0.301562\n",
      "[23]\tvalidation_0-error:0.101427\tvalidation_0-logloss:0.276814\tvalidation_1-error:0.113371\tvalidation_1-logloss:0.297478\n",
      "[24]\tvalidation_0-error:0.100175\tvalidation_0-logloss:0.272947\tvalidation_1-error:0.114387\tvalidation_1-logloss:0.29444\n",
      "[25]\tvalidation_0-error:0.099174\tvalidation_0-logloss:0.269315\tvalidation_1-error:0.111337\tvalidation_1-logloss:0.291786\n",
      "[26]\tvalidation_0-error:0.098422\tvalidation_0-logloss:0.265964\tvalidation_1-error:0.11032\tvalidation_1-logloss:0.289735\n",
      "[27]\tvalidation_0-error:0.098923\tvalidation_0-logloss:0.263064\tvalidation_1-error:0.11032\tvalidation_1-logloss:0.287876\n",
      "[28]\tvalidation_0-error:0.098673\tvalidation_0-logloss:0.260594\tvalidation_1-error:0.112862\tvalidation_1-logloss:0.286318\n",
      "[29]\tvalidation_0-error:0.098422\tvalidation_0-logloss:0.25793\tvalidation_1-error:0.109812\tvalidation_1-logloss:0.284425\n",
      "[30]\tvalidation_0-error:0.09692\tvalidation_0-logloss:0.255469\tvalidation_1-error:0.110829\tvalidation_1-logloss:0.282088\n",
      "[31]\tvalidation_0-error:0.096168\tvalidation_0-logloss:0.253434\tvalidation_1-error:0.113371\tvalidation_1-logloss:0.280717\n",
      "[32]\tvalidation_0-error:0.095918\tvalidation_0-logloss:0.250354\tvalidation_1-error:0.109812\tvalidation_1-logloss:0.278221\n",
      "[33]\tvalidation_0-error:0.094666\tvalidation_0-logloss:0.248275\tvalidation_1-error:0.108287\tvalidation_1-logloss:0.277268\n",
      "[34]\tvalidation_0-error:0.093914\tvalidation_0-logloss:0.246199\tvalidation_1-error:0.11032\tvalidation_1-logloss:0.275852\n",
      "[35]\tvalidation_0-error:0.093914\tvalidation_0-logloss:0.243894\tvalidation_1-error:0.111337\tvalidation_1-logloss:0.274751\n",
      "[36]\tvalidation_0-error:0.093413\tvalidation_0-logloss:0.242572\tvalidation_1-error:0.110829\tvalidation_1-logloss:0.273479\n",
      "[37]\tvalidation_0-error:0.092913\tvalidation_0-logloss:0.240791\tvalidation_1-error:0.11032\tvalidation_1-logloss:0.272168\n",
      "[38]\tvalidation_0-error:0.091911\tvalidation_0-logloss:0.239296\tvalidation_1-error:0.108795\tvalidation_1-logloss:0.271332\n",
      "[39]\tvalidation_0-error:0.09166\tvalidation_0-logloss:0.23817\tvalidation_1-error:0.108795\tvalidation_1-logloss:0.270672\n",
      "[40]\tvalidation_0-error:0.09116\tvalidation_0-logloss:0.235942\tvalidation_1-error:0.109304\tvalidation_1-logloss:0.269039\n",
      "[41]\tvalidation_0-error:0.090408\tvalidation_0-logloss:0.233957\tvalidation_1-error:0.109812\tvalidation_1-logloss:0.267867\n",
      "[42]\tvalidation_0-error:0.092161\tvalidation_0-logloss:0.232134\tvalidation_1-error:0.109304\tvalidation_1-logloss:0.266558\n",
      "[43]\tvalidation_0-error:0.09166\tvalidation_0-logloss:0.231102\tvalidation_1-error:0.109304\tvalidation_1-logloss:0.26595\n",
      "[44]\tvalidation_0-error:0.090408\tvalidation_0-logloss:0.228987\tvalidation_1-error:0.109304\tvalidation_1-logloss:0.26512\n",
      "[45]\tvalidation_0-error:0.090158\tvalidation_0-logloss:0.227298\tvalidation_1-error:0.108795\tvalidation_1-logloss:0.263708\n",
      "[46]\tvalidation_0-error:0.089406\tvalidation_0-logloss:0.226208\tvalidation_1-error:0.108287\tvalidation_1-logloss:0.263183\n",
      "[47]\tvalidation_0-error:0.088906\tvalidation_0-logloss:0.223949\tvalidation_1-error:0.10727\tvalidation_1-logloss:0.261681\n",
      "[48]\tvalidation_0-error:0.087653\tvalidation_0-logloss:0.222262\tvalidation_1-error:0.106253\tvalidation_1-logloss:0.260824\n",
      "[49]\tvalidation_0-error:0.087653\tvalidation_0-logloss:0.221563\tvalidation_1-error:0.10727\tvalidation_1-logloss:0.260355\n",
      "[50]\tvalidation_0-error:0.086401\tvalidation_0-logloss:0.220164\tvalidation_1-error:0.107778\tvalidation_1-logloss:0.259501\n",
      "[51]\tvalidation_0-error:0.0859\tvalidation_0-logloss:0.219554\tvalidation_1-error:0.106762\tvalidation_1-logloss:0.259019\n",
      "[52]\tvalidation_0-error:0.0859\tvalidation_0-logloss:0.218945\tvalidation_1-error:0.106762\tvalidation_1-logloss:0.258559\n",
      "[53]\tvalidation_0-error:0.08565\tvalidation_0-logloss:0.216638\tvalidation_1-error:0.105236\tvalidation_1-logloss:0.257676\n",
      "[54]\tvalidation_0-error:0.083897\tvalidation_0-logloss:0.214243\tvalidation_1-error:0.103203\tvalidation_1-logloss:0.25606\n",
      "[55]\tvalidation_0-error:0.083897\tvalidation_0-logloss:0.212389\tvalidation_1-error:0.102694\tvalidation_1-logloss:0.255577\n",
      "[56]\tvalidation_0-error:0.083897\tvalidation_0-logloss:0.211191\tvalidation_1-error:0.103711\tvalidation_1-logloss:0.255029\n",
      "[57]\tvalidation_0-error:0.082394\tvalidation_0-logloss:0.21012\tvalidation_1-error:0.103203\tvalidation_1-logloss:0.253954\n",
      "[58]\tvalidation_0-error:0.081643\tvalidation_0-logloss:0.208933\tvalidation_1-error:0.102694\tvalidation_1-logloss:0.253523\n",
      "[59]\tvalidation_0-error:0.080892\tvalidation_0-logloss:0.207537\tvalidation_1-error:0.101678\tvalidation_1-logloss:0.253088\n",
      "[60]\tvalidation_0-error:0.07989\tvalidation_0-logloss:0.205804\tvalidation_1-error:0.104728\tvalidation_1-logloss:0.252316\n",
      "[61]\tvalidation_0-error:0.079639\tvalidation_0-logloss:0.205014\tvalidation_1-error:0.102694\tvalidation_1-logloss:0.251928\n",
      "[62]\tvalidation_0-error:0.079389\tvalidation_0-logloss:0.204132\tvalidation_1-error:0.102186\tvalidation_1-logloss:0.251212\n",
      "[63]\tvalidation_0-error:0.078387\tvalidation_0-logloss:0.202651\tvalidation_1-error:0.103203\tvalidation_1-logloss:0.249987\n",
      "[64]\tvalidation_0-error:0.076634\tvalidation_0-logloss:0.201026\tvalidation_1-error:0.101678\tvalidation_1-logloss:0.249424\n",
      "[65]\tvalidation_0-error:0.076885\tvalidation_0-logloss:0.199608\tvalidation_1-error:0.102186\tvalidation_1-logloss:0.248678\n",
      "[66]\tvalidation_0-error:0.075632\tvalidation_0-logloss:0.197762\tvalidation_1-error:0.102186\tvalidation_1-logloss:0.247346\n",
      "[67]\tvalidation_0-error:0.075382\tvalidation_0-logloss:0.196976\tvalidation_1-error:0.101678\tvalidation_1-logloss:0.246983\n",
      "[68]\tvalidation_0-error:0.075632\tvalidation_0-logloss:0.195978\tvalidation_1-error:0.101169\tvalidation_1-logloss:0.24625\n",
      "[69]\tvalidation_0-error:0.075131\tvalidation_0-logloss:0.194889\tvalidation_1-error:0.102186\tvalidation_1-logloss:0.245099\n",
      "[70]\tvalidation_0-error:0.074631\tvalidation_0-logloss:0.194003\tvalidation_1-error:0.102694\tvalidation_1-logloss:0.244382\n",
      "[71]\tvalidation_0-error:0.074631\tvalidation_0-logloss:0.193495\tvalidation_1-error:0.102694\tvalidation_1-logloss:0.243972\n",
      "[72]\tvalidation_0-error:0.07438\tvalidation_0-logloss:0.192922\tvalidation_1-error:0.102186\tvalidation_1-logloss:0.243555\n",
      "[73]\tvalidation_0-error:0.074881\tvalidation_0-logloss:0.191764\tvalidation_1-error:0.102186\tvalidation_1-logloss:0.243247\n",
      "[74]\tvalidation_0-error:0.073629\tvalidation_0-logloss:0.190777\tvalidation_1-error:0.101678\tvalidation_1-logloss:0.242566\n",
      "[75]\tvalidation_0-error:0.072878\tvalidation_0-logloss:0.18978\tvalidation_1-error:0.100661\tvalidation_1-logloss:0.241386\n",
      "[76]\tvalidation_0-error:0.072627\tvalidation_0-logloss:0.18809\tvalidation_1-error:0.099644\tvalidation_1-logloss:0.240478\n",
      "[77]\tvalidation_0-error:0.072126\tvalidation_0-logloss:0.186449\tvalidation_1-error:0.100153\tvalidation_1-logloss:0.239849\n",
      "[78]\tvalidation_0-error:0.070624\tvalidation_0-logloss:0.1849\tvalidation_1-error:0.098119\tvalidation_1-logloss:0.239243\n",
      "[79]\tvalidation_0-error:0.069872\tvalidation_0-logloss:0.183501\tvalidation_1-error:0.097102\tvalidation_1-logloss:0.238447\n",
      "[80]\tvalidation_0-error:0.070123\tvalidation_0-logloss:0.182653\tvalidation_1-error:0.098119\tvalidation_1-logloss:0.237937\n",
      "[81]\tvalidation_0-error:0.069121\tvalidation_0-logloss:0.181458\tvalidation_1-error:0.096594\tvalidation_1-logloss:0.23732\n",
      "[82]\tvalidation_0-error:0.069121\tvalidation_0-logloss:0.18061\tvalidation_1-error:0.097102\tvalidation_1-logloss:0.236933\n",
      "[83]\tvalidation_0-error:0.068119\tvalidation_0-logloss:0.179682\tvalidation_1-error:0.096085\tvalidation_1-logloss:0.236667\n",
      "[84]\tvalidation_0-error:0.067869\tvalidation_0-logloss:0.178567\tvalidation_1-error:0.095577\tvalidation_1-logloss:0.235935\n",
      "[85]\tvalidation_0-error:0.067117\tvalidation_0-logloss:0.177817\tvalidation_1-error:0.095577\tvalidation_1-logloss:0.235737\n"
     ]
    },
    {
     "name": "stdout",
     "output_type": "stream",
     "text": [
      "[86]\tvalidation_0-error:0.066617\tvalidation_0-logloss:0.176644\tvalidation_1-error:0.095069\tvalidation_1-logloss:0.235083\n",
      "[87]\tvalidation_0-error:0.066116\tvalidation_0-logloss:0.175822\tvalidation_1-error:0.095069\tvalidation_1-logloss:0.234349\n",
      "[88]\tvalidation_0-error:0.065364\tvalidation_0-logloss:0.174961\tvalidation_1-error:0.095577\tvalidation_1-logloss:0.233751\n",
      "[89]\tvalidation_0-error:0.065114\tvalidation_0-logloss:0.17356\tvalidation_1-error:0.096085\tvalidation_1-logloss:0.233319\n",
      "[90]\tvalidation_0-error:0.064363\tvalidation_0-logloss:0.172882\tvalidation_1-error:0.095577\tvalidation_1-logloss:0.232657\n",
      "[91]\tvalidation_0-error:0.064613\tvalidation_0-logloss:0.17251\tvalidation_1-error:0.096085\tvalidation_1-logloss:0.232258\n",
      "[92]\tvalidation_0-error:0.064112\tvalidation_0-logloss:0.171303\tvalidation_1-error:0.095577\tvalidation_1-logloss:0.231964\n",
      "[93]\tvalidation_0-error:0.063611\tvalidation_0-logloss:0.170302\tvalidation_1-error:0.095069\tvalidation_1-logloss:0.231543\n",
      "[94]\tvalidation_0-error:0.063361\tvalidation_0-logloss:0.169778\tvalidation_1-error:0.095577\tvalidation_1-logloss:0.231221\n",
      "[95]\tvalidation_0-error:0.063611\tvalidation_0-logloss:0.169\tvalidation_1-error:0.095069\tvalidation_1-logloss:0.230477\n",
      "[96]\tvalidation_0-error:0.061608\tvalidation_0-logloss:0.167695\tvalidation_1-error:0.096085\tvalidation_1-logloss:0.2297\n",
      "[97]\tvalidation_0-error:0.061107\tvalidation_0-logloss:0.16725\tvalidation_1-error:0.096085\tvalidation_1-logloss:0.22956\n",
      "[98]\tvalidation_0-error:0.061357\tvalidation_0-logloss:0.166921\tvalidation_1-error:0.095577\tvalidation_1-logloss:0.22932\n",
      "[99]\tvalidation_0-error:0.059103\tvalidation_0-logloss:0.165535\tvalidation_1-error:0.093035\tvalidation_1-logloss:0.228648\n"
     ]
    },
    {
     "data": {
      "text/plain": [
       "XGBClassifier(max_depth=4, random_state=123, subsample=0.9)"
      ]
     },
     "execution_count": 26,
     "metadata": {},
     "output_type": "execute_result"
    }
   ],
   "source": [
    "# Create a XGBoost model\n",
    "xgb = XGBClassifier(max_depth=4,\n",
    "                        subsample=0.9,\n",
    "                        objective='binary:logistic',\n",
    "                        n_estimators=100,\n",
    "                        learning_rate = 0.1, random_state=123)\n",
    "eval_set = [(X_train, y_train), (X_test, y_test)]\n",
    "xgb.fit(X_train, y_train.values.ravel(), early_stopping_rounds=10,\n",
    "          eval_metric=[\"error\", \"logloss\"], eval_set=eval_set, verbose=True)"
   ]
  },
  {
   "cell_type": "code",
   "execution_count": 27,
   "metadata": {},
   "outputs": [
    {
     "name": "stdout",
     "output_type": "stream",
     "text": [
      "Misclassification Rates\n",
      " XGBoost : 0.09303507880020334\n"
     ]
    }
   ],
   "source": [
    "dt_misclassification = 1 - metrics.accuracy_score(y_test, xgb.predict(X_test))\n",
    "print('Misclassification Rates\\n', 'XGBoost :', dt_misclassification) #0.09303507880020334"
   ]
  },
  {
   "cell_type": "code",
   "execution_count": 28,
   "metadata": {
    "scrolled": true
   },
   "outputs": [
    {
     "data": {
      "image/png": "[encoded data removed]",
      "text/plain": [
       "<Figure size 432x288 with 1 Axes>"
      ]
     },
     "metadata": {
      "needs_background": "light"
     },
     "output_type": "display_data"
    },
    {
     "data": {
      "image/png": "[encoded data removed]",
      "text/plain": [
       "<Figure size 432x288 with 1 Axes>"
      ]
     },
     "metadata": {
      "needs_background": "light"
     },
     "output_type": "display_data"
    }
   ],
   "source": [
    "# retrieve performance metrics\n",
    "results = xgb.evals_result()\n",
    "epochs = len(results['validation_0']['error'])\n",
    "x_axis = range(0, epochs)\n",
    "# plot log loss\n",
    "fig, ax = plt.subplots()\n",
    "ax.plot(x_axis, results['validation_0']['logloss'], label='Train')\n",
    "ax.plot(x_axis, results['validation_1']['logloss'], label='Test')\n",
    "ax.legend()\n",
    "plt.ylabel('Log Loss')\n",
    "plt.title('XGBoost Log Loss')\n",
    "plt.show()\n",
    "# plot classification error\n",
    "fig, ax = plt.subplots()\n",
    "ax.plot(x_axis, results['validation_0']['error'], label='Train')\n",
    "ax.plot(x_axis, results['validation_1']['error'], label='Test')\n",
    "ax.legend()\n",
    "plt.ylabel('Classification Error')\n",
    "plt.title('XGBoost Classification Error')\n",
    "plt.show()"
   ]
  },
  {
   "cell_type": "code",
   "execution_count": 29,
   "metadata": {
    "scrolled": true
   },
   "outputs": [
    {
     "data": {
      "image/png": "[encoded data removed]",
      "text/plain": [
       "<Figure size 504x360 with 1 Axes>"
      ]
     },
     "metadata": {
      "needs_background": "light"
     },
     "output_type": "display_data"
    }
   ],
   "source": [
    "#Compare Gboost, RF and XGBoost\n",
    "models.append({'label': 'XGBoost','model': xgb})\n",
    "plt.figure(figsize = (7, 5))\n",
    "for m in models:\n",
    "    model = m['model']\n",
    "    fpr, tpr, thresholds = metrics.roc_curve(y_test, model.predict_proba(X_test)[:,1])\n",
    "    auc = metrics.roc_auc_score(y_test,model.predict(X_test))\n",
    "    plt.plot(fpr, tpr, label='%s ROC (area = %0.2f)' % (m['label'], auc))\n",
    "plt.plot([0, 1], [0, 1],'r--')\n",
    "plt.xlim([0.0, 1.0])\n",
    "plt.ylim([0.0, 1.05])\n",
    "plt.xlabel('False Postive Rate')\n",
    "plt.ylabel('True Positive Rate')\n",
    "plt.title('ROC Curve (using validation data)')\n",
    "plt.legend(loc=\"lower right\")\n",
    "plt.show() #RandomForest is the best model with AUC of 0.82, followed by XGB of 0.80 and GB of 0.79"
   ]
  },
  {
   "cell_type": "code",
   "execution_count": 30,
   "metadata": {
    "scrolled": true
   },
   "outputs": [
    {
     "data": {
      "image/png": "[encoded data removed]",
      "text/plain": [
       "<Figure size 504x360 with 1 Axes>"
      ]
     },
     "metadata": {
      "needs_background": "light"
     },
     "output_type": "display_data"
    },
    {
     "data": {
      "image/png": "[encoded data removed]",
      "text/plain": [
       "<Figure size 504x360 with 1 Axes>"
      ]
     },
     "metadata": {
      "needs_background": "light"
     },
     "output_type": "display_data"
    },
    {
     "data": {
      "image/png": "[encoded data removed]",
      "text/plain": [
       "<Figure size 504x360 with 1 Axes>"
      ]
     },
     "metadata": {
      "needs_background": "light"
     },
     "output_type": "display_data"
    }
   ],
   "source": [
    "#Check feature importance\n",
    "for m in models:\n",
    "    model = m['model']\n",
    "    feat_imp = pd.DataFrame({'importance':model.feature_importances_})\n",
    "    feat_imp['feature'] = X_train.columns\n",
    "    feat_imp.sort_values(by='importance', ascending=False, inplace=True)\n",
    "    feat_imp = feat_imp.iloc[:10]\n",
    "\n",
    "    feat_imp.sort_values(by='importance', inplace=True)\n",
    "    feat_imp = feat_imp.set_index('feature', drop=True)\n",
    "    feat_imp.plot.barh(title='Feature Importances with {}'.format(m['label']), figsize=(7, 5))\n",
    "    plt.xlabel('Feature Importance Score')\n",
    "    plt.show()"
   ]
  },
  {
   "cell_type": "code",
   "execution_count": 31,
   "metadata": {},
   "outputs": [
    {
     "data": {
      "text/plain": [
       "RandomForestClassifier(random_state=123)"
      ]
     },
     "execution_count": 31,
     "metadata": {},
     "output_type": "execute_result"
    }
   ],
   "source": [
    "#Create a Forest model:\n",
    "RFor=RandomForestClassifier(bootstrap=True, ccp_alpha=0.0, class_weight=None,\n",
    "                       criterion='gini', max_depth=None, max_features='auto',\n",
    "                       max_leaf_nodes=None, max_samples=None,\n",
    "                       min_impurity_decrease=0.0, min_impurity_split=None,\n",
    "                       min_samples_leaf=1, min_samples_split=2,\n",
    "                       min_weight_fraction_leaf=0.0, n_estimators=100,\n",
    "                       n_jobs=None, oob_score=False, random_state=123,\n",
    "                       verbose=0, warm_start=False)\n",
    "RFor.fit(X_train, y_train.values.ravel())"
   ]
  },
  {
   "cell_type": "markdown",
   "metadata": {},
   "source": [
    "# USING SASCTL TO IMPORT PYTHON MODELS"
   ]
  },
  {
   "cell_type": "code",
   "execution_count": 32,
   "metadata": {},
   "outputs": [
    {
     "name": "stdout",
     "output_type": "stream",
     "text": [
      "········\n"
     ]
    }
   ],
   "source": [
    "#User and password\n",
    "user = 'gatedemo190'\n",
    "import getpass\n",
    "pwd = getpass.getpass()"
   ]
  },
  {
   "cell_type": "code",
   "execution_count": 33,
   "metadata": {},
   "outputs": [],
   "source": [
    "# !pip install sasctl==1.5.8"
   ]
  },
  {
   "cell_type": "code",
   "execution_count": 36,
   "metadata": {},
   "outputs": [
    {
     "data": {
      "text/plain": [
       "'1.5.9'"
      ]
     },
     "execution_count": 36,
     "metadata": {},
     "output_type": "execute_result"
    }
   ],
   "source": [
    "import sasctl\n",
    "from sasctl import pzmm as pzmm\n",
    "sasctl.__version__"
   ]
  },
  {
   "cell_type": "code",
   "execution_count": 37,
   "metadata": {
    "scrolled": true
   },
   "outputs": [
    {
     "name": "stdout",
     "output_type": "stream",
     "text": [
      "Help on package sasctl:\n",
      "\n",
      "NAME\n",
      "    sasctl\n",
      "\n",
      "DESCRIPTION\n",
      "    # encoding: utf-8\n",
      "    #\n",
      "    # Copyright © 2019, SAS Institute Inc., Cary, NC, USA.  All Rights Reserved.\n",
      "    # SPDX-License-Identifier: Apache-2.0\n",
      "\n",
      "PACKAGE CONTENTS\n",
      "    __main__\n",
      "    _services (package)\n",
      "    core\n",
      "    exceptions\n",
      "    pzmm (package)\n",
      "    services\n",
      "    tasks\n",
      "    utils (package)\n",
      "\n",
      "DATA\n",
      "    __copyright__ = 'Copyright © 2019, SAS Institute Inc., Cary, NC, USA. ...\n",
      "    __license__ = 'Apache 2.0'\n",
      "\n",
      "VERSION\n",
      "    1.5.9\n",
      "\n",
      "AUTHOR\n",
      "    SAS\n",
      "\n",
      "CREDITS\n",
      "    ['Yi Jian Ching, Lucas De Paula, James Kochuba, Peter Tobac, Chris Toth, Jon Walker']\n",
      "\n",
      "FILE\n",
      "    c:\\users\\canyzn\\appdata\\local\\continuum\\anaconda3\\lib\\site-packages\\sasctl\\__init__.py\n",
      "\n",
      "\n"
     ]
    }
   ],
   "source": [
    "help(sasctl)"
   ]
  },
  {
   "cell_type": "code",
   "execution_count": 38,
   "metadata": {},
   "outputs": [],
   "source": [
    "# Import packages for registering and publishing models in sasctl\n",
    "from sasctl import Session\n",
    "from sasctl.tasks import register_model, publish_model, update_model_performance\n",
    "from sasctl.services import model_repository as mr\n",
    "from sasctl.services import model_management as mm"
   ]
  },
  {
   "cell_type": "code",
   "execution_count": 39,
   "metadata": {},
   "outputs": [],
   "source": [
    "# Establish a session with SAS Viya\n",
    "sess=Session('cashost', user, pwd) #should use certificate instead"
   ]
  },
  {
   "cell_type": "code",
   "execution_count": 38,
   "metadata": {
    "scrolled": true
   },
   "outputs": [
    {
     "name": "stderr",
     "output_type": "stream",
     "text": [
      "C:\\Users\\canyzn\\AppData\\Local\\Continuum\\anaconda3\\lib\\site-packages\\urllib3\\connectionpool.py:847: InsecureRequestWarning: Unverified HTTPS request is being made. Adding certificate verification is strongly advised. See: https://urllib3.readthedocs.io/en/latest/advanced-usage.html#ssl-warnings\n",
      "  InsecureRequestWarning)\n",
      "Could not parse requirement: -umpy\n",
      "Could not parse requirement: -cipy\n",
      "C:\\Users\\canyzn\\AppData\\Local\\Continuum\\anaconda3\\lib\\site-packages\\urllib3\\connectionpool.py:847: InsecureRequestWarning: Unverified HTTPS request is being made. Adding certificate verification is strongly advised. See: https://urllib3.readthedocs.io/en/latest/advanced-usage.html#ssl-warnings\n",
      "  InsecureRequestWarning)\n",
      "Could not parse requirement: -umpy\n",
      "Could not parse requirement: -cipy\n"
     ]
    },
    {
     "data": {
      "text/plain": [
       "<class 'sasctl.core.RestObj'>(headers={'Server': 'nginx/1.17.8', 'Date': 'Wed, 09 Jun 2021 18:00:19 GMT', 'Content-Type': 'application/vnd.sas.models.model+json;charset=UTF-8', 'Transfer-Encoding': 'chunked', 'Connection': 'keep-alive', 'Content-Security-Policy': \"default-src 'self'; script-src 'self' 'unsafe-inline' 'unsafe-eval'; img-src 'self' *.sas.com blob: data:; style-src 'self' 'unsafe-inline'; child-src 'self' blob: data: mailto:;\", 'Last-Modified': 'Wed, 09 Jun 2021 18:00:19 GMT', 'ETag': 'W/\"17985ba2d47\"', 'X-Content-Type-Options': 'nosniff', 'X-XSS-Protection': '1; mode=block', 'Cache-Control': 'no-cache, no-store, max-age=0, must-revalidate', 'Pragma': 'no-cache', 'Expires': '0', 'Strict-Transport-Security': 'max-age=15724800; includeSubDomains', 'X-Frame-Options': 'SAMEORIGIN'}, data={'creationTimeStamp': '2021-06-09T18:00:18.185Z', 'modifiedTimeStamp': '2021-06-09T18:00:18.185Z', 'createdBy': 'gatedemo190', 'modifiedBy': 'gatedemo190', 'links': [{'method': 'GET', 'rel': 'self', 'href': '/modelRepository/models/6d312bd0-e5ac-4cca-9212-34e7d17f55ab', 'uri': '/modelRepository/models/6d312bd0-e5ac-4cca-9212-34e7d17f55ab', 'type': 'application/vnd.sas.models.model'}, {'method': 'GET', 'rel': 'alternate', 'href': '/modelRepository/models/6d312bd0-e5ac-4cca-9212-34e7d17f55ab', 'uri': '/modelRepository/models/6d312bd0-e5ac-4cca-9212-34e7d17f55ab', 'type': 'application/vnd.sas.models.model.summary'}, {'method': 'PUT', 'rel': 'update', 'href': '/modelRepository/models/6d312bd0-e5ac-4cca-9212-34e7d17f55ab', 'uri': '/modelRepository/models/6d312bd0-e5ac-4cca-9212-34e7d17f55ab', 'type': 'application/vnd.sas.models.model'}, {'method': 'DELETE', 'rel': 'delete', 'href': '/modelRepository/models/6d312bd0-e5ac-4cca-9212-34e7d17f55ab', 'uri': '/modelRepository/models/6d312bd0-e5ac-4cca-9212-34e7d17f55ab'}, {'method': 'GET', 'rel': 'contents', 'href': '/modelRepository/models/6d312bd0-e5ac-4cca-9212-34e7d17f55ab/contents', 'uri': '/modelRepository/models/6d312bd0-e5ac-4cca-9212-34e7d17f55ab/contents', 'type': 'application/vnd.sas.models.model'}], 'version': 2, 'id': '6d312bd0-e5ac-4cca-9212-34e7d17f55ab', 'name': 'XGBoost_Py_sasctl', 'description': 'XGBClassifier(max_depth=4, random_state=123, subsample=0.9)', 'location': '/Model Repositories/Public', 'projectId': 'bf0a1a85-f1f3-41c2-b162-9aff1d582ec6', 'projectName': 'HMEQ_OS&MM', 'projectVersionId': '183701ea-7c37-48f1-84db-f1670296a0c7', 'projectVersionName': 'Version 1', 'projectVersionNum': '1.0', 'folderId': '3fc1b7a0-3a9d-48cd-925d-5dd2b2316605', 'indirectFolderId': '3fc1b7a0-3a9d-48cd-925d-5dd2b2316605', 'repositoryId': '5767a7f8-2a8e-49ae-b232-9a7abbc7f0b9', 'function': 'classification', 'algorithm': 'Gradient boosting', 'tool': 'Python 3.7', 'scoreCodeType': 'ds2MultiType', 'trainCodeType': 'Python', 'modeler': 'gatedemo190', 'suggestedChampion': False, 'candidateChampion': False, 'role': 'plain', 'immutable': False, 'properties': [{'name': 'base_score', 'value': '0.5', 'type': 'string'}, {'name': 'booster', 'value': 'gbtree', 'type': 'string'}, {'name': 'colsample_bylevel', 'value': '1', 'type': 'string'}, {'name': 'colsample_bynode', 'value': '1', 'type': 'string'}, {'name': 'colsample_bytree', 'value': '1', 'type': 'string'}, {'name': 'gamma', 'value': '0', 'type': 'string'}, {'name': 'learning_rate', 'value': '0.1', 'type': 'string'}, {'name': 'max_delta_step', 'value': '0', 'type': 'string'}, {'name': 'max_depth', 'value': '4', 'type': 'string'}, {'name': 'min_child_weight', 'value': '1', 'type': 'string'}, {'name': 'missing', 'value': 'None', 'type': 'string'}, {'name': 'n_estimators', 'value': '100', 'type': 'string'}, {'name': 'n_jobs', 'value': '1', 'type': 'string'}, {'name': 'nthread', 'value': 'None', 'type': 'string'}, {'name': 'objective', 'value': 'binary:logistic', 'type': 'string'}, {'name': 'random_state', 'value': '123', 'type': 'string'}, {'name': 'reg_alpha', 'value': '0', 'type': 'string'}, {'name': 'reg_lambda', 'value': '1', 'type': 'string'}, {'name': 'scale_pos_weight', 'value': '1', 'type': 'string'}, {'name': 'seed', 'value': 'None', 'type': 'string'}, {'name': 'silent', 'value': 'None', 'type': 'string'}, {'name': 'subsample', 'value': '0.9', 'type': 'string'}, {'name': 'verbosity', 'value': '1', 'type': 'string'}, {'name': 'env_absl-py', 'value': '0.9.0', 'type': 'string'}, {'name': 'env_alabaster', 'value': '0.7.12', 'type': 'string'}, {'name': 'env_alembic', 'value': '1.4.2', 'type': 'string'}, {'name': 'env_anaconda-client', 'value': '1.7.2', 'type': 'string'}, {'name': 'env_anaconda-navigator', 'value': '1.9.7', 'type': 'string'}, {'name': 'env_anaconda-project', 'value': '0.8.3', 'type': 'string'}, {'name': 'env_appdirs', 'value': '1.4.4', 'type': 'string'}, {'name': 'env_asn1crypto', 'value': '0.24.0', 'type': 'string'}, {'name': 'env_astor', 'value': '0.8.1', 'type': 'string'}, {'name': 'env_astroid', 'value': '2.2.5', 'type': 'string'}, {'name': 'env_astropy', 'value': '3.2.1', 'type': 'string'}, {'name': 'env_astunparse', 'value': '1.6.3', 'type': 'string'}, {'name': 'env_atomicwrites', 'value': '1.3.0', 'type': 'string'}, {'name': 'env_attrs', 'value': '19.1.0', 'type': 'string'}, {'name': 'env_Automat', 'value': '20.2.0', 'type': 'string'}, {'name': 'env_Babel', 'value': '2.7.0', 'type': 'string'}, {'name': 'env_backcall', 'value': '0.1.0', 'type': 'string'}, {'name': 'env_backports.functools-lru-cache', 'value': '1.5', 'type': 'string'}, {'name': 'env_backports.os', 'value': '0.1.1', 'type': 'string'}, {'name': 'env_backports.shutil-get-terminal-size', 'value': '1.0.0', 'type': 'string'}, {'name': 'env_backports.tempfile', 'value': '1.0', 'type': 'string'}, {'name': 'env_backports.weakref', 'value': '1.0.post1', 'type': 'string'}, {'name': 'env_bcrypt', 'value': '3.1.7', 'type': 'string'}, {'name': 'env_beautifulsoup4', 'value': '4.7.1', 'type': 'string'}, {'name': 'env_bitarray', 'value': '0.9.3', 'type': 'string'}, {'name': 'env_bkcharts', 'value': '0.2', 'type': 'string'}, {'name': 'env_black', 'value': '20.8b1', 'type': 'string'}, {'name': 'env_blaze', 'value': '0.11.3', 'type': 'string'}, {'name': 'env_bleach', 'value': '3.1.0', 'type': 'string'}, {'name': 'env_blis', 'value': '0.2.4', 'type': 'string'}, {'name': 'env_bokeh', 'value': '1.2.0', 'type': 'string'}, {'name': 'env_boto', 'value': '2.49.0', 'type': 'string'}, {'name': 'env_boto3', 'value': '1.13.16', 'type': 'string'}, {'name': 'env_botocore', 'value': '1.16.16', 'type': 'string'}, {'name': 'env_Bottleneck', 'value': '1.2.1', 'type': 'string'}, {'name': 'env_branca', 'value': '0.4.2', 'type': 'string'}, {'name': 'env_brewer2mpl', 'value': '1.4.1', 'type': 'string'}, {'name': 'env_cachetools', 'value': '4.1.0', 'type': 'string'}, {'name': 'env_caesarcipher', 'value': '1.0', 'type': 'string'}, {'name': 'env_Camelot', 'value': '12.6.29', 'type': 'string'}, {'name': 'env_certifi', 'value': '2020.12.5', 'type': 'string'}, {'name': 'env_cffi', 'value': '1.12.3', 'type': 'string'}, {'name': 'env_chardet', 'value': '3.0.4', 'type': 'string'}, {'name': 'env_click', 'value': '7.1.2', 'type': 'string'}, {'name': 'env_cloudpickle', 'value': '1.2.1', 'type': 'string'}, {'name': 'env_clyent', 'value': '1.2.2', 'type': 'string'}, {'name': 'env_colorama', 'value': '0.4.1', 'type': 'string'}, {'name': 'env_comtypes', 'value': '1.1.7', 'type': 'string'}, {'name': 'env_conda', 'value': '4.9.2', 'type': 'string'}, {'name': 'env_conda-build', 'value': '3.18.8', 'type': 'string'}, {'name': 'env_conda-package-handling', 'value': '1.3.11', 'type': 'string'}, {'name': 'env_conda-verify', 'value': '3.4.2', 'type': 'string'}, {'name': 'env_constantly', 'value': '15.1.0', 'type': 'string'}, {'name': 'env_contextlib2', 'value': '0.5.5', 'type': 'string'}, {'name': 'env_coverage', 'value': '5.4', 'type': 'string'}, {'name': 'env_coveralls', 'value': '3.0.0', 'type': 'string'}, {'name': 'env_cryptography', 'value': '2.7', 'type': 'string'}, {'name': 'env_cssselect', 'value': '1.1.0', 'type': 'string'}, {'name': 'env_cycler', 'value': '0.10.0', 'type': 'string'}, {'name': 'env_cymem', 'value': '2.0.2', 'type': 'string'}, {'name': 'env_Cython', 'value': '0.29.14', 'type': 'string'}, {'name': 'env_cytoolz', 'value': '0.10.0', 'type': 'string'}, {'name': 'env_dask', 'value': '2.1.0', 'type': 'string'}, {'name': 'env_datafreeze', 'value': '0.1.0', 'type': 'string'}, {'name': 'env_datascience', 'value': '0.17.0', 'type': 'string'}, {'name': 'env_dataset', 'value': '1.3.1', 'type': 'string'}, {'name': 'env_datashape', 'value': '0.5.4', 'type': 'string'}, {'name': 'env_decorator', 'value': '4.4.0', 'type': 'string'}, {'name': 'env_defusedxml', 'value': '0.6.0', 'type': 'string'}, {'name': 'env_distributed', 'value': '2.1.0', 'type': 'string'}, {'name': 'env_docopt', 'value': '0.6.2', 'type': 'string'}, {'name': 'env_docutils', 'value': '0.14', 'type': 'string'}, {'name': 'env_eli5', 'value': '0.10.1', 'type': 'string'}, {'name': 'env_Elixir', 'value': '0.7.1', 'type': 'string'}, {'name': 'env_entrypoints', 'value': '0.3', 'type': 'string'}, {'name': 'env_et-xmlfile', 'value': '1.0.1', 'type': 'string'}, {'name': 'env_fastcache', 'value': '1.1.0', 'type': 'string'}, {'name': 'env_filelock', 'value': '3.0.12', 'type': 'string'}, {'name': 'env_flake8', 'value': '3.9.1', 'type': 'string'}, {'name': 'env_Flask', 'value': '1.1.1', 'type': 'string'}, {'name': 'env_Flask-Cors', 'value': '3.0.8', 'type': 'string'}, {'name': 'env_folium', 'value': '0.12.1', 'type': 'string'}, {'name': 'env_future', 'value': '0.17.1', 'type': 'string'}, {'name': 'env_gast', 'value': '0.2.2', 'type': 'string'}, {'name': 'env_gensim', 'value': '3.8.3', 'type': 'string'}, {'name': 'env_geocoder', 'value': '1.38.1', 'type': 'string'}, {'name': 'env_GetOldTweets3', 'value': '0.0.11', 'type': 'string'}, {'name': 'env_gevent', 'value': '1.4.0', 'type': 'string'}, {'name': 'env_ggplot', 'value': '0.11.5', 'type': 'string'}, {'name': 'env_glob2', 'value': '0.7', 'type': 'string'}, {'name': 'env_google-auth', 'value': '1.15.0', 'type': 'string'}, {'name': 'env_google-auth-oauthlib', 'value': '0.4.1', 'type': 'string'}, {'name': 'env_google-pasta', 'value': '0.2.0', 'type': 'string'}, {'name': 'env_graphviz', 'value': '0.13.2', 'type': 'string'}, {'name': 'env_greenlet', 'value': '0.4.15', 'type': 'string'}, {'name': 'env_grpcio', 'value': '1.29.0', 'type': 'string'}, {'name': 'env_h5py', 'value': '2.10.0', 'type': 'string'}, {'name': 'env_heapdict', 'value': '1.0.0', 'type': 'string'}, {'name': 'env_html5lib', 'value': '1.0.1', 'type': 'string'}, {'name': 'env_httpie', 'value': '2.1.0.dev0', 'type': 'string'}, {'name': 'env_hyperlink', 'value': '21.0.0', 'type': 'string'}, {'name': 'env_idna', 'value': '2.8', 'type': 'string'}, {'name': 'env_imageio', 'value': '2.5.0', 'type': 'string'}, {'name': 'env_imagesize', 'value': '1.1.0', 'type': 'string'}, {'name': 'env_imbalanced-learn', 'value': '0.8.0', 'type': 'string'}, {'name': 'env_imblearn', 'value': '0.0', 'type': 'string'}, {'name': 'env_importlib-metadata', 'value': '0.17', 'type': 'string'}, {'name': 'env_incremental', 'value': '17.5.0', 'type': 'string'}, {'name': 'env_inflection', 'value': '0.3.1', 'type': 'string'}, {'name': 'env_ipykernel', 'value': '5.1.1', 'type': 'string'}, {'name': 'env_ipython', 'value': '7.6.1', 'type': 'string'}, {'name': 'env_ipython-genutils', 'value': '0.2.0', 'type': 'string'}, {'name': 'env_ipywidgets', 'value': '7.5.0', 'type': 'string'}, {'name': 'env_isort', 'value': '4.3.21', 'type': 'string'}, {'name': 'env_itsdangerous', 'value': '1.1.0', 'type': 'string'}, {'name': 'env_jdcal', 'value': '1.4.1', 'type': 'string'}, {'name': 'env_jedi', 'value': '0.13.3', 'type': 'string'}, {'name': 'env_Jinja2', 'value': '2.10.1', 'type': 'string'}, {'name': 'env_jmespath', 'value': '0.10.0', 'type': 'string'}, {'name': 'env_joblib', 'value': '0.15.1', 'type': 'string'}, {'name': 'env_jovian', 'value': '0.2.33', 'type': 'string'}, {'name': 'env_json5', 'value': '0.8.4', 'type': 'string'}, {'name': 'env_jsonschema', 'value': '3.0.1', 'type': 'string'}, {'name': 'env_jupyter', 'value': '1.0.0', 'type': 'string'}, {'name': 'env_jupyter-client', 'value': '5.3.1', 'type': 'string'}, {'name': 'env_jupyter-console', 'value': '6.0.0', 'type': 'string'}, {'name': 'env_jupyter-core', 'value': '4.5.0', 'type': 'string'}, {'name': 'env_jupyterlab', 'value': '1.0.2', 'type': 'string'}, {'name': 'env_jupyterlab-launcher', 'value': '0.13.1', 'type': 'string'}, {'name': 'env_jupyterlab-server', 'value': '1.0.0', 'type': 'string'}, {'name': 'env_kaggle', 'value': '1.5.6', 'type': 'string'}, {'name': 'env_Keras', 'value': '2.3.1', 'type': 'string'}, {'name': 'env_Keras-Applications', 'value': '1.0.8', 'type': 'string'}, {'name': 'env_Keras-Preprocessing', 'value': '1.1.2', 'type': 'string'}, {'name': 'env_keyring', 'value': '18.0.0', 'type': 'string'}, {'name': 'env_kiwisolver', 'value': '1.2.0', 'type': 'string'}, {'name': 'env_lazy-object-proxy', 'value': '1.4.1', 'type': 'string'}, {'name': 'env_libarchive-c', 'value': '2.8', 'type': 'string'}, {'name': 'env_lightgbm', 'value': '2.3.1', 'type': 'string'}, {'name': 'env_lime', 'value': '0.2.0.1', 'type': 'string'}, {'name': 'env_llvmlite', 'value': '0.29.0', 'type': 'string'}, {'name': 'env_locket', 'value': '0.2.0', 'type': 'string'}, {'name': 'env_lxml', 'value': '4.3.4', 'type': 'string'}, {'name': 'env_Mako', 'value': '1.1.2', 'type': 'string'}, {'name': 'env_Markdown', 'value': '3.2.2', 'type': 'string'}, {'name': 'env_MarkupSafe', 'value': '1.1.1', 'type': 'string'}, {'name': 'env_matplotlib', 'value': '3.1.1', 'type': 'string'}, {'name': 'env_mccabe', 'value': '0.6.1', 'type': 'string'}, {'name': 'env_menuinst', 'value': '1.4.16', 'type': 'string'}, {'name': 'env_mistune', 'value': '0.8.4', 'type': 'string'}, {'name': 'env_mkl-fft', 'value': '1.0.12', 'type': 'string'}, {'name': 'env_mkl-random', 'value': '1.0.2', 'type': 'string'}, {'name': 'env_mkl-service', 'value': '2.0.2', 'type': 'string'}, {'name': 'env_mock', 'value': '3.0.5', 'type': 'string'}, {'name': 'env_more-itertools', 'value': '7.0.0', 'type': 'string'}, {'name': 'env_mpmath', 'value': '1.1.0', 'type': 'string'}, {'name': 'env_msgpack', 'value': '0.6.1', 'type': 'string'}, {'name': 'env_multipledispatch', 'value': '0.6.0', 'type': 'string'}, {'name': 'env_murmurhash', 'value': '1.0.2', 'type': 'string'}, {'name': 'env_mypy', 'value': '0.812', 'type': 'string'}, {'name': 'env_mypy-extensions', 'value': '0.4.3', 'type': 'string'}, {'name': 'env_navigator-updater', 'value': '0.2.1', 'type': 'string'}, {'name': 'env_nbconvert', 'value': '5.5.0', 'type': 'string'}, {'name': 'env_nbformat', 'value': '4.4.0', 'type': 'string'}, {'name': 'env_nbsphinx', 'value': '0.8.1', 'type': 'string'}, {'name': 'env_networkx', 'value': '2.3', 'type': 'string'}, {'name': 'env_nltk', 'value': '3.4.4', 'type': 'string'}, {'name': 'env_nose', 'value': '1.3.7', 'type': 'string'}, {'name': 'env_notebook', 'value': '6.0.0', 'type': 'string'}, {'name': 'env_numba', 'value': '0.44.1', 'type': 'string'}, {'name': 'env_numexpr', 'value': '2.6.9', 'type': 'string'}, {'name': 'env_numpy', 'value': '1.18.1', 'type': 'string'}, {'name': 'env_numpydoc', 'value': '0.9.1', 'type': 'string'}, {'name': 'env_oauthlib', 'value': '3.1.0', 'type': 'string'}, {'name': 'env_odo', 'value': '0.5.1', 'type': 'string'}, {'name': 'env_olefile', 'value': '0.46', 'type': 'string'}, {'name': 'env_openpyxl', 'value': '2.6.2', 'type': 'string'}, {'name': 'env_opt-einsum', 'value': '3.2.1', 'type': 'string'}, {'name': 'env_packaging', 'value': '19.0', 'type': 'string'}, {'name': 'env_pandas', 'value': '1.0.4', 'type': 'string'}, {'name': 'env_pandocfilters', 'value': '1.4.2', 'type': 'string'}, {'name': 'env_paramiko', 'value': '2.7.1', 'type': 'string'}, {'name': 'env_parso', 'value': '0.5.0', 'type': 'string'}, {'name': 'env_partd', 'value': '1.0.0', 'type': 'string'}, {'name': 'env_path.py', 'value': '12.0.1', 'type': 'string'}, {'name': 'env_pathlib2', 'value': '2.3.4', 'type': 'string'}, {'name': 'env_pathspec', 'value': '0.8.1', 'type': 'string'}, {'name': 'env_patsy', 'value': '0.5.1', 'type': 'string'}, {'name': 'env_pbr', 'value': '5.5.1', 'type': 'string'}, {'name': 'env_pdf2image', 'value': '1.14.0', 'type': 'string'}, {'name': 'env_pdfminer.six', 'value': '20201018', 'type': 'string'}, {'name': 'env_pdfquery', 'value': '0.4.3', 'type': 'string'}, {'name': 'env_PDPbox', 'value': '0.2.1', 'type': 'string'}, {'name': 'env_pep8', 'value': '1.7.1', 'type': 'string'}, {'name': 'env_pickleshare', 'value': '0.7.5', 'type': 'string'}, {'name': 'env_picklezip-mm', 'value': '1.0', 'type': 'string'}, {'name': 'env_Pillow', 'value': '6.1.0', 'type': 'string'}, {'name': 'env_pip', 'value': '19.1.1', 'type': 'string'}, {'name': 'env_pkginfo', 'value': '1.5.0.1', 'type': 'string'}, {'name': 'env_plac', 'value': '0.9.6', 'type': 'string'}, {'name': 'env_plotly', 'value': '4.14.3', 'type': 'string'}, {'name': 'env_pluggy', 'value': '0.12.0', 'type': 'string'}, {'name': 'env_ply', 'value': '3.11', 'type': 'string'}, {'name': 'env_preshed', 'value': '2.0.1', 'type': 'string'}, {'name': 'env_prometheus-client', 'value': '0.7.1', 'type': 'string'}, {'name': 'env_prompt-toolkit', 'value': '2.0.9', 'type': 'string'}, {'name': 'env_protobuf', 'value': '3.12.1', 'type': 'string'}, {'name': 'env_psutil', 'value': '5.6.3', 'type': 'string'}, {'name': 'env_py', 'value': '1.8.0', 'type': 'string'}, {'name': 'env_py4j', 'value': '0.10.9', 'type': 'string'}, {'name': 'env_pyasn1', 'value': '0.4.8', 'type': 'string'}, {'name': 'env_pyasn1-modules', 'value': '0.2.8', 'type': 'string'}, {'name': 'env_pycodestyle', 'value': '2.7.0', 'type': 'string'}, {'name': 'env_pycosat', 'value': '0.6.3', 'type': 'string'}, {'name': 'env_pycparser', 'value': '2.19', 'type': 'string'}, {'name': 'env_pycrypto', 'value': '2.6.1', 'type': 'string'}, {'name': 'env_pycurl', 'value': '7.43.0.3', 'type': 'string'}, {'name': 'env_pyflakes', 'value': '2.3.1', 'type': 'string'}, {'name': 'env_pygal', 'value': '2.4.0', 'type': 'string'}, {'name': 'env_Pygments', 'value': '2.5.2', 'type': 'string'}, {'name': 'env_PyHamcrest', 'value': '2.0.2', 'type': 'string'}, {'name': 'env_pylint', 'value': '2.3.1', 'type': 'string'}, {'name': 'env_PyNaCl', 'value': '1.3.0', 'type': 'string'}, {'name': 'env_pyodbc', 'value': '4.0.26', 'type': 'string'}, {'name': 'env_pyOpenSSL', 'value': '19.0.0', 'type': 'string'}, {'name': 'env_pyparsing', 'value': '2.4.0', 'type': 'string'}, {'name': 'env_pyquery', 'value': '1.4.1', 'type': 'string'}, {'name': 'env_pyreadline', 'value': '2.1', 'type': 'string'}, {'name': 'env_pyrsistent', 'value': '0.14.11', 'type': 'string'}, {'name': 'env_pysftp', 'value': '0.2.9', 'type': 'string'}, {'name': 'env_PySocks', 'value': '1.7.0', 'type': 'string'}, {'name': 'env_pyspark', 'value': '3.0.1', 'type': 'string'}, {'name': 'env_pytest', 'value': '5.0.1', 'type': 'string'}, {'name': 'env_pytest-arraydiff', 'value': '0.3', 'type': 'string'}, {'name': 'env_pytest-astropy', 'value': '0.5.0', 'type': 'string'}, {'name': 'env_pytest-doctestplus', 'value': '0.3.0', 'type': 'string'}, {'name': 'env_pytest-openfiles', 'value': '0.3.2', 'type': 'string'}, {'name': 'env_pytest-remotedata', 'value': '0.3.1', 'type': 'string'}, {'name': 'env_python-dateutil', 'value': '2.8.0', 'type': 'string'}, {'name': 'env_python-editor', 'value': '1.0.4', 'type': 'string'}, {'name': 'env_python-slugify', 'value': '4.0.1', 'type': 'string'}, {'name': 'env_pytz', 'value': '2020.1', 'type': 'string'}, {'name': 'env_PyWavelets', 'value': '1.0.3', 'type': 'string'}, {'name': 'env_pywin32', 'value': '223', 'type': 'string'}, {'name': 'env_pywinpty', 'value': '0.5.5', 'type': 'string'}, {'name': 'env_PyYAML', 'value': '5.1.1', 'type': 'string'}, {'name': 'env_pyzmq', 'value': '18.0.0', 'type': 'string'}, {'name': 'env_QtAwesome', 'value': '0.5.7', 'type': 'string'}, {'name': 'env_qtconsole', 'value': '4.5.1', 'type': 'string'}, {'name': 'env_QtPy', 'value': '1.8.0', 'type': 'string'}, {'name': 'env_ratelim', 'value': '0.1.6', 'type': 'string'}, {'name': 'env_regex', 'value': '2021.4.4', 'type': 'string'}, {'name': 'env_requests', 'value': '2.22.0', 'type': 'string'}, {'name': 'env_requests-oauthlib', 'value': '1.3.0', 'type': 'string'}, {'name': 'env_retrying', 'value': '1.3.3', 'type': 'string'}, {'name': 'env_roman', 'value': '3.3', 'type': 'string'}, {'name': 'env_rope', 'value': '0.14.0', 'type': 'string'}, {'name': 'env_rsa', 'value': '4.0', 'type': 'string'}, {'name': 'env_ruamel-yaml', 'value': '0.15.46', 'type': 'string'}, {'name': 'env_s3transfer', 'value': '0.3.3', 'type': 'string'}, {'name': 'env_sas-dlpy', 'value': '1.1.2', 'type': 'string'}, {'name': 'env_sasctl', 'value': '1.5.8', 'type': 'string'}, {'name': 'env_scikit-image', 'value': '0.15.0', 'type': 'string'}, {'name': 'env_scikit-learn', 'value': '0.24.1', 'type': 'string'}, {'name': 'env_scipy', 'value': '1.4.1', 'type': 'string'}, {'name': 'env_seaborn', 'value': '0.9.0', 'type': 'string'}, {'name': 'env_Send2Trash', 'value': '1.5.0', 'type': 'string'}, {'name': 'env_service-identity', 'value': '18.1.0', 'type': 'string'}, {'name': 'env_setuptools', 'value': '46.4.0', 'type': 'string'}, {'name': 'env_simplegeneric', 'value': '0.8.1', 'type': 'string'}, {'name': 'env_singledispatch', 'value': '3.4.0.3', 'type': 'string'}, {'name': 'env_six', 'value': '1.15.0', 'type': 'string'}, {'name': 'env_sklearn', 'value': '0.0', 'type': 'string'}, {'name': 'env_sklearn-pandas', 'value': '1.8.0', 'type': 'string'}, {'name': 'env_sklearn2pmml', 'value': '0.71.1', 'type': 'string'}, {'name': 'env_smart-open', 'value': '2.0.0', 'type': 'string'}, {'name': 'env_snowballstemmer', 'value': '1.9.0', 'type': 'string'}, {'name': 'env_sortedcollections', 'value': '1.1.2', 'type': 'string'}, {'name': 'env_sortedcontainers', 'value': '2.1.0', 'type': 'string'}, {'name': 'env_soupsieve', 'value': '1.8', 'type': 'string'}, {'name': 'env_spacy', 'value': '2.1.8', 'type': 'string'}, {'name': 'env_Sphinx', 'value': '2.1.2', 'type': 'string'}, {'name': 'env_sphinxcontrib-applehelp', 'value': '1.0.1', 'type': 'string'}, {'name': 'env_sphinxcontrib-devhelp', 'value': '1.0.1', 'type': 'string'}, {'name': 'env_sphinxcontrib-htmlhelp', 'value': '1.0.2', 'type': 'string'}, {'name': 'env_sphinxcontrib-jsmath', 'value': '1.0.1', 'type': 'string'}, {'name': 'env_sphinxcontrib-qthelp', 'value': '1.0.2', 'type': 'string'}, {'name': 'env_sphinxcontrib-serializinghtml', 'value': '1.1.3', 'type': 'string'}, {'name': 'env_sphinxcontrib-websupport', 'value': '1.1.2', 'type': 'string'}, {'name': 'env_spyder', 'value': '3.3.6', 'type': 'string'}, {'name': 'env_spyder-kernels', 'value': '0.5.1', 'type': 'string'}, {'name': 'env_SQLAlchemy', 'value': '1.4.9', 'type': 'string'}, {'name': 'env_sqlalchemy-migrate', 'value': '0.13.0', 'type': 'string'}, {'name': 'env_sqlparse', 'value': '0.4.1', 'type': 'string'}, {'name': 'env_squarify', 'value': '0.4.3', 'type': 'string'}, {'name': 'env_srsly', 'value': '0.1.0', 'type': 'string'}, {'name': 'env_statsmodels', 'value': '0.10.0', 'type': 'string'}, {'name': 'env_swat', 'value': '1.7.0', 'type': 'string'}, {'name': 'env_sympy', 'value': '1.4', 'type': 'string'}, {'name': 'env_tables', 'value': '3.5.2', 'type': 'string'}, {'name': 'env_tabula', 'value': '1.0.5', 'type': 'string'}, {'name': 'env_tabulate', 'value': '0.8.9', 'type': 'string'}, {'name': 'env_tblib', 'value': '1.4.0', 'type': 'string'}, {'name': 'env_Tempita', 'value': '0.5.2', 'type': 'string'}, {'name': 'env_tensorboard', 'value': '2.0.2', 'type': 'string'}, {'name': 'env_tensorboard-plugin-wit', 'value': '1.6.0.post3', 'type': 'string'}, {'name': 'env_tensorflow', 'value': '2.0.0', 'type': 'string'}, {'name': 'env_tensorflow-estimator', 'value': '2.0.1', 'type': 'string'}, {'name': 'env_termcolor', 'value': '1.1.0', 'type': 'string'}, {'name': 'env_terminado', 'value': '0.8.2', 'type': 'string'}, {'name': 'env_testpath', 'value': '0.4.2', 'type': 'string'}, {'name': 'env_text-unidecode', 'value': '1.3', 'type': 'string'}, {'name': 'env_textblob', 'value': '0.15.3', 'type': 'string'}, {'name': 'env_thinc', 'value': '7.0.8', 'type': 'string'}, {'name': 'env_threadpoolctl', 'value': '2.1.0', 'type': 'string'}, {'name': 'env_toml', 'value': '0.10.2', 'type': 'string'}, {'name': 'env_toolz', 'value': '0.10.0', 'type': 'string'}, {'name': 'env_tornado', 'value': '6.0.3', 'type': 'string'}, {'name': 'env_tqdm', 'value': '4.32.1', 'type': 'string'}, {'name': 'env_traitlets', 'value': '4.3.2', 'type': 'string'}, {'name': 'env_tweepy', 'value': '3.8.0', 'type': 'string'}, {'name': 'env_Twisted', 'value': '20.3.0', 'type': 'string'}, {'name': 'env_twython', 'value': '3.8.2', 'type': 'string'}, {'name': 'env_typed-ast', 'value': '1.4.3', 'type': 'string'}, {'name': 'env_typing-extensions', 'value': '3.7.4.3', 'type': 'string'}, {'name': 'env_unicodecsv', 'value': '0.14.1', 'type': 'string'}, {'name': 'env_Unidecode', 'value': '1.1.1', 'type': 'string'}, {'name': 'env_urllib3', 'value': '1.24.2', 'type': 'string'}, {'name': 'env_utils-py', 'value': '0.3.0', 'type': 'string'}, {'name': 'env_uuid', 'value': '1.30', 'type': 'string'}, {'name': 'env_viyapy', 'value': '0.0.1', 'type': 'string'}, {'name': 'env_wasabi', 'value': '0.2.2', 'type': 'string'}, {'name': 'env_wcwidth', 'value': '0.1.7', 'type': 'string'}, {'name': 'env_webencodings', 'value': '0.5.1', 'type': 'string'}, {'name': 'env_Werkzeug', 'value': '1.0.1', 'type': 'string'}, {'name': 'env_wheel', 'value': '0.34.2', 'type': 'string'}, {'name': 'env_widgetsnbextension', 'value': '3.5.0', 'type': 'string'}, {'name': 'env_win-inet-pton', 'value': '1.1.0', 'type': 'string'}, {'name': 'env_win-unicode-console', 'value': '0.5', 'type': 'string'}, {'name': 'env_wincertstore', 'value': '0.2', 'type': 'string'}, {'name': 'env_wordcloud', 'value': '1.7.0', 'type': 'string'}, {'name': 'env_wrapt', 'value': '1.11.2', 'type': 'string'}, {'name': 'env_xgboost', 'value': '0.90', 'type': 'string'}, {'name': 'env_xlrd', 'value': '0.7.1', 'type': 'string'}, {'name': 'env_XlsxWriter', 'value': '1.1.8', 'type': 'string'}, {'name': 'env_xlwings', 'value': '0.15.8', 'type': 'string'}, {'name': 'env_xlwt', 'value': '0.7.2', 'type': 'string'}, {'name': 'env_yapf', 'value': '0.31.0', 'type': 'string'}, {'name': 'env_zict', 'value': '1.0.0', 'type': 'string'}, {'name': 'env_zipp', 'value': '0.5.1', 'type': 'string'}, {'name': 'env_zope.interface', 'value': '5.1.0', 'type': 'string'}], 'inputVariables': [{'creationTimeStamp': '2021-06-09T18:00:18.414Z', 'modifiedTimeStamp': '2021-06-09T18:00:18.414Z', 'createdBy': 'gatedemo190', 'modifiedBy': 'gatedemo190', 'links': [{'method': 'GET', 'rel': 'up', 'href': '/modelRepository/models/6d312bd0-e5ac-4cca-9212-34e7d17f55ab/variables', 'uri': '/modelRepository/models/6d312bd0-e5ac-4cca-9212-34e7d17f55ab/variables', 'type': 'application/vnd.sas.collection', 'itemType': 'application/vnd.sas.models.variable'}, {'method': 'GET', 'rel': 'self', 'href': '/modelRepository/models/6d312bd0-e5ac-4cca-9212-34e7d17f55ab/variables/45e83116-8d43-44e9-9b92-c77550d998c7', 'uri': '/modelRepository/models/6d312bd0-e5ac-4cca-9212-34e7d17f55ab/variables/45e83116-8d43-44e9-9b92-c77550d998c7', 'type': 'application/vnd.sas.models.variable'}, {'method': 'PUT', 'rel': 'update', 'href': '/modelRepository/models/6d312bd0-e5ac-4cca-9212-34e7d17f55ab/variables/45e83116-8d43-44e9-9b92-c77550d998c7', 'uri': '/modelRepository/models/6d312bd0-e5ac-4cca-9212-34e7d17f55ab/variables/45e83116-8d43-44e9-9b92-c77550d998c7', 'type': 'application/vnd.sas.models.variable'}, {'method': 'DELETE', 'rel': 'delete', 'href': '/modelRepository/models/6d312bd0-e5ac-4cca-9212-34e7d17f55ab/variables/45e83116-8d43-44e9-9b92-c77550d998c7', 'uri': '/modelRepository/models/6d312bd0-e5ac-4cca-9212-34e7d17f55ab/variables/45e83116-8d43-44e9-9b92-c77550d998c7'}], 'version': 2, 'id': '45e83116-8d43-44e9-9b92-c77550d998c7', 'name': 'CLAGE', 'role': 'input', 'type': 'decimal'}, {'creationTimeStamp': '2021-06-09T18:00:18.414Z', 'modifiedTimeStamp': '2021-06-09T18:00:18.414Z', 'createdBy': 'gatedemo190', 'modifiedBy': 'gatedemo190', 'links': [{'method': 'GET', 'rel': 'up', 'href': '/modelRepository/models/6d312bd0-e5ac-4cca-9212-34e7d17f55ab/variables', 'uri': '/modelRepository/models/6d312bd0-e5ac-4cca-9212-34e7d17f55ab/variables', 'type': 'application/vnd.sas.collection', 'itemType': 'application/vnd.sas.models.variable'}, {'method': 'GET', 'rel': 'self', 'href': '/modelRepository/models/6d312bd0-e5ac-4cca-9212-34e7d17f55ab/variables/06d49ab1-9216-401c-a550-5c9a1ad1cf5b', 'uri': '/modelRepository/models/6d312bd0-e5ac-4cca-9212-34e7d17f55ab/variables/06d49ab1-9216-401c-a550-5c9a1ad1cf5b', 'type': 'application/vnd.sas.models.variable'}, {'method': 'PUT', 'rel': 'update', 'href': '/modelRepository/models/6d312bd0-e5ac-4cca-9212-34e7d17f55ab/variables/06d49ab1-9216-401c-a550-5c9a1ad1cf5b', 'uri': '/modelRepository/models/6d312bd0-e5ac-4cca-9212-34e7d17f55ab/variables/06d49ab1-9216-401c-a550-5c9a1ad1cf5b', 'type': 'application/vnd.sas.models.variable'}, {'method': 'DELETE', 'rel': 'delete', 'href': '/modelRepository/models/6d312bd0-e5ac-4cca-9212-34e7d17f55ab/variables/06d49ab1-9216-401c-a550-5c9a1ad1cf5b', 'uri': '/modelRepository/models/6d312bd0-e5ac-4cca-9212-34e7d17f55ab/variables/06d49ab1-9216-401c-a550-5c9a1ad1cf5b'}], 'version': 2, 'id': '06d49ab1-9216-401c-a550-5c9a1ad1cf5b', 'name': 'CLNO', 'role': 'input', 'type': 'decimal'}, {'creationTimeStamp': '2021-06-09T18:00:18.414Z', 'modifiedTimeStamp': '2021-06-09T18:00:18.414Z', 'createdBy': 'gatedemo190', 'modifiedBy': 'gatedemo190', 'links': [{'method': 'GET', 'rel': 'up', 'href': '/modelRepository/models/6d312bd0-e5ac-4cca-9212-34e7d17f55ab/variables', 'uri': '/modelRepository/models/6d312bd0-e5ac-4cca-9212-34e7d17f55ab/variables', 'type': 'application/vnd.sas.collection', 'itemType': 'application/vnd.sas.models.variable'}, {'method': 'GET', 'rel': 'self', 'href': '/modelRepository/models/6d312bd0-e5ac-4cca-9212-34e7d17f55ab/variables/5a034de0-8cbd-4f6b-9e85-a38d3d0093e8', 'uri': '/modelRepository/models/6d312bd0-e5ac-4cca-9212-34e7d17f55ab/variables/5a034de0-8cbd-4f6b-9e85-a38d3d0093e8', 'type': 'application/vnd.sas.models.variable'}, {'method': 'PUT', 'rel': 'update', 'href': '/modelRepository/models/6d312bd0-e5ac-4cca-9212-34e7d17f55ab/variables/5a034de0-8cbd-4f6b-9e85-a38d3d0093e8', 'uri': '/modelRepository/models/6d312bd0-e5ac-4cca-9212-34e7d17f55ab/variables/5a034de0-8cbd-4f6b-9e85-a38d3d0093e8', 'type': 'application/vnd.sas.models.variable'}, {'method': 'DELETE', 'rel': 'delete', 'href': '/modelRepository/models/6d312bd0-e5ac-4cca-9212-34e7d17f55ab/variables/5a034de0-8cbd-4f6b-9e85-a38d3d0093e8', 'uri': '/modelRepository/models/6d312bd0-e5ac-4cca-9212-34e7d17f55ab/variables/5a034de0-8cbd-4f6b-9e85-a38d3d0093e8'}], 'version': 2, 'id': '5a034de0-8cbd-4f6b-9e85-a38d3d0093e8', 'name': 'DEBTINC', 'role': 'input', 'type': 'decimal'}, {'creationTimeStamp': '2021-06-09T18:00:18.414Z', 'modifiedTimeStamp': '2021-06-09T18:00:18.414Z', 'createdBy': 'gatedemo190', 'modifiedBy': 'gatedemo190', 'links': [{'method': 'GET', 'rel': 'up', 'href': '/modelRepository/models/6d312bd0-e5ac-4cca-9212-34e7d17f55ab/variables', 'uri': '/modelRepository/models/6d312bd0-e5ac-4cca-9212-34e7d17f55ab/variables', 'type': 'application/vnd.sas.collection', 'itemType': 'application/vnd.sas.models.variable'}, {'method': 'GET', 'rel': 'self', 'href': '/modelRepository/models/6d312bd0-e5ac-4cca-9212-34e7d17f55ab/variables/eb0ec385-02e2-42c5-a448-55929572beed', 'uri': '/modelRepository/models/6d312bd0-e5ac-4cca-9212-34e7d17f55ab/variables/eb0ec385-02e2-42c5-a448-55929572beed', 'type': 'application/vnd.sas.models.variable'}, {'method': 'PUT', 'rel': 'update', 'href': '/modelRepository/models/6d312bd0-e5ac-4cca-9212-34e7d17f55ab/variables/eb0ec385-02e2-42c5-a448-55929572beed', 'uri': '/modelRepository/models/6d312bd0-e5ac-4cca-9212-34e7d17f55ab/variables/eb0ec385-02e2-42c5-a448-55929572beed', 'type': 'application/vnd.sas.models.variable'}, {'method': 'DELETE', 'rel': 'delete', 'href': '/modelRepository/models/6d312bd0-e5ac-4cca-9212-34e7d17f55ab/variables/eb0ec385-02e2-42c5-a448-55929572beed', 'uri': '/modelRepository/models/6d312bd0-e5ac-4cca-9212-34e7d17f55ab/variables/eb0ec385-02e2-42c5-a448-55929572beed'}], 'version': 2, 'id': 'eb0ec385-02e2-42c5-a448-55929572beed', 'name': 'DELINQ', 'role': 'input', 'type': 'decimal'}, {'creationTimeStamp': '2021-06-09T18:00:18.414Z', 'modifiedTimeStamp': '2021-06-09T18:00:18.414Z', 'createdBy': 'gatedemo190', 'modifiedBy': 'gatedemo190', 'links': [{'method': 'GET', 'rel': 'up', 'href': '/modelRepository/models/6d312bd0-e5ac-4cca-9212-34e7d17f55ab/variables', 'uri': '/modelRepository/models/6d312bd0-e5ac-4cca-9212-34e7d17f55ab/variables', 'type': 'application/vnd.sas.collection', 'itemType': 'application/vnd.sas.models.variable'}, {'method': 'GET', 'rel': 'self', 'href': '/modelRepository/models/6d312bd0-e5ac-4cca-9212-34e7d17f55ab/variables/50032d4c-66ea-49b8-b62d-f182bda7422f', 'uri': '/modelRepository/models/6d312bd0-e5ac-4cca-9212-34e7d17f55ab/variables/50032d4c-66ea-49b8-b62d-f182bda7422f', 'type': 'application/vnd.sas.models.variable'}, {'method': 'PUT', 'rel': 'update', 'href': '/modelRepository/models/6d312bd0-e5ac-4cca-9212-34e7d17f55ab/variables/50032d4c-66ea-49b8-b62d-f182bda7422f', 'uri': '/modelRepository/models/6d312bd0-e5ac-4cca-9212-34e7d17f55ab/variables/50032d4c-66ea-49b8-b62d-f182bda7422f', 'type': 'application/vnd.sas.models.variable'}, {'method': 'DELETE', 'rel': 'delete', 'href': '/modelRepository/models/6d312bd0-e5ac-4cca-9212-34e7d17f55ab/variables/50032d4c-66ea-49b8-b62d-f182bda7422f', 'uri': '/modelRepository/models/6d312bd0-e5ac-4cca-9212-34e7d17f55ab/variables/50032d4c-66ea-49b8-b62d-f182bda7422f'}], 'version': 2, 'id': '50032d4c-66ea-49b8-b62d-f182bda7422f', 'name': 'DEROG', 'role': 'input', 'type': 'decimal'}, {'creationTimeStamp': '2021-06-09T18:00:18.414Z', 'modifiedTimeStamp': '2021-06-09T18:00:18.414Z', 'createdBy': 'gatedemo190', 'modifiedBy': 'gatedemo190', 'links': [{'method': 'GET', 'rel': 'up', 'href': '/modelRepository/models/6d312bd0-e5ac-4cca-9212-34e7d17f55ab/variables', 'uri': '/modelRepository/models/6d312bd0-e5ac-4cca-9212-34e7d17f55ab/variables', 'type': 'application/vnd.sas.collection', 'itemType': 'application/vnd.sas.models.variable'}, {'method': 'GET', 'rel': 'self', 'href': '/modelRepository/models/6d312bd0-e5ac-4cca-9212-34e7d17f55ab/variables/33937a98-1291-47e5-bfb6-97bb48295698', 'uri': '/modelRepository/models/6d312bd0-e5ac-4cca-9212-34e7d17f55ab/variables/33937a98-1291-47e5-bfb6-97bb48295698', 'type': 'application/vnd.sas.models.variable'}, {'method': 'PUT', 'rel': 'update', 'href': '/modelRepository/models/6d312bd0-e5ac-4cca-9212-34e7d17f55ab/variables/33937a98-1291-47e5-bfb6-97bb48295698', 'uri': '/modelRepository/models/6d312bd0-e5ac-4cca-9212-34e7d17f55ab/variables/33937a98-1291-47e5-bfb6-97bb48295698', 'type': 'application/vnd.sas.models.variable'}, {'method': 'DELETE', 'rel': 'delete', 'href': '/modelRepository/models/6d312bd0-e5ac-4cca-9212-34e7d17f55ab/variables/33937a98-1291-47e5-bfb6-97bb48295698', 'uri': '/modelRepository/models/6d312bd0-e5ac-4cca-9212-34e7d17f55ab/variables/33937a98-1291-47e5-bfb6-97bb48295698'}], 'version': 2, 'id': '33937a98-1291-47e5-bfb6-97bb48295698', 'name': 'DebtCon', 'role': 'input', 'type': 'decimal'}, {'creationTimeStamp': '2021-06-09T18:00:18.414Z', 'modifiedTimeStamp': '2021-06-09T18:00:18.414Z', 'createdBy': 'gatedemo190', 'modifiedBy': 'gatedemo190', 'links': [{'method': 'GET', 'rel': 'up', 'href': '/modelRepository/models/6d312bd0-e5ac-4cca-9212-34e7d17f55ab/variables', 'uri': '/modelRepository/models/6d312bd0-e5ac-4cca-9212-34e7d17f55ab/variables', 'type': 'application/vnd.sas.collection', 'itemType': 'application/vnd.sas.models.variable'}, {'method': 'GET', 'rel': 'self', 'href': '/modelRepository/models/6d312bd0-e5ac-4cca-9212-34e7d17f55ab/variables/9dd73213-04ba-4489-b9db-ad062b79255d', 'uri': '/modelRepository/models/6d312bd0-e5ac-4cca-9212-34e7d17f55ab/variables/9dd73213-04ba-4489-b9db-ad062b79255d', 'type': 'application/vnd.sas.models.variable'}, {'method': 'PUT', 'rel': 'update', 'href': '/modelRepository/models/6d312bd0-e5ac-4cca-9212-34e7d17f55ab/variables/9dd73213-04ba-4489-b9db-ad062b79255d', 'uri': '/modelRepository/models/6d312bd0-e5ac-4cca-9212-34e7d17f55ab/variables/9dd73213-04ba-4489-b9db-ad062b79255d', 'type': 'application/vnd.sas.models.variable'}, {'method': 'DELETE', 'rel': 'delete', 'href': '/modelRepository/models/6d312bd0-e5ac-4cca-9212-34e7d17f55ab/variables/9dd73213-04ba-4489-b9db-ad062b79255d', 'uri': '/modelRepository/models/6d312bd0-e5ac-4cca-9212-34e7d17f55ab/variables/9dd73213-04ba-4489-b9db-ad062b79255d'}], 'version': 2, 'id': '9dd73213-04ba-4489-b9db-ad062b79255d', 'name': 'HomeImp', 'role': 'input', 'type': 'decimal'}, {'creationTimeStamp': '2021-06-09T18:00:18.414Z', 'modifiedTimeStamp': '2021-06-09T18:00:18.414Z', 'createdBy': 'gatedemo190', 'modifiedBy': 'gatedemo190', 'links': [{'method': 'GET', 'rel': 'up', 'href': '/modelRepository/models/6d312bd0-e5ac-4cca-9212-34e7d17f55ab/variables', 'uri': '/modelRepository/models/6d312bd0-e5ac-4cca-9212-34e7d17f55ab/variables', 'type': 'application/vnd.sas.collection', 'itemType': 'application/vnd.sas.models.variable'}, {'method': 'GET', 'rel': 'self', 'href': '/modelRepository/models/6d312bd0-e5ac-4cca-9212-34e7d17f55ab/variables/6af3c239-6230-4d2d-a069-651a7ccadff9', 'uri': '/modelRepository/models/6d312bd0-e5ac-4cca-9212-34e7d17f55ab/variables/6af3c239-6230-4d2d-a069-651a7ccadff9', 'type': 'application/vnd.sas.models.variable'}, {'method': 'PUT', 'rel': 'update', 'href': '/modelRepository/models/6d312bd0-e5ac-4cca-9212-34e7d17f55ab/variables/6af3c239-6230-4d2d-a069-651a7ccadff9', 'uri': '/modelRepository/models/6d312bd0-e5ac-4cca-9212-34e7d17f55ab/variables/6af3c239-6230-4d2d-a069-651a7ccadff9', 'type': 'application/vnd.sas.models.variable'}, {'method': 'DELETE', 'rel': 'delete', 'href': '/modelRepository/models/6d312bd0-e5ac-4cca-9212-34e7d17f55ab/variables/6af3c239-6230-4d2d-a069-651a7ccadff9', 'uri': '/modelRepository/models/6d312bd0-e5ac-4cca-9212-34e7d17f55ab/variables/6af3c239-6230-4d2d-a069-651a7ccadff9'}], 'version': 2, 'id': '6af3c239-6230-4d2d-a069-651a7ccadff9', 'name': 'LOAN', 'role': 'input', 'type': 'decimal'}, {'creationTimeStamp': '2021-06-09T18:00:18.414Z', 'modifiedTimeStamp': '2021-06-09T18:00:18.414Z', 'createdBy': 'gatedemo190', 'modifiedBy': 'gatedemo190', 'links': [{'method': 'GET', 'rel': 'up', 'href': '/modelRepository/models/6d312bd0-e5ac-4cca-9212-34e7d17f55ab/variables', 'uri': '/modelRepository/models/6d312bd0-e5ac-4cca-9212-34e7d17f55ab/variables', 'type': 'application/vnd.sas.collection', 'itemType': 'application/vnd.sas.models.variable'}, {'method': 'GET', 'rel': 'self', 'href': '/modelRepository/models/6d312bd0-e5ac-4cca-9212-34e7d17f55ab/variables/94a8faae-0093-4758-b8ea-df7fb1d263a5', 'uri': '/modelRepository/models/6d312bd0-e5ac-4cca-9212-34e7d17f55ab/variables/94a8faae-0093-4758-b8ea-df7fb1d263a5', 'type': 'application/vnd.sas.models.variable'}, {'method': 'PUT', 'rel': 'update', 'href': '/modelRepository/models/6d312bd0-e5ac-4cca-9212-34e7d17f55ab/variables/94a8faae-0093-4758-b8ea-df7fb1d263a5', 'uri': '/modelRepository/models/6d312bd0-e5ac-4cca-9212-34e7d17f55ab/variables/94a8faae-0093-4758-b8ea-df7fb1d263a5', 'type': 'application/vnd.sas.models.variable'}, {'method': 'DELETE', 'rel': 'delete', 'href': '/modelRepository/models/6d312bd0-e5ac-4cca-9212-34e7d17f55ab/variables/94a8faae-0093-4758-b8ea-df7fb1d263a5', 'uri': '/modelRepository/models/6d312bd0-e5ac-4cca-9212-34e7d17f55ab/variables/94a8faae-0093-4758-b8ea-df7fb1d263a5'}], 'version': 2, 'id': '94a8faae-0093-4758-b8ea-df7fb1d263a5', 'name': 'MORTDUE', 'role': 'input', 'type': 'decimal'}, {'creationTimeStamp': '2021-06-09T18:00:18.414Z', 'modifiedTimeStamp': '2021-06-09T18:00:18.414Z', 'createdBy': 'gatedemo190', 'modifiedBy': 'gatedemo190', 'links': [{'method': 'GET', 'rel': 'up', 'href': '/modelRepository/models/6d312bd0-e5ac-4cca-9212-34e7d17f55ab/variables', 'uri': '/modelRepository/models/6d312bd0-e5ac-4cca-9212-34e7d17f55ab/variables', 'type': 'application/vnd.sas.collection', 'itemType': 'application/vnd.sas.models.variable'}, {'method': 'GET', 'rel': 'self', 'href': '/modelRepository/models/6d312bd0-e5ac-4cca-9212-34e7d17f55ab/variables/42b6ec67-f367-4be9-8bac-7e81dd1a3a5a', 'uri': '/modelRepository/models/6d312bd0-e5ac-4cca-9212-34e7d17f55ab/variables/42b6ec67-f367-4be9-8bac-7e81dd1a3a5a', 'type': 'application/vnd.sas.models.variable'}, {'method': 'PUT', 'rel': 'update', 'href': '/modelRepository/models/6d312bd0-e5ac-4cca-9212-34e7d17f55ab/variables/42b6ec67-f367-4be9-8bac-7e81dd1a3a5a', 'uri': '/modelRepository/models/6d312bd0-e5ac-4cca-9212-34e7d17f55ab/variables/42b6ec67-f367-4be9-8bac-7e81dd1a3a5a', 'type': 'application/vnd.sas.models.variable'}, {'method': 'DELETE', 'rel': 'delete', 'href': '/modelRepository/models/6d312bd0-e5ac-4cca-9212-34e7d17f55ab/variables/42b6ec67-f367-4be9-8bac-7e81dd1a3a5a', 'uri': '/modelRepository/models/6d312bd0-e5ac-4cca-9212-34e7d17f55ab/variables/42b6ec67-f367-4be9-8bac-7e81dd1a3a5a'}], 'version': 2, 'id': '42b6ec67-f367-4be9-8bac-7e81dd1a3a5a', 'name': 'Mgr', 'role': 'input', 'type': 'decimal'}, {'creationTimeStamp': '2021-06-09T18:00:18.414Z', 'modifiedTimeStamp': '2021-06-09T18:00:18.414Z', 'createdBy': 'gatedemo190', 'modifiedBy': 'gatedemo190', 'links': [{'method': 'GET', 'rel': 'up', 'href': '/modelRepository/models/6d312bd0-e5ac-4cca-9212-34e7d17f55ab/variables', 'uri': '/modelRepository/models/6d312bd0-e5ac-4cca-9212-34e7d17f55ab/variables', 'type': 'application/vnd.sas.collection', 'itemType': 'application/vnd.sas.models.variable'}, {'method': 'GET', 'rel': 'self', 'href': '/modelRepository/models/6d312bd0-e5ac-4cca-9212-34e7d17f55ab/variables/fcf76f2c-345d-40c4-93b6-cc9ace09b0e4', 'uri': '/modelRepository/models/6d312bd0-e5ac-4cca-9212-34e7d17f55ab/variables/fcf76f2c-345d-40c4-93b6-cc9ace09b0e4', 'type': 'application/vnd.sas.models.variable'}, {'method': 'PUT', 'rel': 'update', 'href': '/modelRepository/models/6d312bd0-e5ac-4cca-9212-34e7d17f55ab/variables/fcf76f2c-345d-40c4-93b6-cc9ace09b0e4', 'uri': '/modelRepository/models/6d312bd0-e5ac-4cca-9212-34e7d17f55ab/variables/fcf76f2c-345d-40c4-93b6-cc9ace09b0e4', 'type': 'application/vnd.sas.models.variable'}, {'method': 'DELETE', 'rel': 'delete', 'href': '/modelRepository/models/6d312bd0-e5ac-4cca-9212-34e7d17f55ab/variables/fcf76f2c-345d-40c4-93b6-cc9ace09b0e4', 'uri': '/modelRepository/models/6d312bd0-e5ac-4cca-9212-34e7d17f55ab/variables/fcf76f2c-345d-40c4-93b6-cc9ace09b0e4'}], 'version': 2, 'id': 'fcf76f2c-345d-40c4-93b6-cc9ace09b0e4', 'name': 'NINQ', 'role': 'input', 'type': 'decimal'}, {'creationTimeStamp': '2021-06-09T18:00:18.414Z', 'modifiedTimeStamp': '2021-06-09T18:00:18.414Z', 'createdBy': 'gatedemo190', 'modifiedBy': 'gatedemo190', 'links': [{'method': 'GET', 'rel': 'up', 'href': '/modelRepository/models/6d312bd0-e5ac-4cca-9212-34e7d17f55ab/variables', 'uri': '/modelRepository/models/6d312bd0-e5ac-4cca-9212-34e7d17f55ab/variables', 'type': 'application/vnd.sas.collection', 'itemType': 'application/vnd.sas.models.variable'}, {'method': 'GET', 'rel': 'self', 'href': '/modelRepository/models/6d312bd0-e5ac-4cca-9212-34e7d17f55ab/variables/c930d363-3022-4d38-8693-b98f7145756d', 'uri': '/modelRepository/models/6d312bd0-e5ac-4cca-9212-34e7d17f55ab/variables/c930d363-3022-4d38-8693-b98f7145756d', 'type': 'application/vnd.sas.models.variable'}, {'method': 'PUT', 'rel': 'update', 'href': '/modelRepository/models/6d312bd0-e5ac-4cca-9212-34e7d17f55ab/variables/c930d363-3022-4d38-8693-b98f7145756d', 'uri': '/modelRepository/models/6d312bd0-e5ac-4cca-9212-34e7d17f55ab/variables/c930d363-3022-4d38-8693-b98f7145756d', 'type': 'application/vnd.sas.models.variable'}, {'method': 'DELETE', 'rel': 'delete', 'href': '/modelRepository/models/6d312bd0-e5ac-4cca-9212-34e7d17f55ab/variables/c930d363-3022-4d38-8693-b98f7145756d', 'uri': '/modelRepository/models/6d312bd0-e5ac-4cca-9212-34e7d17f55ab/variables/c930d363-3022-4d38-8693-b98f7145756d'}], 'version': 2, 'id': 'c930d363-3022-4d38-8693-b98f7145756d', 'name': 'Office', 'role': 'input', 'type': 'decimal'}, {'creationTimeStamp': '2021-06-09T18:00:18.414Z', 'modifiedTimeStamp': '2021-06-09T18:00:18.414Z', 'createdBy': 'gatedemo190', 'modifiedBy': 'gatedemo190', 'links': [{'method': 'GET', 'rel': 'up', 'href': '/modelRepository/models/6d312bd0-e5ac-4cca-9212-34e7d17f55ab/variables', 'uri': '/modelRepository/models/6d312bd0-e5ac-4cca-9212-34e7d17f55ab/variables', 'type': 'application/vnd.sas.collection', 'itemType': 'application/vnd.sas.models.variable'}, {'method': 'GET', 'rel': 'self', 'href': '/modelRepository/models/6d312bd0-e5ac-4cca-9212-34e7d17f55ab/variables/92447798-a18d-4aca-afdc-cc2fe5584163', 'uri': '/modelRepository/models/6d312bd0-e5ac-4cca-9212-34e7d17f55ab/variables/92447798-a18d-4aca-afdc-cc2fe5584163', 'type': 'application/vnd.sas.models.variable'}, {'method': 'PUT', 'rel': 'update', 'href': '/modelRepository/models/6d312bd0-e5ac-4cca-9212-34e7d17f55ab/variables/92447798-a18d-4aca-afdc-cc2fe5584163', 'uri': '/modelRepository/models/6d312bd0-e5ac-4cca-9212-34e7d17f55ab/variables/92447798-a18d-4aca-afdc-cc2fe5584163', 'type': 'application/vnd.sas.models.variable'}, {'method': 'DELETE', 'rel': 'delete', 'href': '/modelRepository/models/6d312bd0-e5ac-4cca-9212-34e7d17f55ab/variables/92447798-a18d-4aca-afdc-cc2fe5584163', 'uri': '/modelRepository/models/6d312bd0-e5ac-4cca-9212-34e7d17f55ab/variables/92447798-a18d-4aca-afdc-cc2fe5584163'}], 'version': 2, 'id': '92447798-a18d-4aca-afdc-cc2fe5584163', 'name': 'Other', 'role': 'input', 'type': 'decimal'}, {'creationTimeStamp': '2021-06-09T18:00:18.414Z', 'modifiedTimeStamp': '2021-06-09T18:00:18.414Z', 'createdBy': 'gatedemo190', 'modifiedBy': 'gatedemo190', 'links': [{'method': 'GET', 'rel': 'up', 'href': '/modelRepository/models/6d312bd0-e5ac-4cca-9212-34e7d17f55ab/variables', 'uri': '/modelRepository/models/6d312bd0-e5ac-4cca-9212-34e7d17f55ab/variables', 'type': 'application/vnd.sas.collection', 'itemType': 'application/vnd.sas.models.variable'}, {'method': 'GET', 'rel': 'self', 'href': '/modelRepository/models/6d312bd0-e5ac-4cca-9212-34e7d17f55ab/variables/90730894-e1be-4a36-831d-ceb03e80e868', 'uri': '/modelRepository/models/6d312bd0-e5ac-4cca-9212-34e7d17f55ab/variables/90730894-e1be-4a36-831d-ceb03e80e868', 'type': 'application/vnd.sas.models.variable'}, {'method': 'PUT', 'rel': 'update', 'href': '/modelRepository/models/6d312bd0-e5ac-4cca-9212-34e7d17f55ab/variables/90730894-e1be-4a36-831d-ceb03e80e868', 'uri': '/modelRepository/models/6d312bd0-e5ac-4cca-9212-34e7d17f55ab/variables/90730894-e1be-4a36-831d-ceb03e80e868', 'type': 'application/vnd.sas.models.variable'}, {'method': 'DELETE', 'rel': 'delete', 'href': '/modelRepository/models/6d312bd0-e5ac-4cca-9212-34e7d17f55ab/variables/90730894-e1be-4a36-831d-ceb03e80e868', 'uri': '/modelRepository/models/6d312bd0-e5ac-4cca-9212-34e7d17f55ab/variables/90730894-e1be-4a36-831d-ceb03e80e868'}], 'version': 2, 'id': '90730894-e1be-4a36-831d-ceb03e80e868', 'name': 'ProfExe', 'role': 'input', 'type': 'decimal'}, {'creationTimeStamp': '2021-06-09T18:00:18.414Z', 'modifiedTimeStamp': '2021-06-09T18:00:18.414Z', 'createdBy': 'gatedemo190', 'modifiedBy': 'gatedemo190', 'links': [{'method': 'GET', 'rel': 'up', 'href': '/modelRepository/models/6d312bd0-e5ac-4cca-9212-34e7d17f55ab/variables', 'uri': '/modelRepository/models/6d312bd0-e5ac-4cca-9212-34e7d17f55ab/variables', 'type': 'application/vnd.sas.collection', 'itemType': 'application/vnd.sas.models.variable'}, {'method': 'GET', 'rel': 'self', 'href': '/modelRepository/models/6d312bd0-e5ac-4cca-9212-34e7d17f55ab/variables/cedde378-5063-40c4-9e64-f2016548e8e3', 'uri': '/modelRepository/models/6d312bd0-e5ac-4cca-9212-34e7d17f55ab/variables/cedde378-5063-40c4-9e64-f2016548e8e3', 'type': 'application/vnd.sas.models.variable'}, {'method': 'PUT', 'rel': 'update', 'href': '/modelRepository/models/6d312bd0-e5ac-4cca-9212-34e7d17f55ab/variables/cedde378-5063-40c4-9e64-f2016548e8e3', 'uri': '/modelRepository/models/6d312bd0-e5ac-4cca-9212-34e7d17f55ab/variables/cedde378-5063-40c4-9e64-f2016548e8e3', 'type': 'application/vnd.sas.models.variable'}, {'method': 'DELETE', 'rel': 'delete', 'href': '/modelRepository/models/6d312bd0-e5ac-4cca-9212-34e7d17f55ab/variables/cedde378-5063-40c4-9e64-f2016548e8e3', 'uri': '/modelRepository/models/6d312bd0-e5ac-4cca-9212-34e7d17f55ab/variables/cedde378-5063-40c4-9e64-f2016548e8e3'}], 'version': 2, 'id': 'cedde378-5063-40c4-9e64-f2016548e8e3', 'name': 'Sales', 'role': 'input', 'type': 'decimal'}, {'creationTimeStamp': '2021-06-09T18:00:18.414Z', 'modifiedTimeStamp': '2021-06-09T18:00:18.414Z', 'createdBy': 'gatedemo190', 'modifiedBy': 'gatedemo190', 'links': [{'method': 'GET', 'rel': 'up', 'href': '/modelRepository/models/6d312bd0-e5ac-4cca-9212-34e7d17f55ab/variables', 'uri': '/modelRepository/models/6d312bd0-e5ac-4cca-9212-34e7d17f55ab/variables', 'type': 'application/vnd.sas.collection', 'itemType': 'application/vnd.sas.models.variable'}, {'method': 'GET', 'rel': 'self', 'href': '/modelRepository/models/6d312bd0-e5ac-4cca-9212-34e7d17f55ab/variables/b3ad7cef-34d5-4987-959e-0e9495882d2f', 'uri': '/modelRepository/models/6d312bd0-e5ac-4cca-9212-34e7d17f55ab/variables/b3ad7cef-34d5-4987-959e-0e9495882d2f', 'type': 'application/vnd.sas.models.variable'}, {'method': 'PUT', 'rel': 'update', 'href': '/modelRepository/models/6d312bd0-e5ac-4cca-9212-34e7d17f55ab/variables/b3ad7cef-34d5-4987-959e-0e9495882d2f', 'uri': '/modelRepository/models/6d312bd0-e5ac-4cca-9212-34e7d17f55ab/variables/b3ad7cef-34d5-4987-959e-0e9495882d2f', 'type': 'application/vnd.sas.models.variable'}, {'method': 'DELETE', 'rel': 'delete', 'href': '/modelRepository/models/6d312bd0-e5ac-4cca-9212-34e7d17f55ab/variables/b3ad7cef-34d5-4987-959e-0e9495882d2f', 'uri': '/modelRepository/models/6d312bd0-e5ac-4cca-9212-34e7d17f55ab/variables/b3ad7cef-34d5-4987-959e-0e9495882d2f'}], 'version': 2, 'id': 'b3ad7cef-34d5-4987-959e-0e9495882d2f', 'name': 'Self', 'role': 'input', 'type': 'decimal'}, {'creationTimeStamp': '2021-06-09T18:00:18.414Z', 'modifiedTimeStamp': '2021-06-09T18:00:18.414Z', 'createdBy': 'gatedemo190', 'modifiedBy': 'gatedemo190', 'links': [{'method': 'GET', 'rel': 'up', 'href': '/modelRepository/models/6d312bd0-e5ac-4cca-9212-34e7d17f55ab/variables', 'uri': '/modelRepository/models/6d312bd0-e5ac-4cca-9212-34e7d17f55ab/variables', 'type': 'application/vnd.sas.collection', 'itemType': 'application/vnd.sas.models.variable'}, {'method': 'GET', 'rel': 'self', 'href': '/modelRepository/models/6d312bd0-e5ac-4cca-9212-34e7d17f55ab/variables/4f1635d3-3664-4d6e-83c3-be8df2a6b923', 'uri': '/modelRepository/models/6d312bd0-e5ac-4cca-9212-34e7d17f55ab/variables/4f1635d3-3664-4d6e-83c3-be8df2a6b923', 'type': 'application/vnd.sas.models.variable'}, {'method': 'PUT', 'rel': 'update', 'href': '/modelRepository/models/6d312bd0-e5ac-4cca-9212-34e7d17f55ab/variables/4f1635d3-3664-4d6e-83c3-be8df2a6b923', 'uri': '/modelRepository/models/6d312bd0-e5ac-4cca-9212-34e7d17f55ab/variables/4f1635d3-3664-4d6e-83c3-be8df2a6b923', 'type': 'application/vnd.sas.models.variable'}, {'method': 'DELETE', 'rel': 'delete', 'href': '/modelRepository/models/6d312bd0-e5ac-4cca-9212-34e7d17f55ab/variables/4f1635d3-3664-4d6e-83c3-be8df2a6b923', 'uri': '/modelRepository/models/6d312bd0-e5ac-4cca-9212-34e7d17f55ab/variables/4f1635d3-3664-4d6e-83c3-be8df2a6b923'}], 'version': 2, 'id': '4f1635d3-3664-4d6e-83c3-be8df2a6b923', 'name': 'VALUE', 'role': 'input', 'type': 'decimal'}, {'creationTimeStamp': '2021-06-09T18:00:18.414Z', 'modifiedTimeStamp': '2021-06-09T18:00:18.414Z', 'createdBy': 'gatedemo190', 'modifiedBy': 'gatedemo190', 'links': [{'method': 'GET', 'rel': 'up', 'href': '/modelRepository/models/6d312bd0-e5ac-4cca-9212-34e7d17f55ab/variables', 'uri': '/modelRepository/models/6d312bd0-e5ac-4cca-9212-34e7d17f55ab/variables', 'type': 'application/vnd.sas.collection', 'itemType': 'application/vnd.sas.models.variable'}, {'method': 'GET', 'rel': 'self', 'href': '/modelRepository/models/6d312bd0-e5ac-4cca-9212-34e7d17f55ab/variables/80e1e413-55e0-4d92-95de-10fb014ca528', 'uri': '/modelRepository/models/6d312bd0-e5ac-4cca-9212-34e7d17f55ab/variables/80e1e413-55e0-4d92-95de-10fb014ca528', 'type': 'application/vnd.sas.models.variable'}, {'method': 'PUT', 'rel': 'update', 'href': '/modelRepository/models/6d312bd0-e5ac-4cca-9212-34e7d17f55ab/variables/80e1e413-55e0-4d92-95de-10fb014ca528', 'uri': '/modelRepository/models/6d312bd0-e5ac-4cca-9212-34e7d17f55ab/variables/80e1e413-55e0-4d92-95de-10fb014ca528', 'type': 'application/vnd.sas.models.variable'}, {'method': 'DELETE', 'rel': 'delete', 'href': '/modelRepository/models/6d312bd0-e5ac-4cca-9212-34e7d17f55ab/variables/80e1e413-55e0-4d92-95de-10fb014ca528', 'uri': '/modelRepository/models/6d312bd0-e5ac-4cca-9212-34e7d17f55ab/variables/80e1e413-55e0-4d92-95de-10fb014ca528'}], 'version': 2, 'id': '80e1e413-55e0-4d92-95de-10fb014ca528', 'name': 'YOJ', 'role': 'input', 'type': 'decimal'}], 'outputVariables': [{'creationTimeStamp': '2021-06-09T18:00:18.414Z', 'modifiedTimeStamp': '2021-06-09T18:00:18.414Z', 'createdBy': 'gatedemo190', 'modifiedBy': 'gatedemo190', 'links': [{'method': 'GET', 'rel': 'up', 'href': '/modelRepository/models/6d312bd0-e5ac-4cca-9212-34e7d17f55ab/variables', 'uri': '/modelRepository/models/6d312bd0-e5ac-4cca-9212-34e7d17f55ab/variables', 'type': 'application/vnd.sas.collection', 'itemType': 'application/vnd.sas.models.variable'}, {'method': 'GET', 'rel': 'self', 'href': '/modelRepository/models/6d312bd0-e5ac-4cca-9212-34e7d17f55ab/variables/990236b9-7b59-41dc-b0e8-519338b30324', 'uri': '/modelRepository/models/6d312bd0-e5ac-4cca-9212-34e7d17f55ab/variables/990236b9-7b59-41dc-b0e8-519338b30324', 'type': 'application/vnd.sas.models.variable'}, {'method': 'PUT', 'rel': 'update', 'href': '/modelRepository/models/6d312bd0-e5ac-4cca-9212-34e7d17f55ab/variables/990236b9-7b59-41dc-b0e8-519338b30324', 'uri': '/modelRepository/models/6d312bd0-e5ac-4cca-9212-34e7d17f55ab/variables/990236b9-7b59-41dc-b0e8-519338b30324', 'type': 'application/vnd.sas.models.variable'}, {'method': 'DELETE', 'rel': 'delete', 'href': '/modelRepository/models/6d312bd0-e5ac-4cca-9212-34e7d17f55ab/variables/990236b9-7b59-41dc-b0e8-519338b30324', 'uri': '/modelRepository/models/6d312bd0-e5ac-4cca-9212-34e7d17f55ab/variables/990236b9-7b59-41dc-b0e8-519338b30324'}], 'version': 2, 'id': '990236b9-7b59-41dc-b0e8-519338b30324', 'name': 'var1', 'role': 'output', 'type': 'integer'}], 'modelVersions': [], 'modelVersionName': '1.0', 'retrainable': False, 'tags': [], 'globalTags': []})"
      ]
     },
     "execution_count": 38,
     "metadata": {},
     "output_type": "execute_result"
    }
   ],
   "source": [
    "# Register the model XGB in Model Manager\n",
    "\n",
    "project = 'HMEQ_OS&MM'\n",
    "\n",
    "register_model(RFor, \n",
    "             'RandomForest_Py_sasctl',\n",
    "               input=X_train,                 # Use X to determine model inputs\n",
    "               project='HMEQ_OS&MM',      # Register in an existing MM project\n",
    "               force=True)   \n",
    "\n",
    "register_model(xgb, \n",
    "             'XGBoost_Py_sasctl',\n",
    "               input=X_train,                 # Use X to determine model inputs\n",
    "               project='HMEQ_OS&MM',      # Register in an existing MM project\n",
    "               force=True)   "
   ]
  },
  {
   "cell_type": "markdown",
   "metadata": {},
   "source": [
    "# USING PZMM FOR OTHER FEATURES"
   ]
  },
  {
   "cell_type": "markdown",
   "metadata": {},
   "source": [
    "# Create model pipelines"
   ]
  },
  {
   "cell_type": "code",
   "execution_count": 40,
   "metadata": {},
   "outputs": [],
   "source": [
    "#Random Forest Pipeline\n",
    "class_inputs = list(df.select_dtypes('object').columns)\n",
    "numerical_inputs = list(df.select_dtypes(include=['int64', 'float32']).columns)\n",
    "\n",
    "# Preprocessing interval variables\n",
    "numeric_transformer = Pipeline(steps=[\n",
    "    \n",
    "    ('numerical_imputer', SimpleImputer(strategy='median'))\n",
    "])\n",
    "\n",
    "# Preprocessing categorical variables\n",
    "categorical_transformer = Pipeline(steps=[\n",
    "    \n",
    "    ('categorical_imputer', SimpleImputer(strategy='most_frequent')),\n",
    "    ('encoder', OneHotEncoder(handle_unknown='ignore'))\n",
    "    \n",
    "])\n",
    "\n",
    "# Create preprocessing step\n",
    "preprocessor = ColumnTransformer(transformers=[\n",
    "    \n",
    "    ('numericals', numeric_transformer, numerical_inputs),\n",
    "    ('categoricals', categorical_transformer, class_inputs)\n",
    "\n",
    "])\n",
    "\n",
    "rfor_pipeline = Pipeline(steps=[\n",
    "    \n",
    "    ('preprocessor', preprocessor),\n",
    "    ('classifier', RandomForestClassifier(random_state=123))\n",
    "\n",
    "])"
   ]
  },
  {
   "cell_type": "code",
   "execution_count": 41,
   "metadata": {},
   "outputs": [],
   "source": [
    "#XGBoost Pipeline\n",
    "class_inputs = list(df.select_dtypes('object').columns)\n",
    "numerical_inputs = list(df.select_dtypes(include=['int64', 'float32']).columns)\n",
    "\n",
    "# Preprocessing interval variables\n",
    "numeric_transformer = Pipeline(steps=[\n",
    "    \n",
    "    ('numerical_imputer', SimpleImputer(strategy='median'))\n",
    "])\n",
    "\n",
    "# Preprocessing categorical variables\n",
    "categorical_transformer = Pipeline(steps=[\n",
    "    \n",
    "    ('categorical_imputer', SimpleImputer(strategy='most_frequent')),\n",
    "    ('encoder', OneHotEncoder(handle_unknown='ignore'))\n",
    "    \n",
    "])\n",
    "\n",
    "# Create preprocessing step\n",
    "preprocessor = ColumnTransformer(transformers=[\n",
    "    \n",
    "    ('numericals', numeric_transformer, numerical_inputs),\n",
    "    ('categoricals', categorical_transformer, class_inputs)\n",
    "\n",
    "])\n",
    "\n",
    "xgb_pipeline = Pipeline(steps=[\n",
    "    \n",
    "    ('preprocessor', preprocessor),\n",
    "    ('classifier', XGBClassifier(random_state=123))\n",
    "\n",
    "])"
   ]
  },
  {
   "cell_type": "code",
   "execution_count": 42,
   "metadata": {},
   "outputs": [],
   "source": [
    "#Test pipeline in production: Create training data\n",
    "Prod_X_train, Prod_X_test, Prod_y_train, Prod_y_test = model_selection.train_test_split(df[df.columns.difference(target)], \n",
    "                                                                    df[target], \n",
    "                                                                    test_size=0.33, random_state=27513)"
   ]
  },
  {
   "cell_type": "code",
   "execution_count": 43,
   "metadata": {},
   "outputs": [
    {
     "data": {
      "text/plain": [
       "Index(['CLAGE', 'CLNO', 'DEBTINC', 'DELINQ', 'DEROG', 'JOB', 'LOAN', 'MORTDUE',\n",
       "       'NINQ', 'REASON', 'VALUE', 'YOJ'],\n",
       "      dtype='object')"
      ]
     },
     "execution_count": 43,
     "metadata": {},
     "output_type": "execute_result"
    }
   ],
   "source": [
    "Prod_X_train.columns"
   ]
  },
  {
   "cell_type": "code",
   "execution_count": 44,
   "metadata": {
    "scrolled": true
   },
   "outputs": [
    {
     "name": "stderr",
     "output_type": "stream",
     "text": [
      "C:\\Users\\canyzn\\AppData\\Local\\Continuum\\anaconda3\\lib\\site-packages\\sklearn\\pipeline.py:346: DataConversionWarning: A column-vector y was passed when a 1d array was expected. Please change the shape of y to (n_samples,), for example using ravel().\n",
      "  self._final_estimator.fit(Xt, y, **fit_params_last_step)\n"
     ]
    },
    {
     "data": {
      "text/plain": [
       "0.9166243009659379"
      ]
     },
     "execution_count": 44,
     "metadata": {},
     "output_type": "execute_result"
    }
   ],
   "source": [
    "rfor_pipeline.fit(Prod_X_train, Prod_y_train)\n",
    "Prod_y_predict=rfor_pipeline.predict_proba(Prod_X_test)\n",
    "#check score for RF\n",
    "rfor_pipeline.score(Prod_X_test, Prod_y_test) #0.9166243009659379"
   ]
  },
  {
   "cell_type": "code",
   "execution_count": 45,
   "metadata": {
    "scrolled": true
   },
   "outputs": [
    {
     "name": "stderr",
     "output_type": "stream",
     "text": [
      "C:\\Users\\canyzn\\AppData\\Local\\Continuum\\anaconda3\\lib\\site-packages\\sklearn\\utils\\validation.py:63: DataConversionWarning: A column-vector y was passed when a 1d array was expected. Please change the shape of y to (n_samples, ), for example using ravel().\n",
      "  return f(*args, **kwargs)\n"
     ]
    },
    {
     "data": {
      "text/plain": [
       "0.8993390950686324"
      ]
     },
     "execution_count": 45,
     "metadata": {},
     "output_type": "execute_result"
    }
   ],
   "source": [
    "xgb_pipeline.fit(Prod_X_train, Prod_y_train)\n",
    "Prod_y_predict=xgb_pipeline.predict_proba(Prod_X_test)\n",
    "#check score for XGB\n",
    "xgb_pipeline.score(Prod_X_test, Prod_y_test) #0.8993390950686324"
   ]
  },
  {
   "cell_type": "code",
   "execution_count": 51,
   "metadata": {},
   "outputs": [
    {
     "name": "stdout",
     "output_type": "stream",
     "text": [
      "Help on function register_model in module sasctl.tasks:\n",
      "\n",
      "register_model(model, name, project, repository=None, input=None, version=None, files=None, force=False, record_packages=True)\n",
      "    Register a model in the model repository.\n",
      "    \n",
      "    Parameters\n",
      "    ----------\n",
      "    model : swat.CASTable or sklearn.BaseEstimator\n",
      "        The model to register.  If an instance of ``swat.CASTable`` the table\n",
      "        is assumed to hold an ASTORE, which will be downloaded and used to\n",
      "        construct the model to register.  If a scikit-learn estimator, the\n",
      "        model will be pickled and uploaded to the registry and score code will\n",
      "        be generated for publishing the model to MAS.\n",
      "    name : str\n",
      "        Designated name for the model in the repository.\n",
      "    project : str or dict\n",
      "        The name or id of the project, or a dictionary representation of\n",
      "        the project.\n",
      "    repository : str or dict, optional\n",
      "        The name or id of the repository, or a dictionary representation of\n",
      "        the repository.  If omitted, the default repository will be used.\n",
      "    input : DataFrame, type, list of type, or dict of str: type, optional\n",
      "        The expected type for each input value of the target function.\n",
      "        Can be omitted if target function includes type hints.  If a DataFrame\n",
      "        is provided, the columns will be inspected to determine type\n",
      "        information.  If a single type is provided, all columns will be assumed\n",
      "        to be that type, otherwise a list of column types or a dictionary of\n",
      "        column_name: type may be provided.\n",
      "    version : {'new', 'latest', int}, optional\n",
      "        Version number of the project in which the model should be created.\n",
      "        Defaults to 'new'.\n",
      "    files : list\n",
      "        A list of dictionaries of the form\n",
      "        {'name': filename, 'file': filecontent}.\n",
      "        An optional 'role' key is supported for designating a file as score\n",
      "        code, astore, etc.\n",
      "    force : bool, optional\n",
      "        Create dependencies such as projects and repositories if they do not\n",
      "        already exist.\n",
      "    record_packages : bool, optional\n",
      "        Capture Python packages registered in the environment.  Defaults to\n",
      "        True.  Ignored if `model` is not a Python object.\n",
      "    \n",
      "    Returns\n",
      "    -------\n",
      "    model : RestObj\n",
      "        The newly registered model as an instance of ``RestObj``\n",
      "    \n",
      "    Notes\n",
      "    -----\n",
      "    If the specified model is a CAS table the model data and metadata will be\n",
      "    written to a temporary zip file and then imported using\n",
      "    model_repository.import_model_from_zip.\n",
      "    \n",
      "    If the specified model is from the Scikit-Learn package, the model will be\n",
      "    created using model_repository.create_model and any additional files will\n",
      "    be uploaded as content.\n",
      "    \n",
      "    .. versionchanged:: v1.3\n",
      "        Create requirements.txt with installed packages.\n",
      "    \n",
      "    .. versionchanged:: v1.4.5\n",
      "        Added `record_packages` parameter.\n",
      "\n"
     ]
    }
   ],
   "source": [
    "help(register_model)"
   ]
  },
  {
   "cell_type": "markdown",
   "metadata": {},
   "source": [
    "# Apply PZMM to calculate FitStat, metadata, model properties, etc."
   ]
  },
  {
   "cell_type": "code",
   "execution_count": 54,
   "metadata": {},
   "outputs": [],
   "source": [
    "trainedModel_RF=rfor_pipeline\n",
    "trainedModel_XGB=xgb_pipeline"
   ]
  },
  {
   "cell_type": "code",
   "execution_count": 55,
   "metadata": {},
   "outputs": [],
   "source": [
    "#Define output variable: Random Forest\n",
    "yCategory_RF = trainedModel_RF.predict(df[df.columns.difference(target)])\n",
    "yProb_RF=1-trainedModel_RF.predict_proba(df[df.columns.difference(target)])\n",
    "outputVar_RF = pd.DataFrame(columns=['EM_EVENTPROBABILITY', 'EM_CLASSIFICATION'])\n",
    "outputVar_RF['EM_CLASSIFICATION'] = yCategory_RF.astype('str')\n",
    "outputVar_RF['EM_EVENTPROBABILITY'] = yProb_RF"
   ]
  },
  {
   "cell_type": "code",
   "execution_count": 56,
   "metadata": {},
   "outputs": [],
   "source": [
    "#Define output variable: XGB\n",
    "yCategory_XGB = trainedModel_XGB.predict(df[df.columns.difference(target)])\n",
    "yProb_XGB=1-trainedModel_XGB.predict_proba(df[df.columns.difference(target)])\n",
    "outputVar_XGB = pd.DataFrame(columns=['EM_EVENTPROBABILITY', 'EM_CLASSIFICATION'])\n",
    "outputVar_XGB['EM_CLASSIFICATION'] = yCategory_XGB.astype('str')\n",
    "outputVar_XGB['EM_EVENTPROBABILITY'] = yProb_XGB"
   ]
  },
  {
   "cell_type": "code",
   "execution_count": 57,
   "metadata": {},
   "outputs": [],
   "source": [
    "targetName = 'BAD'\n",
    "targetValue = 1"
   ]
  },
  {
   "cell_type": "code",
   "execution_count": 58,
   "metadata": {},
   "outputs": [
    {
     "name": "stdout",
     "output_type": "stream",
     "text": [
      "Help on function pickleTrainedModel in module sasctl.pzmm.pickleModel:\n",
      "\n",
      "pickleTrainedModel(self, trainedModel, modelPrefix, pPath=WindowsPath('C:/Users/canyzn'), isH2OModel=False)\n",
      "    Write trained model to a binary pickle file. \n",
      "    \n",
      "    Parameters\n",
      "    ---------------\n",
      "    trainedModel : model or string or Path\n",
      "        For non-H2O models, this argument contains the model variable. Otherwise,\n",
      "        this should be the file path of the MOJO file.\n",
      "    modelPrefix : string\n",
      "        Variable name for the model to be displayed in SAS Open Model Manager \n",
      "        (i.e. hmeqClassTree + [Score.py || .pickle]).\n",
      "    pPath : string, optional\n",
      "        File location for the output pickle file. Default is the current\n",
      "        working directory.\n",
      "    isH2OModel : boolean, optional\n",
      "        Sets whether the model file is an H2O.ai MOJO file. If set as True, \n",
      "        the MOJO file will be gzipped before uploading to SAS Model Manager.\n",
      "        The default value is False.\n",
      "                    \n",
      "            Yields\n",
      "            ---------------\n",
      "            '*.pickle'\n",
      "                    Binary pickle file containing a trained model.\n",
      "    '*.mojo'\n",
      "        Archived H2O.ai MOJO file containing a trained model.\n",
      "\n"
     ]
    }
   ],
   "source": [
    "help(pzmm.PickleModel.pickleTrainedModel)"
   ]
  },
  {
   "cell_type": "code",
   "execution_count": 59,
   "metadata": {},
   "outputs": [],
   "source": [
    "modelPrefix_RF='hmeqForest_pzmm'\n",
    "PickleModel=pzmm.PickleModel()\n",
    "PickleModel.pickleTrainedModel(trainedModel_RF,modelPrefix_RF,zipFolder_RF)\n",
    "modelPrefix_XGB='hmeqXGB_pzmm'\n",
    "PickleModel.pickleTrainedModel(trainedModel_XGB, modelPrefix_XGB,zipFolder_XGB)"
   ]
  },
  {
   "cell_type": "code",
   "execution_count": 60,
   "metadata": {},
   "outputs": [],
   "source": [
    "#Forest\n",
    "from sasctl import pzmm as pzmm\n",
    "JSONFiles = pzmm.JSONFiles()\n",
    "JSONFiles.writeVarJSON(df[df.columns.difference(target)], isInput=True, jPath=zipFolder_RF)\n",
    "\n",
    "JSONFiles.writeVarJSON(outputVar_RF, isInput=False, jPath=zipFolder_RF)\n",
    "\n",
    "modelName = 'Home Equity Loan Classification Forest'\n",
    "JSONFiles.writeModelPropertiesJSON(modelName=modelName,\n",
    "                                        modelDesc='',\n",
    "                                        targetVariable=targetName,\n",
    "                                        modelType='Random Forest',\n",
    "                                        modelPredictors=(inputs),\n",
    "                                        targetEvent=yCategory_RF[1].astype('str'),\n",
    "                                        numTargetCategories=len(yCategory_RF),\n",
    "                                        eventProbVar='EM_EVENTPROBABILITY',\n",
    "                                        jPath=zipFolder_RF)\n",
    "\n",
    "JSONFiles.writeFileMetadataJSON(modelPrefix_RF, jPath=zipFolder_RF)"
   ]
  },
  {
   "cell_type": "code",
   "execution_count": 61,
   "metadata": {},
   "outputs": [],
   "source": [
    "#XGB\n",
    "JSONFiles = pzmm.JSONFiles()\n",
    "JSONFiles.writeVarJSON(df[df.columns.difference(target)], isInput=True, jPath=zipFolder_XGB)\n",
    "\n",
    "JSONFiles.writeVarJSON(outputVar_XGB, isInput=False, jPath=zipFolder_XGB)\n",
    "\n",
    "modelName = 'Home Equity Loan Classification XGB'\n",
    "JSONFiles.writeModelPropertiesJSON(modelName=modelName,\n",
    "                                        modelDesc='',\n",
    "                                        targetVariable=targetName,\n",
    "                                        modelType='Gradient Boosting',\n",
    "                                        modelPredictors=(inputs),\n",
    "                                        targetEvent=yCategory_XGB[1].astype('str'),\n",
    "                                        numTargetCategories=len(yCategory_XGB),\n",
    "                                        eventProbVar='EM_EVENTPROBABILITY',\n",
    "                                        jPath=zipFolder_XGB)\n",
    "\n",
    "JSONFiles.writeFileMetadataJSON(modelPrefix_XGB, jPath=zipFolder_XGB)"
   ]
  },
  {
   "cell_type": "code",
   "execution_count": 62,
   "metadata": {},
   "outputs": [],
   "source": [
    "from pathlib import Path"
   ]
  },
  {
   "cell_type": "code",
   "execution_count": 63,
   "metadata": {},
   "outputs": [],
   "source": [
    "#Create a swat connection for pzmm\n",
    "# sess=Session('viya4demo01.canadacentral.cloudapp.azure.com', user, pwd)\n",
    "conn=sess.as_swat()"
   ]
  },
  {
   "cell_type": "code",
   "execution_count": 64,
   "metadata": {
    "scrolled": false
   },
   "outputs": [],
   "source": [
    "#Generate Metrics: RFor\n",
    "yTrainActual_RF = Prod_y_train\n",
    "yTrainPredict_RF = trainedModel_RF.predict_proba(Prod_X_train)\n",
    "# yTrainPredict_XGB=y_TrainPredict_XGB.tolist()\n",
    "traindf=pd.concat([yTrainActual_RF.reset_index(drop=True),pd.Series(data=yTrainPredict_RF[:,1])],axis=1)\n",
    "\n",
    "yTestActual_RF = Prod_y_test\n",
    "yTestPredict_RF = trainedModel_RF.predict_proba(Prod_X_test)\n",
    "# yTestPredict_XGB=y_TestPredict_XGB.tolist()\n",
    "testdf=pd.concat([yTestActual_RF.reset_index(drop=True),pd.Series(data=yTestPredict_RF[:,1])],axis=1)\n",
    "\n",
    "# data=[(None,None),(yTrainActual_RF, yTrainPredict_RF),(yTestActual_RF, yTestPredict_RF)]\n",
    "\n",
    "JSONFiles = pzmm.JSONFiles()\n",
    "jsonPath = zipFolder_RF\n",
    "JSONFiles.calculateFitStat(trainData=traindf,testData=testdf,jPath=jsonPath)\n",
    "JSONFiles.generateROCLiftStat(targetName,1,conn,trainData=traindf,testData=testdf, jPath=jsonPath)\n",
    "\n",
    "# JSONFiles.generateROCStat(data, targetName, jsonPath)\n",
    "# JSONFiles.generateLiftStat(data, targetName, targetValue, jsonPath)"
   ]
  },
  {
   "cell_type": "code",
   "execution_count": 65,
   "metadata": {},
   "outputs": [
    {
     "name": "stdout",
     "output_type": "stream",
     "text": [
      "<class 'pandas.core.frame.DataFrame'>\n",
      "Int64Index: 3993 entries, 4318 to 5788\n",
      "Data columns (total 1 columns):\n",
      " #   Column  Non-Null Count  Dtype   \n",
      "---  ------  --------------  -----   \n",
      " 0   BAD     3993 non-null   category\n",
      "dtypes: category(1)\n",
      "memory usage: 35.2 KB\n"
     ]
    }
   ],
   "source": [
    "yTrainActual_RF.info()"
   ]
  },
  {
   "cell_type": "code",
   "execution_count": 66,
   "metadata": {},
   "outputs": [],
   "source": [
    "#Generate Metrics: XGB\n",
    "yTrainActual_XGB = Prod_y_train\n",
    "yTrainPredict_XGB = trainedModel_XGB.predict_proba(Prod_X_train)\n",
    "# yTrainPredict_XGB=y_TrainPredict_XGB.tolist()\n",
    "traindf=pd.concat([yTrainActual_XGB.reset_index(drop=True),pd.Series(data=yTrainPredict_XGB[:,1])],axis=1)\n",
    "\n",
    "yTestActual_XGB = Prod_y_test\n",
    "yTestPredict_XGB = trainedModel_XGB.predict_proba(Prod_X_test)\n",
    "# yTestPredict_XGB=y_TestPredict_XGB.tolist()\n",
    "testdf=pd.concat([yTestActual_XGB.reset_index(drop=True),pd.Series(data=yTestPredict_XGB[:,1])],axis=1)\n",
    "\n",
    "# data=[(None,None),(yTrainActual_XGB, yTrainPredict_XGB),(yTestActual_XGB, yTestPredict_XGB)]\n",
    "\n",
    "JSONFiles = pzmm.JSONFiles()\n",
    "jsonPath = zipFolder_XGB\n",
    "JSONFiles.calculateFitStat(trainData=traindf,testData=testdf,jPath=jsonPath)\n",
    "JSONFiles.generateROCLiftStat(targetName,1,conn,trainData=traindf,testData=testdf, jPath=jsonPath)\n",
    "\n",
    "\n",
    "# JSONFiles.generateROCStat(data, targetName, jsonPath)\n",
    "# JSONFiles.generateLiftStat(data, targetName, targetValue, jsonPath)"
   ]
  },
  {
   "cell_type": "markdown",
   "metadata": {},
   "source": [
    "# ZIP models and dependencies"
   ]
  },
  {
   "cell_type": "code",
   "execution_count": 67,
   "metadata": {
    "scrolled": false
   },
   "outputs": [
    {
     "name": "stdout",
     "output_type": "stream",
     "text": [
      "Help on function zipFiles in module sasctl.pzmm.zipModel:\n",
      "\n",
      "zipFiles(fileDir, modelPrefix)\n",
      "    Combines all JSON files with the model pickle file and associated score code file\n",
      "    into a single archive ZIP file.\n",
      "    \n",
      "    Parameters\n",
      "    ---------------\n",
      "    fileDir : string\n",
      "        Location of *.json, *.pickle, and *Score.py files.\n",
      "    modelPrefix : string\n",
      "        Variable name for the model to be displayed in SAS Open Model Manager \n",
      "        (i.e. hmeqClassTree + [Score.py || .pickle]).\n",
      "        \n",
      "    Yields\n",
      "    ---------------\n",
      "    '*.zip'\n",
      "        Archived ZIP file for importing into SAS Open Model Manager. In this form,\n",
      "        the ZIP file can be imported into SAS Open Model Manager.\n",
      "\n"
     ]
    }
   ],
   "source": [
    "help(pzmm.ZipModel.zipFiles)"
   ]
  },
  {
   "cell_type": "code",
   "execution_count": 68,
   "metadata": {
    "scrolled": true
   },
   "outputs": [
    {
     "data": {
      "text/plain": [
       "<_io.BytesIO at 0x1d6167695c8>"
      ]
     },
     "execution_count": 68,
     "metadata": {},
     "output_type": "execute_result"
    }
   ],
   "source": [
    "#ZipModel\n",
    "ZipModel=pzmm.ZipModel()\n",
    "ZipModel.zipFiles(fileDir=zipFolder_RF, modelPrefix=modelPrefix_RF)\n",
    "ZipModel.zipFiles(fileDir=zipFolder_XGB, modelPrefix=modelPrefix_XGB)"
   ]
  },
  {
   "cell_type": "markdown",
   "metadata": {},
   "source": [
    "# Push zipped models into SAS Model Manager"
   ]
  },
  {
   "cell_type": "code",
   "execution_count": 69,
   "metadata": {},
   "outputs": [],
   "source": [
    "ModelImport = pzmm.ImportModel()"
   ]
  },
  {
   "cell_type": "code",
   "execution_count": 70,
   "metadata": {},
   "outputs": [
    {
     "name": "stdout",
     "output_type": "stream",
     "text": [
      "Help on class ImportModel in module sasctl.pzmm.importModel:\n",
      "\n",
      "class ImportModel(builtins.object)\n",
      " |  Class methods defined here:\n",
      " |  \n",
      " |  pzmmImportModel(zPath, modelPrefix, project, inputDF, targetDF, predictmethod, metrics=['EM_EVENTPROBABILITY', 'EM_CLASSIFICATION'], modelFileName=None, pyPath=None, threshPrediction=None, otherVariable=False, isH2OModel=False) from builtins.type\n",
      " |      Import model to SAS Model Manager using pzmm submodule.\n",
      " |      \n",
      " |      Using pzmm, generate Python score code and import the model files into \n",
      " |      SAS Model Manager. This function automatically checks the version of SAS\n",
      " |      Viya being used through the sasctl Session object and creates the appropriate\n",
      " |      score code and API calls required for the model and its associated content to \n",
      " |      be registered in SAS Model Manager.\n",
      " |      \n",
      " |      Parameters\n",
      " |      ----------\n",
      " |      zPath : string or Path\n",
      " |          Directory location of the files to be zipped and imported as a model.\n",
      " |      modelPrefix : string\n",
      " |          The variable for the model name that is used when naming model files.\n",
      " |          (For example: hmeqClassTree + [Score.py || .pickle]).\n",
      " |      project : str or dict\n",
      " |          The name or id of the model project, or a dictionary\n",
      " |          representation of the project.\n",
      " |      inputDF : DataFrame\n",
      " |          The `DataFrame` object contains the training data, and includes only the predictor\n",
      " |          columns. The writeScoreCode function currently supports int(64), float(64),\n",
      " |          and string data types for scoring.\n",
      " |      targetDF : DataFrame\n",
      " |          The `DataFrame` object contains the training data for the target variable.\n",
      " |      predictMethod : string\n",
      " |          User-defined prediction method for score testing. This should be\n",
      " |          in a form such that the model and data input can be added using \n",
      " |          the format() command. \n",
      " |          For example: '{}.predict_proba({})'.\n",
      " |      metrics : string list, optional\n",
      " |          The scoring metrics for the model. The default is a set of two\n",
      " |          metrics: EM_EVENTPROBABILITY and EM_CLASSIFICATION.        \n",
      " |      modelFileName : string, optional\n",
      " |          Name of the model file that contains the model. By default None and assigned as\n",
      " |          modelPrefix + '.pickle'.\n",
      " |      pyPath : string, optional\n",
      " |          The local path of the score code file. By default None and assigned as the zPath.\n",
      " |      threshPrediction : float, optional\n",
      " |          The prediction threshold for probability metrics. For classification,\n",
      " |          below this threshold is a 0 and above is a 1.\n",
      " |      otherVariable : boolean, optional\n",
      " |          The option for having a categorical other value for catching missing\n",
      " |          values or values not found in the training data set. The default setting\n",
      " |          is False.\n",
      " |      isH2OModel : boolean, optional\n",
      " |          Sets whether the model is an H2O.ai Python model. By default False.\n",
      " |          \n",
      " |      Yields\n",
      " |      ------\n",
      " |      '*Score.py'\n",
      " |          The Python score code file for the model.\n",
      " |      '*.zip'\n",
      " |          The zip archive of the relevant model files. In Viya 3.5 the Python score\n",
      " |          code is not present in this initial zip file.\n",
      " |  \n",
      " |  ----------------------------------------------------------------------\n",
      " |  Data descriptors defined here:\n",
      " |  \n",
      " |  __dict__\n",
      " |      dictionary for instance variables (if defined)\n",
      " |  \n",
      " |  __weakref__\n",
      " |      list of weak references to the object (if defined)\n",
      "\n"
     ]
    }
   ],
   "source": [
    "help(pzmm.ImportModel)"
   ]
  },
  {
   "cell_type": "code",
   "execution_count": 73,
   "metadata": {},
   "outputs": [],
   "source": [
    "##### Push Forest Model into SAS Model Manager\n",
    "# zPath = Path(zipFolder_RF) / (modelPrefix_RF +'.zip')\n",
    "with sess:\n",
    "    ModelImport.pzmmImportModel(zPath= Path.cwd()/'Model'/'Random_Forest',\n",
    "                                modelPrefix=modelPrefix_RF+'new',\n",
    "                                project='HMEQ', \n",
    "                                inputDF=df[df.columns.difference(target)],\n",
    "                                targetDF=df[target],\n",
    "                                predictmethod= '{}.predict({})',\n",
    "                                isH2OModel=False)"
   ]
  },
  {
   "cell_type": "code",
   "execution_count": 72,
   "metadata": {
    "collapsed": true
   },
   "outputs": [
    {
     "ename": "HTTPError",
     "evalue": "HTTP Error 409: {\"errorCode\":21201,\"message\":\"The name \\\"hmeqXGB_pzmm\\\" is already in use in the selected folder. Enter a unique name.\",\"details\":[\"traceId: 641a91736afe3771\",\"path: /modelRepository/models\"],\"links\":[],\"version\":2,\"httpStatusCode\":409}",
     "output_type": "error",
     "traceback": [
      "\u001b[1;31m---------------------------------------------------------------------------\u001b[0m",
      "\u001b[1;31mHTTPError\u001b[0m                                 Traceback (most recent call last)",
      "\u001b[1;32m<ipython-input-72-bf5042cbca1b>\u001b[0m in \u001b[0;36m<module>\u001b[1;34m\u001b[0m\n\u001b[0;32m      7\u001b[0m                                 \u001b[0mtargetDF\u001b[0m\u001b[1;33m=\u001b[0m\u001b[0mdf\u001b[0m\u001b[1;33m[\u001b[0m\u001b[0mtarget\u001b[0m\u001b[1;33m]\u001b[0m\u001b[1;33m,\u001b[0m\u001b[1;33m\u001b[0m\u001b[1;33m\u001b[0m\u001b[0m\n\u001b[0;32m      8\u001b[0m                                 \u001b[0mpredictmethod\u001b[0m\u001b[1;33m=\u001b[0m \u001b[1;34m'{}.predict({})'\u001b[0m\u001b[1;33m,\u001b[0m\u001b[1;33m\u001b[0m\u001b[1;33m\u001b[0m\u001b[0m\n\u001b[1;32m----> 9\u001b[1;33m                                 isH2OModel=False)\n\u001b[0m",
      "\u001b[1;32m~\\AppData\\Local\\Continuum\\anaconda3\\lib\\site-packages\\sasctl\\pzmm\\importModel.py\u001b[0m in \u001b[0;36mpzmmImportModel\u001b[1;34m(cls, zPath, modelPrefix, project, inputDF, targetDF, predictmethod, metrics, modelFileName, pyPath, threshPrediction, otherVariable, isH2OModel)\u001b[0m\n\u001b[0;32m     86\u001b[0m                               otherVariable=otherVariable, isH2OModel=isH2OModel)\n\u001b[0;32m     87\u001b[0m             \u001b[0mzipIOFile\u001b[0m \u001b[1;33m=\u001b[0m \u001b[0mzm\u001b[0m\u001b[1;33m.\u001b[0m\u001b[0mzipFiles\u001b[0m\u001b[1;33m(\u001b[0m\u001b[0mPath\u001b[0m\u001b[1;33m(\u001b[0m\u001b[0mzPath\u001b[0m\u001b[1;33m)\u001b[0m\u001b[1;33m,\u001b[0m \u001b[0mmodelPrefix\u001b[0m\u001b[1;33m)\u001b[0m\u001b[1;33m\u001b[0m\u001b[1;33m\u001b[0m\u001b[0m\n\u001b[1;32m---> 88\u001b[1;33m             \u001b[0mresponse\u001b[0m \u001b[1;33m=\u001b[0m \u001b[0mmr\u001b[0m\u001b[1;33m.\u001b[0m\u001b[0mimport_model_from_zip\u001b[0m\u001b[1;33m(\u001b[0m\u001b[0mmodelPrefix\u001b[0m\u001b[1;33m,\u001b[0m \u001b[0mproject\u001b[0m\u001b[1;33m,\u001b[0m \u001b[0mzipIOFile\u001b[0m\u001b[1;33m)\u001b[0m\u001b[1;33m\u001b[0m\u001b[1;33m\u001b[0m\u001b[0m\n\u001b[0m\u001b[0;32m     89\u001b[0m         \u001b[1;32melse\u001b[0m\u001b[1;33m:\u001b[0m\u001b[1;33m\u001b[0m\u001b[1;33m\u001b[0m\u001b[0m\n\u001b[0;32m     90\u001b[0m             \u001b[0mzipIOFile\u001b[0m \u001b[1;33m=\u001b[0m \u001b[0mzm\u001b[0m\u001b[1;33m.\u001b[0m\u001b[0mzipFiles\u001b[0m\u001b[1;33m(\u001b[0m\u001b[0mPath\u001b[0m\u001b[1;33m(\u001b[0m\u001b[0mzPath\u001b[0m\u001b[1;33m)\u001b[0m\u001b[1;33m,\u001b[0m \u001b[0mmodelPrefix\u001b[0m\u001b[1;33m)\u001b[0m\u001b[1;33m\u001b[0m\u001b[1;33m\u001b[0m\u001b[0m\n",
      "\u001b[1;32m~\\AppData\\Local\\Continuum\\anaconda3\\lib\\site-packages\\sasctl\\_services\\model_repository.py\u001b[0m in \u001b[0;36mimport_model_from_zip\u001b[1;34m(cls, name, project, file, description, version)\u001b[0m\n\u001b[0;32m    486\u001b[0m                      \u001b[0mdata\u001b[0m\u001b[1;33m=\u001b[0m\u001b[0mfile\u001b[0m\u001b[1;33m.\u001b[0m\u001b[0mread\u001b[0m\u001b[1;33m(\u001b[0m\u001b[1;33m)\u001b[0m\u001b[1;33m,\u001b[0m\u001b[1;33m\u001b[0m\u001b[1;33m\u001b[0m\u001b[0m\n\u001b[0;32m    487\u001b[0m                      \u001b[0mparams\u001b[0m\u001b[1;33m=\u001b[0m\u001b[0mparams\u001b[0m\u001b[1;33m,\u001b[0m\u001b[1;33m\u001b[0m\u001b[1;33m\u001b[0m\u001b[0m\n\u001b[1;32m--> 488\u001b[1;33m                      headers={'Content-Type': 'application/octet-stream'})\n\u001b[0m\u001b[0;32m    489\u001b[0m         \u001b[1;32mreturn\u001b[0m \u001b[0mr\u001b[0m\u001b[1;33m\u001b[0m\u001b[1;33m\u001b[0m\u001b[0m\n\u001b[0;32m    490\u001b[0m \u001b[1;33m\u001b[0m\u001b[0m\n",
      "\u001b[1;32m~\\AppData\\Local\\Continuum\\anaconda3\\lib\\site-packages\\sasctl\\_services\\service.py\u001b[0m in \u001b[0;36mpost\u001b[1;34m(cls, *args, **kwargs)\u001b[0m\n\u001b[0;32m    116\u001b[0m     \u001b[1;32mdef\u001b[0m \u001b[0mpost\u001b[0m\u001b[1;33m(\u001b[0m\u001b[0mcls\u001b[0m\u001b[1;33m,\u001b[0m \u001b[1;33m*\u001b[0m\u001b[0margs\u001b[0m\u001b[1;33m,\u001b[0m \u001b[1;33m**\u001b[0m\u001b[0mkwargs\u001b[0m\u001b[1;33m)\u001b[0m\u001b[1;33m:\u001b[0m\u001b[1;33m\u001b[0m\u001b[1;33m\u001b[0m\u001b[0m\n\u001b[0;32m    117\u001b[0m         \u001b[1;34m\"\"\"Send a POST request.\"\"\"\u001b[0m\u001b[1;33m\u001b[0m\u001b[1;33m\u001b[0m\u001b[0m\n\u001b[1;32m--> 118\u001b[1;33m         \u001b[1;32mreturn\u001b[0m \u001b[0mcls\u001b[0m\u001b[1;33m.\u001b[0m\u001b[0mrequest\u001b[0m\u001b[1;33m(\u001b[0m\u001b[1;34m'post'\u001b[0m\u001b[1;33m,\u001b[0m \u001b[1;33m*\u001b[0m\u001b[0margs\u001b[0m\u001b[1;33m,\u001b[0m \u001b[1;33m**\u001b[0m\u001b[0mkwargs\u001b[0m\u001b[1;33m)\u001b[0m\u001b[1;33m\u001b[0m\u001b[1;33m\u001b[0m\u001b[0m\n\u001b[0m\u001b[0;32m    119\u001b[0m \u001b[1;33m\u001b[0m\u001b[0m\n\u001b[0;32m    120\u001b[0m     \u001b[1;33m@\u001b[0m\u001b[0mclassmethod\u001b[0m\u001b[1;33m\u001b[0m\u001b[1;33m\u001b[0m\u001b[0m\n",
      "\u001b[1;32m~\\AppData\\Local\\Continuum\\anaconda3\\lib\\site-packages\\sasctl\\_services\\service.py\u001b[0m in \u001b[0;36mrequest\u001b[1;34m(cls, verb, path, session, raw, format, **kwargs)\u001b[0m\n\u001b[0;32m     96\u001b[0m             \u001b[0mpath\u001b[0m \u001b[1;33m=\u001b[0m \u001b[0mcls\u001b[0m\u001b[1;33m.\u001b[0m\u001b[0m_SERVICE_ROOT\u001b[0m \u001b[1;33m+\u001b[0m \u001b[1;34m'/'\u001b[0m \u001b[1;33m+\u001b[0m \u001b[0mpath\u001b[0m\u001b[1;33m\u001b[0m\u001b[1;33m\u001b[0m\u001b[0m\n\u001b[0;32m     97\u001b[0m \u001b[1;33m\u001b[0m\u001b[0m\n\u001b[1;32m---> 98\u001b[1;33m         \u001b[1;32mreturn\u001b[0m \u001b[0mcore\u001b[0m\u001b[1;33m.\u001b[0m\u001b[0mrequest\u001b[0m\u001b[1;33m(\u001b[0m\u001b[0mverb\u001b[0m\u001b[1;33m,\u001b[0m \u001b[0mpath\u001b[0m\u001b[1;33m,\u001b[0m \u001b[0msession\u001b[0m\u001b[1;33m,\u001b[0m \u001b[0mraw\u001b[0m\u001b[1;33m,\u001b[0m \u001b[0mformat\u001b[0m\u001b[1;33m,\u001b[0m \u001b[1;33m**\u001b[0m\u001b[0mkwargs\u001b[0m\u001b[1;33m)\u001b[0m\u001b[1;33m\u001b[0m\u001b[1;33m\u001b[0m\u001b[0m\n\u001b[0m\u001b[0;32m     99\u001b[0m \u001b[1;33m\u001b[0m\u001b[0m\n\u001b[0;32m    100\u001b[0m     \u001b[1;33m@\u001b[0m\u001b[0mclassmethod\u001b[0m\u001b[1;33m\u001b[0m\u001b[1;33m\u001b[0m\u001b[0m\n",
      "\u001b[1;32m~\\AppData\\Local\\Continuum\\anaconda3\\lib\\site-packages\\sasctl\\core.py\u001b[0m in \u001b[0;36mrequest\u001b[1;34m(verb, path, session, raw, format, **kwargs)\u001b[0m\n\u001b[0;32m   1279\u001b[0m     \u001b[1;32mif\u001b[0m \u001b[1;36m400\u001b[0m \u001b[1;33m<=\u001b[0m \u001b[0mresponse\u001b[0m\u001b[1;33m.\u001b[0m\u001b[0mstatus_code\u001b[0m \u001b[1;33m<=\u001b[0m \u001b[1;36m599\u001b[0m\u001b[1;33m:\u001b[0m\u001b[1;33m\u001b[0m\u001b[1;33m\u001b[0m\u001b[0m\n\u001b[0;32m   1280\u001b[0m         raise HTTPError(\n\u001b[1;32m-> 1281\u001b[1;33m             \u001b[0mresponse\u001b[0m\u001b[1;33m.\u001b[0m\u001b[0murl\u001b[0m\u001b[1;33m,\u001b[0m \u001b[0mresponse\u001b[0m\u001b[1;33m.\u001b[0m\u001b[0mstatus_code\u001b[0m\u001b[1;33m,\u001b[0m \u001b[0mresponse\u001b[0m\u001b[1;33m.\u001b[0m\u001b[0mtext\u001b[0m\u001b[1;33m,\u001b[0m \u001b[0mresponse\u001b[0m\u001b[1;33m.\u001b[0m\u001b[0mheaders\u001b[0m\u001b[1;33m,\u001b[0m \u001b[1;32mNone\u001b[0m\u001b[1;33m\u001b[0m\u001b[1;33m\u001b[0m\u001b[0m\n\u001b[0m\u001b[0;32m   1282\u001b[0m         )\n\u001b[0;32m   1283\u001b[0m \u001b[1;33m\u001b[0m\u001b[0m\n",
      "\u001b[1;31mHTTPError\u001b[0m: HTTP Error 409: {\"errorCode\":21201,\"message\":\"The name \\\"hmeqXGB_pzmm\\\" is already in use in the selected folder. Enter a unique name.\",\"details\":[\"traceId: 641a91736afe3771\",\"path: /modelRepository/models\"],\"links\":[],\"version\":2,\"httpStatusCode\":409}"
     ]
    }
   ],
   "source": [
    "#Push XGB Model into SAS Model Manager\n",
    "with sess:\n",
    "    ModelImport.pzmmImportModel(zPath= zipFolder_XGB,\n",
    "                                modelPrefix=modelPrefix_XGB,\n",
    "                                project='HMEQ', \n",
    "                                inputDF=df[df.columns.difference(target)],\n",
    "                                targetDF=df[target],\n",
    "                                predictmethod= '{}.predict({})',\n",
    "                                isH2OModel=False)"
   ]
  },
  {
   "cell_type": "markdown",
   "metadata": {},
   "source": [
    "# USING PMML TO WRAP A MODEL TO BE IMPORTED TO SAS MM"
   ]
  },
  {
   "cell_type": "code",
   "execution_count": 109,
   "metadata": {},
   "outputs": [
    {
     "name": "stdout",
     "output_type": "stream",
     "text": [
      "Collecting git+https://github.com/jpmml/sklearn2pmml.git\n",
      "  Cloning https://github.com/jpmml/sklearn2pmml.git to c:\\users\\canyzn\\appdata\\local\\temp\\pip-req-build-qyswrfhs\n",
      "Requirement already satisfied, skipping upgrade: joblib>=0.13.0 in c:\\users\\canyzn\\appdata\\local\\continuum\\anaconda3\\lib\\site-packages (from sklearn2pmml==0.71.1) (0.15.1)\n",
      "Requirement already satisfied, skipping upgrade: scikit-learn>=0.18.0 in c:\\users\\canyzn\\appdata\\local\\continuum\\anaconda3\\lib\\site-packages (from sklearn2pmml==0.71.1) (0.24.1)\n",
      "Requirement already satisfied, skipping upgrade: sklearn-pandas>=0.0.10 in c:\\users\\canyzn\\appdata\\roaming\\python\\python37\\site-packages (from sklearn2pmml==0.71.1) (1.8.0)\n",
      "Requirement already satisfied, skipping upgrade: threadpoolctl>=2.0.0 in c:\\users\\canyzn\\appdata\\local\\continuum\\anaconda3\\lib\\site-packages (from scikit-learn>=0.18.0->sklearn2pmml==0.71.1) (2.1.0)\n",
      "Requirement already satisfied, skipping upgrade: numpy>=1.13.3 in c:\\users\\canyzn\\appdata\\local\\continuum\\anaconda3\\lib\\site-packages (from scikit-learn>=0.18.0->sklearn2pmml==0.71.1) (1.18.1)\n",
      "Requirement already satisfied, skipping upgrade: scipy>=0.19.1 in c:\\users\\canyzn\\appdata\\local\\continuum\\anaconda3\\lib\\site-packages (from scikit-learn>=0.18.0->sklearn2pmml==0.71.1) (1.4.1)\n",
      "Requirement already satisfied, skipping upgrade: pandas>=0.11.0 in c:\\users\\canyzn\\appdata\\roaming\\python\\python37\\site-packages (from sklearn-pandas>=0.0.10->sklearn2pmml==0.71.1) (1.0.4)\n",
      "Requirement already satisfied, skipping upgrade: python-dateutil>=2.6.1 in c:\\users\\canyzn\\appdata\\local\\continuum\\anaconda3\\lib\\site-packages (from pandas>=0.11.0->sklearn-pandas>=0.0.10->sklearn2pmml==0.71.1) (2.8.0)\n",
      "Requirement already satisfied, skipping upgrade: pytz>=2017.2 in c:\\users\\canyzn\\appdata\\local\\continuum\\anaconda3\\lib\\site-packages (from pandas>=0.11.0->sklearn-pandas>=0.0.10->sklearn2pmml==0.71.1) (2020.1)\n",
      "Requirement already satisfied, skipping upgrade: six>=1.5 in c:\\users\\canyzn\\appdata\\local\\continuum\\anaconda3\\lib\\site-packages (from python-dateutil>=2.6.1->pandas>=0.11.0->sklearn-pandas>=0.0.10->sklearn2pmml==0.71.1) (1.15.0)\n",
      "Building wheels for collected packages: sklearn2pmml\n",
      "  Building wheel for sklearn2pmml (setup.py): started\n",
      "  Building wheel for sklearn2pmml (setup.py): finished with status 'done'\n",
      "  Stored in directory: C:\\Users\\canyzn\\AppData\\Local\\Temp\\pip-ephem-wheel-cache-0acemd6l\\wheels\\a5\\16\\28\\39a02d646759c3c329275b8553d0a4c8635c9ff7a5ee5c73ba\n",
      "Successfully built sklearn2pmml\n",
      "Installing collected packages: sklearn2pmml\n",
      "  Found existing installation: sklearn2pmml 0.52.0\n",
      "    Uninstalling sklearn2pmml-0.52.0:\n",
      "      Successfully uninstalled sklearn2pmml-0.52.0\n",
      "Successfully installed sklearn2pmml-0.71.1\n"
     ]
    },
    {
     "name": "stderr",
     "output_type": "stream",
     "text": [
      "  Running command git clone -q https://github.com/jpmml/sklearn2pmml.git 'C:\\Users\\canyzn\\AppData\\Local\\Temp\\pip-req-build-qyswrfhs'\n"
     ]
    }
   ],
   "source": [
    "#Import packages\n",
    "!pip install --upgrade git+https://github.com/jpmml/sklearn2pmml.git\n",
    "# from sklearn2pmml import sklearn2pmml\n",
    "from sklearn2pmml.pipeline import PMMLPipeline"
   ]
  },
  {
   "cell_type": "code",
   "execution_count": 110,
   "metadata": {},
   "outputs": [],
   "source": [
    "#Random Forest Pipeline - PMML\n",
    "class_inputs = list(df.select_dtypes('object').columns)\n",
    "numerical_inputs = list(df.select_dtypes(include=['int64', 'float32']).columns)\n",
    "\n",
    "# Preprocessing interval variables\n",
    "numeric_transformer = Pipeline(steps=[\n",
    "    \n",
    "    ('numerical_imputer', SimpleImputer(strategy='median'))\n",
    "])\n",
    "\n",
    "# Preprocessing categorical variables\n",
    "categorical_transformer = Pipeline(steps=[\n",
    "    \n",
    "    ('categorical_imputer', SimpleImputer(strategy='most_frequent')),\n",
    "    ('encoder', OneHotEncoder(handle_unknown='ignore'))\n",
    "    \n",
    "])\n",
    "\n",
    "# Create preprocessing step\n",
    "preprocessor = ColumnTransformer(transformers=[\n",
    "    \n",
    "    ('numericals', numeric_transformer, numerical_inputs),\n",
    "    ('categoricals', categorical_transformer, class_inputs)\n",
    "\n",
    "])\n",
    "\n",
    "rfor_pipeline = PMMLPipeline(steps=[\n",
    "    \n",
    "    ('preprocessor', preprocessor),\n",
    "    ('classifier', RandomForestClassifier(random_state=123))\n",
    "\n",
    "])"
   ]
  },
  {
   "cell_type": "code",
   "execution_count": 111,
   "metadata": {},
   "outputs": [],
   "source": [
    "#Test pipeline in production: Create training data\n",
    "Prod_X_train, Prod_X_test, Prod_y_train, Prod_y_test = model_selection.train_test_split(df[df.columns.difference(target)], \n",
    "                                                                    df[target], \n",
    "                                                                    test_size=0.33, random_state=27513)"
   ]
  },
  {
   "cell_type": "code",
   "execution_count": 112,
   "metadata": {
    "scrolled": true
   },
   "outputs": [
    {
     "name": "stderr",
     "output_type": "stream",
     "text": [
      "C:\\Users\\canyzn\\AppData\\Local\\Continuum\\anaconda3\\lib\\site-packages\\sklearn\\pipeline.py:346: DataConversionWarning: A column-vector y was passed when a 1d array was expected. Please change the shape of y to (n_samples,), for example using ravel().\n",
      "  self._final_estimator.fit(Xt, y, **fit_params_last_step)\n"
     ]
    },
    {
     "name": "stdout",
     "output_type": "stream",
     "text": [
      "Accuracy: 0.9166243009659379\n"
     ]
    }
   ],
   "source": [
    "# Fit the trained RFor pipeline\n",
    "rfor_pipeline.fit(Prod_X_train,Prod_y_train)\n",
    "y_pred_pmml=rfor_pipeline.predict(Prod_X_test)\n",
    "print(\"Accuracy:\",metrics.accuracy_score(Prod_y_test, y_pred_pmml))"
   ]
  },
  {
   "cell_type": "code",
   "execution_count": 114,
   "metadata": {},
   "outputs": [],
   "source": [
    "from sklearn2pmml import sklearn2pmml"
   ]
  },
  {
   "cell_type": "code",
   "execution_count": 115,
   "metadata": {},
   "outputs": [
    {
     "name": "stdout",
     "output_type": "stream",
     "text": [
      "PMML  down!\n"
     ]
    }
   ],
   "source": [
    "#Writing the PMML pipeline for Forest\n",
    "sklearn2pmml(rfor_pipeline, 'C:/Users/canyzn/Model/Random_Forest/hmeqForest_py_PMML.pmml', with_repr = True)\n",
    "print('PMML  down!')"
   ]
  },
  {
   "cell_type": "code",
   "execution_count": 119,
   "metadata": {},
   "outputs": [],
   "source": [
    "#XGBoost Pipeline\n",
    "class_inputs = list(df.select_dtypes('object').columns)\n",
    "numerical_inputs = list(df.select_dtypes(include=['int64', 'float32']).columns)\n",
    "\n",
    "# Preprocessing interval variables\n",
    "numeric_transformer = Pipeline(steps=[\n",
    "    \n",
    "    ('numerical_imputer', SimpleImputer(strategy='median'))\n",
    "])\n",
    "\n",
    "# Preprocessing categorical variables\n",
    "categorical_transformer = Pipeline(steps=[\n",
    "    \n",
    "    ('categorical_imputer', SimpleImputer(strategy='most_frequent')),\n",
    "    ('encoder', OneHotEncoder(handle_unknown='ignore'))\n",
    "    \n",
    "])\n",
    "\n",
    "# Create preprocessing step\n",
    "preprocessor = ColumnTransformer(transformers=[\n",
    "    \n",
    "    ('numericals', numeric_transformer, numerical_inputs),\n",
    "    ('categoricals', categorical_transformer, class_inputs)\n",
    "\n",
    "])\n",
    "\n",
    "xgb_pipeline = PMMLPipeline(steps=[\n",
    "    \n",
    "    ('preprocessor', preprocessor),\n",
    "    ('classifier', XGBClassifier(random_state=123))\n",
    "\n",
    "])\n"
   ]
  },
  {
   "cell_type": "code",
   "execution_count": 120,
   "metadata": {},
   "outputs": [
    {
     "name": "stderr",
     "output_type": "stream",
     "text": [
      "C:\\Users\\canyzn\\AppData\\Local\\Continuum\\anaconda3\\lib\\site-packages\\sklearn\\utils\\validation.py:63: DataConversionWarning: A column-vector y was passed when a 1d array was expected. Please change the shape of y to (n_samples, ), for example using ravel().\n",
      "  return f(*args, **kwargs)\n"
     ]
    },
    {
     "name": "stdout",
     "output_type": "stream",
     "text": [
      "Accuracy: 0.8993390950686324\n"
     ]
    }
   ],
   "source": [
    "# Fit the trained RFor pipeline\n",
    "xgb_pipeline.fit(Prod_X_train,Prod_y_train)\n",
    "y_pred_pmml=xgb_pipeline.predict(Prod_X_test)\n",
    "print(\"Accuracy:\",metrics.accuracy_score(Prod_y_test, y_pred_pmml))"
   ]
  },
  {
   "cell_type": "code",
   "execution_count": 122,
   "metadata": {},
   "outputs": [
    {
     "name": "stdout",
     "output_type": "stream",
     "text": [
      "PMML  down!\n"
     ]
    }
   ],
   "source": [
    "#Writing the PMML pipeline for Forest\n",
    "sklearn2pmml(xgb_pipeline, 'C:/Users/canyzn/Model/XGBoost/hmeqXGB_py_PMML.pmml', with_repr = True)\n",
    "print('PMML  down!')"
   ]
  },
  {
   "cell_type": "code",
   "execution_count": null,
   "metadata": {},
   "outputs": [],
   "source": []
  }
 ],
 "metadata": {
  "kernelspec": {
   "display_name": "Python 3",
   "language": "python",
   "name": "python3"
  },
  "language_info": {
   "codemirror_mode": {
    "name": "ipython",
    "version": 3
   },
   "file_extension": ".py",
   "mimetype": "text/x-python",
   "name": "python",
   "nbconvert_exporter": "python",
   "pygments_lexer": "ipython3",
   "version": "3.7.3"
  }
 },
 "nbformat": 4,
 "nbformat_minor": 2
}
